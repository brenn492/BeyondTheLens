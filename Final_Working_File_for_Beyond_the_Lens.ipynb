{
  "nbformat": 4,
  "nbformat_minor": 0,
  "metadata": {
    "colab": {
      "provenance": []
    },
    "kernelspec": {
      "name": "python3",
      "display_name": "Python 3"
    },
    "language_info": {
      "name": "python"
    }
  },
  "cells": [
    {
      "cell_type": "markdown",
      "source": [
        "# General Cleaning of Surveillance Dataset\n",
        "\n",
        "Google Link to dataset: https://docs.google.com/spreadsheets/d/1cUYc2P5n9hJSvUgdsnBq8tZPUu__oipxZTK_bE24LOo/edit#gid=766505778\n",
        "\n",
        "Source of dataset: https://atlasofsurveillance.org/library\n"
      ],
      "metadata": {
        "id": "5FzJDNjE7Ubz"
      }
    },
    {
      "cell_type": "code",
      "source": [
        "#import .csv\n",
        "\n",
        "from google.colab import files\n",
        "uploaded = files.upload()\n",
        "\n",
        "import pandas as pd\n",
        "import numpy as np\n",
        "import re\n",
        "import csv\n",
        "import matplotlib.pyplot as plt\n",
        "\n",
        "SurveillanceData = \"SurveillanceData.csv\"\n",
        "df = pd.read_csv(SurveillanceData, delimiter=\",\")\n",
        "df.head(10)"
      ],
      "metadata": {
        "colab": {
          "base_uri": "https://localhost:8080/",
          "height": 1000
        },
        "id": "lMBGzZcj11A5",
        "outputId": "a2e94cce-9fe0-4a0e-ebb0-f58290b5c55a"
      },
      "execution_count": null,
      "outputs": [
        {
          "output_type": "display_data",
          "data": {
            "text/plain": [
              "<IPython.core.display.HTML object>"
            ],
            "text/html": [
              "\n",
              "     <input type=\"file\" id=\"files-6d076493-ea05-4a33-b8b2-820b6e78c9e6\" name=\"files[]\" multiple disabled\n",
              "        style=\"border:none\" />\n",
              "     <output id=\"result-6d076493-ea05-4a33-b8b2-820b6e78c9e6\">\n",
              "      Upload widget is only available when the cell has been executed in the\n",
              "      current browser session. Please rerun this cell to enable.\n",
              "      </output>\n",
              "      <script>// Copyright 2017 Google LLC\n",
              "//\n",
              "// Licensed under the Apache License, Version 2.0 (the \"License\");\n",
              "// you may not use this file except in compliance with the License.\n",
              "// You may obtain a copy of the License at\n",
              "//\n",
              "//      http://www.apache.org/licenses/LICENSE-2.0\n",
              "//\n",
              "// Unless required by applicable law or agreed to in writing, software\n",
              "// distributed under the License is distributed on an \"AS IS\" BASIS,\n",
              "// WITHOUT WARRANTIES OR CONDITIONS OF ANY KIND, either express or implied.\n",
              "// See the License for the specific language governing permissions and\n",
              "// limitations under the License.\n",
              "\n",
              "/**\n",
              " * @fileoverview Helpers for google.colab Python module.\n",
              " */\n",
              "(function(scope) {\n",
              "function span(text, styleAttributes = {}) {\n",
              "  const element = document.createElement('span');\n",
              "  element.textContent = text;\n",
              "  for (const key of Object.keys(styleAttributes)) {\n",
              "    element.style[key] = styleAttributes[key];\n",
              "  }\n",
              "  return element;\n",
              "}\n",
              "\n",
              "// Max number of bytes which will be uploaded at a time.\n",
              "const MAX_PAYLOAD_SIZE = 100 * 1024;\n",
              "\n",
              "function _uploadFiles(inputId, outputId) {\n",
              "  const steps = uploadFilesStep(inputId, outputId);\n",
              "  const outputElement = document.getElementById(outputId);\n",
              "  // Cache steps on the outputElement to make it available for the next call\n",
              "  // to uploadFilesContinue from Python.\n",
              "  outputElement.steps = steps;\n",
              "\n",
              "  return _uploadFilesContinue(outputId);\n",
              "}\n",
              "\n",
              "// This is roughly an async generator (not supported in the browser yet),\n",
              "// where there are multiple asynchronous steps and the Python side is going\n",
              "// to poll for completion of each step.\n",
              "// This uses a Promise to block the python side on completion of each step,\n",
              "// then passes the result of the previous step as the input to the next step.\n",
              "function _uploadFilesContinue(outputId) {\n",
              "  const outputElement = document.getElementById(outputId);\n",
              "  const steps = outputElement.steps;\n",
              "\n",
              "  const next = steps.next(outputElement.lastPromiseValue);\n",
              "  return Promise.resolve(next.value.promise).then((value) => {\n",
              "    // Cache the last promise value to make it available to the next\n",
              "    // step of the generator.\n",
              "    outputElement.lastPromiseValue = value;\n",
              "    return next.value.response;\n",
              "  });\n",
              "}\n",
              "\n",
              "/**\n",
              " * Generator function which is called between each async step of the upload\n",
              " * process.\n",
              " * @param {string} inputId Element ID of the input file picker element.\n",
              " * @param {string} outputId Element ID of the output display.\n",
              " * @return {!Iterable<!Object>} Iterable of next steps.\n",
              " */\n",
              "function* uploadFilesStep(inputId, outputId) {\n",
              "  const inputElement = document.getElementById(inputId);\n",
              "  inputElement.disabled = false;\n",
              "\n",
              "  const outputElement = document.getElementById(outputId);\n",
              "  outputElement.innerHTML = '';\n",
              "\n",
              "  const pickedPromise = new Promise((resolve) => {\n",
              "    inputElement.addEventListener('change', (e) => {\n",
              "      resolve(e.target.files);\n",
              "    });\n",
              "  });\n",
              "\n",
              "  const cancel = document.createElement('button');\n",
              "  inputElement.parentElement.appendChild(cancel);\n",
              "  cancel.textContent = 'Cancel upload';\n",
              "  const cancelPromise = new Promise((resolve) => {\n",
              "    cancel.onclick = () => {\n",
              "      resolve(null);\n",
              "    };\n",
              "  });\n",
              "\n",
              "  // Wait for the user to pick the files.\n",
              "  const files = yield {\n",
              "    promise: Promise.race([pickedPromise, cancelPromise]),\n",
              "    response: {\n",
              "      action: 'starting',\n",
              "    }\n",
              "  };\n",
              "\n",
              "  cancel.remove();\n",
              "\n",
              "  // Disable the input element since further picks are not allowed.\n",
              "  inputElement.disabled = true;\n",
              "\n",
              "  if (!files) {\n",
              "    return {\n",
              "      response: {\n",
              "        action: 'complete',\n",
              "      }\n",
              "    };\n",
              "  }\n",
              "\n",
              "  for (const file of files) {\n",
              "    const li = document.createElement('li');\n",
              "    li.append(span(file.name, {fontWeight: 'bold'}));\n",
              "    li.append(span(\n",
              "        `(${file.type || 'n/a'}) - ${file.size} bytes, ` +\n",
              "        `last modified: ${\n",
              "            file.lastModifiedDate ? file.lastModifiedDate.toLocaleDateString() :\n",
              "                                    'n/a'} - `));\n",
              "    const percent = span('0% done');\n",
              "    li.appendChild(percent);\n",
              "\n",
              "    outputElement.appendChild(li);\n",
              "\n",
              "    const fileDataPromise = new Promise((resolve) => {\n",
              "      const reader = new FileReader();\n",
              "      reader.onload = (e) => {\n",
              "        resolve(e.target.result);\n",
              "      };\n",
              "      reader.readAsArrayBuffer(file);\n",
              "    });\n",
              "    // Wait for the data to be ready.\n",
              "    let fileData = yield {\n",
              "      promise: fileDataPromise,\n",
              "      response: {\n",
              "        action: 'continue',\n",
              "      }\n",
              "    };\n",
              "\n",
              "    // Use a chunked sending to avoid message size limits. See b/62115660.\n",
              "    let position = 0;\n",
              "    do {\n",
              "      const length = Math.min(fileData.byteLength - position, MAX_PAYLOAD_SIZE);\n",
              "      const chunk = new Uint8Array(fileData, position, length);\n",
              "      position += length;\n",
              "\n",
              "      const base64 = btoa(String.fromCharCode.apply(null, chunk));\n",
              "      yield {\n",
              "        response: {\n",
              "          action: 'append',\n",
              "          file: file.name,\n",
              "          data: base64,\n",
              "        },\n",
              "      };\n",
              "\n",
              "      let percentDone = fileData.byteLength === 0 ?\n",
              "          100 :\n",
              "          Math.round((position / fileData.byteLength) * 100);\n",
              "      percent.textContent = `${percentDone}% done`;\n",
              "\n",
              "    } while (position < fileData.byteLength);\n",
              "  }\n",
              "\n",
              "  // All done.\n",
              "  yield {\n",
              "    response: {\n",
              "      action: 'complete',\n",
              "    }\n",
              "  };\n",
              "}\n",
              "\n",
              "scope.google = scope.google || {};\n",
              "scope.google.colab = scope.google.colab || {};\n",
              "scope.google.colab._files = {\n",
              "  _uploadFiles,\n",
              "  _uploadFilesContinue,\n",
              "};\n",
              "})(self);\n",
              "</script> "
            ]
          },
          "metadata": {}
        },
        {
          "output_type": "stream",
          "name": "stdout",
          "text": [
            "Saving SurveillanceData.csv to SurveillanceData (1).csv\n"
          ]
        },
        {
          "output_type": "execute_result",
          "data": {
            "text/plain": [
              "  AOSNUMBER         City                         County State  \\\n",
              "0   AOS0001    Woodstock              Shenandoah County    VA   \n",
              "1   AOS0002     Rockford  Ogle County, Winnebago County    IL   \n",
              "2   AOS0003      Atlanta   DeKalb County, Fulton County    GA   \n",
              "3   AOS0004       Peoria                  Peoria County    IL   \n",
              "4   AOS0005    Goldsboro                   Wayne County    NC   \n",
              "5   AOS0006    Rochester                  Monroe County    NY   \n",
              "6   AOS0007   Pittsburgh               Allegheny County    PA   \n",
              "7   AOS0008     Newburgh                  Orange County    NY   \n",
              "8   AOS0009    Tillamook               Tillamook County    OR   \n",
              "9   AOS0010  Williamston                  Martin County    NC   \n",
              "\n",
              "                           Agency Type of LEA  \\\n",
              "0     Woodstock Police Department      Police   \n",
              "1      Rockford Police Department      Police   \n",
              "2       Atlanta Police Department      Police   \n",
              "3        Peoria Police Department      Police   \n",
              "4     Goldsboro Police Department      Police   \n",
              "5     Rochester Police Department      Police   \n",
              "6     Pittsburgh Bureau of Police      Police   \n",
              "7      Newburgh Police Department      Police   \n",
              "8     Tillamook Police Department      Police   \n",
              "9  Martin County Sheriff's Office     Sheriff   \n",
              "\n",
              "                                             Summary Type of Juris  \\\n",
              "0  The Woodstock Police Department has used body-...     Municipal   \n",
              "1  The Rockford Police Department spent $310,000 ...     Municipal   \n",
              "2  The Atlanta Police Department began using Shot...     Municipal   \n",
              "3  The Peoria Police Department began using ShotS...     Municipal   \n",
              "4  The Goldsboro Police Department uses ShotSpott...     Municipal   \n",
              "5  The Rochester Police Department has been using...     Municipal   \n",
              "6  The Pittsburgh Bureau of Police spent $1.2 mil...     Municipal   \n",
              "7  The Newburgh Police Department began a body-wo...     Municipal   \n",
              "8  The Tillamook Police Department's Facebook pag...     Municipal   \n",
              "9  In 2016, the Martin County Sheriff’s Office pu...        County   \n",
              "\n",
              "          Technology                  Vendor  ... Link 2 Snapshot  \\\n",
              "0  Body-worn Cameras  VML Insurance Programs  ...             NaN   \n",
              "1  Gunshot Detection             ShotSpotter  ...             NaN   \n",
              "2  Gunshot Detection             ShotSpotter  ...             NaN   \n",
              "3  Gunshot Detection             ShotSpotter  ...             NaN   \n",
              "4  Gunshot Detection             ShotSpotter  ...             NaN   \n",
              "5  Gunshot Detection             ShotSpotter  ...             NaN   \n",
              "6  Gunshot Detection             ShotSpotter  ...             NaN   \n",
              "7  Body-worn Cameras              WatchGuard  ...             NaN   \n",
              "8  Body-worn Cameras                     NaN  ...             NaN   \n",
              "9  Body-worn Cameras                   Coban  ...             NaN   \n",
              "\n",
              "                               Link 2 Source Link 2 Type  Link 2 Date  \\\n",
              "0                                        NaN         NaN          NaN   \n",
              "1                                        NaN         NaN          NaN   \n",
              "2                  Atlanta Police Department         NaN   09/15/2018   \n",
              "3                                Shotspotter         NaN   03/01/2015   \n",
              "4  Goldsboro Police Department Facebook Page         NaN    4/27/2020   \n",
              "5                     Democrat and Chronical         NaN   11/20/2017   \n",
              "6                                        NaN         NaN          NaN   \n",
              "7                              Public Report         NaN   09/03/2015   \n",
              "8                                        NaN         NaN          NaN   \n",
              "9           Martin County Sheriff's Facebook         NaN   09/17/2017   \n",
              "\n",
              "                                              Link 3 Link 3 Snapshot  \\\n",
              "0                                                NaN             NaN   \n",
              "1                                                NaN             NaN   \n",
              "2  https://www.cbs46.com/news/metro-atlanta-commu...             NaN   \n",
              "3  https://web.archive.org/web/20150317034225/htt...             NaN   \n",
              "4                                                NaN             NaN   \n",
              "5                                                NaN             NaN   \n",
              "6                                                NaN             NaN   \n",
              "7                                                NaN             NaN   \n",
              "8                                                NaN             NaN   \n",
              "9                                                NaN             NaN   \n",
              "\n",
              "      Link 3 Source Link 3 Type  Link 3 Date Other Links  \n",
              "0               NaN         NaN          NaN         NaN  \n",
              "1               NaN         NaN          NaN         NaN  \n",
              "2            CBS 46         NaN   12/27/2021         NaN  \n",
              "3  Associated Press         NaN   03/01/2015         NaN  \n",
              "4               NaN         NaN          NaN         NaN  \n",
              "5               NaN         NaN          NaN         NaN  \n",
              "6               NaN         NaN          NaN         NaN  \n",
              "7               NaN         NaN          NaN         NaN  \n",
              "8               NaN         NaN          NaN         NaN  \n",
              "9               NaN         NaN          NaN         NaN  \n",
              "\n",
              "[10 rows x 26 columns]"
            ],
            "text/html": [
              "\n",
              "  <div id=\"df-99d807ba-90cd-470f-87f1-6e3594f1b5e5\">\n",
              "    <div class=\"colab-df-container\">\n",
              "      <div>\n",
              "<style scoped>\n",
              "    .dataframe tbody tr th:only-of-type {\n",
              "        vertical-align: middle;\n",
              "    }\n",
              "\n",
              "    .dataframe tbody tr th {\n",
              "        vertical-align: top;\n",
              "    }\n",
              "\n",
              "    .dataframe thead th {\n",
              "        text-align: right;\n",
              "    }\n",
              "</style>\n",
              "<table border=\"1\" class=\"dataframe\">\n",
              "  <thead>\n",
              "    <tr style=\"text-align: right;\">\n",
              "      <th></th>\n",
              "      <th>AOSNUMBER</th>\n",
              "      <th>City</th>\n",
              "      <th>County</th>\n",
              "      <th>State</th>\n",
              "      <th>Agency</th>\n",
              "      <th>Type of LEA</th>\n",
              "      <th>Summary</th>\n",
              "      <th>Type of Juris</th>\n",
              "      <th>Technology</th>\n",
              "      <th>Vendor</th>\n",
              "      <th>...</th>\n",
              "      <th>Link 2 Snapshot</th>\n",
              "      <th>Link 2 Source</th>\n",
              "      <th>Link 2 Type</th>\n",
              "      <th>Link 2 Date</th>\n",
              "      <th>Link 3</th>\n",
              "      <th>Link 3 Snapshot</th>\n",
              "      <th>Link 3 Source</th>\n",
              "      <th>Link 3 Type</th>\n",
              "      <th>Link 3 Date</th>\n",
              "      <th>Other Links</th>\n",
              "    </tr>\n",
              "  </thead>\n",
              "  <tbody>\n",
              "    <tr>\n",
              "      <th>0</th>\n",
              "      <td>AOS0001</td>\n",
              "      <td>Woodstock</td>\n",
              "      <td>Shenandoah County</td>\n",
              "      <td>VA</td>\n",
              "      <td>Woodstock Police Department</td>\n",
              "      <td>Police</td>\n",
              "      <td>The Woodstock Police Department has used body-...</td>\n",
              "      <td>Municipal</td>\n",
              "      <td>Body-worn Cameras</td>\n",
              "      <td>VML Insurance Programs</td>\n",
              "      <td>...</td>\n",
              "      <td>NaN</td>\n",
              "      <td>NaN</td>\n",
              "      <td>NaN</td>\n",
              "      <td>NaN</td>\n",
              "      <td>NaN</td>\n",
              "      <td>NaN</td>\n",
              "      <td>NaN</td>\n",
              "      <td>NaN</td>\n",
              "      <td>NaN</td>\n",
              "      <td>NaN</td>\n",
              "    </tr>\n",
              "    <tr>\n",
              "      <th>1</th>\n",
              "      <td>AOS0002</td>\n",
              "      <td>Rockford</td>\n",
              "      <td>Ogle County, Winnebago County</td>\n",
              "      <td>IL</td>\n",
              "      <td>Rockford Police Department</td>\n",
              "      <td>Police</td>\n",
              "      <td>The Rockford Police Department spent $310,000 ...</td>\n",
              "      <td>Municipal</td>\n",
              "      <td>Gunshot Detection</td>\n",
              "      <td>ShotSpotter</td>\n",
              "      <td>...</td>\n",
              "      <td>NaN</td>\n",
              "      <td>NaN</td>\n",
              "      <td>NaN</td>\n",
              "      <td>NaN</td>\n",
              "      <td>NaN</td>\n",
              "      <td>NaN</td>\n",
              "      <td>NaN</td>\n",
              "      <td>NaN</td>\n",
              "      <td>NaN</td>\n",
              "      <td>NaN</td>\n",
              "    </tr>\n",
              "    <tr>\n",
              "      <th>2</th>\n",
              "      <td>AOS0003</td>\n",
              "      <td>Atlanta</td>\n",
              "      <td>DeKalb County, Fulton County</td>\n",
              "      <td>GA</td>\n",
              "      <td>Atlanta Police Department</td>\n",
              "      <td>Police</td>\n",
              "      <td>The Atlanta Police Department began using Shot...</td>\n",
              "      <td>Municipal</td>\n",
              "      <td>Gunshot Detection</td>\n",
              "      <td>ShotSpotter</td>\n",
              "      <td>...</td>\n",
              "      <td>NaN</td>\n",
              "      <td>Atlanta Police Department</td>\n",
              "      <td>NaN</td>\n",
              "      <td>09/15/2018</td>\n",
              "      <td>https://www.cbs46.com/news/metro-atlanta-commu...</td>\n",
              "      <td>NaN</td>\n",
              "      <td>CBS 46</td>\n",
              "      <td>NaN</td>\n",
              "      <td>12/27/2021</td>\n",
              "      <td>NaN</td>\n",
              "    </tr>\n",
              "    <tr>\n",
              "      <th>3</th>\n",
              "      <td>AOS0004</td>\n",
              "      <td>Peoria</td>\n",
              "      <td>Peoria County</td>\n",
              "      <td>IL</td>\n",
              "      <td>Peoria Police Department</td>\n",
              "      <td>Police</td>\n",
              "      <td>The Peoria Police Department began using ShotS...</td>\n",
              "      <td>Municipal</td>\n",
              "      <td>Gunshot Detection</td>\n",
              "      <td>ShotSpotter</td>\n",
              "      <td>...</td>\n",
              "      <td>NaN</td>\n",
              "      <td>Shotspotter</td>\n",
              "      <td>NaN</td>\n",
              "      <td>03/01/2015</td>\n",
              "      <td>https://web.archive.org/web/20150317034225/htt...</td>\n",
              "      <td>NaN</td>\n",
              "      <td>Associated Press</td>\n",
              "      <td>NaN</td>\n",
              "      <td>03/01/2015</td>\n",
              "      <td>NaN</td>\n",
              "    </tr>\n",
              "    <tr>\n",
              "      <th>4</th>\n",
              "      <td>AOS0005</td>\n",
              "      <td>Goldsboro</td>\n",
              "      <td>Wayne County</td>\n",
              "      <td>NC</td>\n",
              "      <td>Goldsboro Police Department</td>\n",
              "      <td>Police</td>\n",
              "      <td>The Goldsboro Police Department uses ShotSpott...</td>\n",
              "      <td>Municipal</td>\n",
              "      <td>Gunshot Detection</td>\n",
              "      <td>ShotSpotter</td>\n",
              "      <td>...</td>\n",
              "      <td>NaN</td>\n",
              "      <td>Goldsboro Police Department Facebook Page</td>\n",
              "      <td>NaN</td>\n",
              "      <td>4/27/2020</td>\n",
              "      <td>NaN</td>\n",
              "      <td>NaN</td>\n",
              "      <td>NaN</td>\n",
              "      <td>NaN</td>\n",
              "      <td>NaN</td>\n",
              "      <td>NaN</td>\n",
              "    </tr>\n",
              "    <tr>\n",
              "      <th>5</th>\n",
              "      <td>AOS0006</td>\n",
              "      <td>Rochester</td>\n",
              "      <td>Monroe County</td>\n",
              "      <td>NY</td>\n",
              "      <td>Rochester Police Department</td>\n",
              "      <td>Police</td>\n",
              "      <td>The Rochester Police Department has been using...</td>\n",
              "      <td>Municipal</td>\n",
              "      <td>Gunshot Detection</td>\n",
              "      <td>ShotSpotter</td>\n",
              "      <td>...</td>\n",
              "      <td>NaN</td>\n",
              "      <td>Democrat and Chronical</td>\n",
              "      <td>NaN</td>\n",
              "      <td>11/20/2017</td>\n",
              "      <td>NaN</td>\n",
              "      <td>NaN</td>\n",
              "      <td>NaN</td>\n",
              "      <td>NaN</td>\n",
              "      <td>NaN</td>\n",
              "      <td>NaN</td>\n",
              "    </tr>\n",
              "    <tr>\n",
              "      <th>6</th>\n",
              "      <td>AOS0007</td>\n",
              "      <td>Pittsburgh</td>\n",
              "      <td>Allegheny County</td>\n",
              "      <td>PA</td>\n",
              "      <td>Pittsburgh Bureau of Police</td>\n",
              "      <td>Police</td>\n",
              "      <td>The Pittsburgh Bureau of Police spent $1.2 mil...</td>\n",
              "      <td>Municipal</td>\n",
              "      <td>Gunshot Detection</td>\n",
              "      <td>ShotSpotter</td>\n",
              "      <td>...</td>\n",
              "      <td>NaN</td>\n",
              "      <td>NaN</td>\n",
              "      <td>NaN</td>\n",
              "      <td>NaN</td>\n",
              "      <td>NaN</td>\n",
              "      <td>NaN</td>\n",
              "      <td>NaN</td>\n",
              "      <td>NaN</td>\n",
              "      <td>NaN</td>\n",
              "      <td>NaN</td>\n",
              "    </tr>\n",
              "    <tr>\n",
              "      <th>7</th>\n",
              "      <td>AOS0008</td>\n",
              "      <td>Newburgh</td>\n",
              "      <td>Orange County</td>\n",
              "      <td>NY</td>\n",
              "      <td>Newburgh Police Department</td>\n",
              "      <td>Police</td>\n",
              "      <td>The Newburgh Police Department began a body-wo...</td>\n",
              "      <td>Municipal</td>\n",
              "      <td>Body-worn Cameras</td>\n",
              "      <td>WatchGuard</td>\n",
              "      <td>...</td>\n",
              "      <td>NaN</td>\n",
              "      <td>Public Report</td>\n",
              "      <td>NaN</td>\n",
              "      <td>09/03/2015</td>\n",
              "      <td>NaN</td>\n",
              "      <td>NaN</td>\n",
              "      <td>NaN</td>\n",
              "      <td>NaN</td>\n",
              "      <td>NaN</td>\n",
              "      <td>NaN</td>\n",
              "    </tr>\n",
              "    <tr>\n",
              "      <th>8</th>\n",
              "      <td>AOS0009</td>\n",
              "      <td>Tillamook</td>\n",
              "      <td>Tillamook County</td>\n",
              "      <td>OR</td>\n",
              "      <td>Tillamook Police Department</td>\n",
              "      <td>Police</td>\n",
              "      <td>The Tillamook Police Department's Facebook pag...</td>\n",
              "      <td>Municipal</td>\n",
              "      <td>Body-worn Cameras</td>\n",
              "      <td>NaN</td>\n",
              "      <td>...</td>\n",
              "      <td>NaN</td>\n",
              "      <td>NaN</td>\n",
              "      <td>NaN</td>\n",
              "      <td>NaN</td>\n",
              "      <td>NaN</td>\n",
              "      <td>NaN</td>\n",
              "      <td>NaN</td>\n",
              "      <td>NaN</td>\n",
              "      <td>NaN</td>\n",
              "      <td>NaN</td>\n",
              "    </tr>\n",
              "    <tr>\n",
              "      <th>9</th>\n",
              "      <td>AOS0010</td>\n",
              "      <td>Williamston</td>\n",
              "      <td>Martin County</td>\n",
              "      <td>NC</td>\n",
              "      <td>Martin County Sheriff's Office</td>\n",
              "      <td>Sheriff</td>\n",
              "      <td>In 2016, the Martin County Sheriff’s Office pu...</td>\n",
              "      <td>County</td>\n",
              "      <td>Body-worn Cameras</td>\n",
              "      <td>Coban</td>\n",
              "      <td>...</td>\n",
              "      <td>NaN</td>\n",
              "      <td>Martin County Sheriff's Facebook</td>\n",
              "      <td>NaN</td>\n",
              "      <td>09/17/2017</td>\n",
              "      <td>NaN</td>\n",
              "      <td>NaN</td>\n",
              "      <td>NaN</td>\n",
              "      <td>NaN</td>\n",
              "      <td>NaN</td>\n",
              "      <td>NaN</td>\n",
              "    </tr>\n",
              "  </tbody>\n",
              "</table>\n",
              "<p>10 rows × 26 columns</p>\n",
              "</div>\n",
              "      <button class=\"colab-df-convert\" onclick=\"convertToInteractive('df-99d807ba-90cd-470f-87f1-6e3594f1b5e5')\"\n",
              "              title=\"Convert this dataframe to an interactive table.\"\n",
              "              style=\"display:none;\">\n",
              "        \n",
              "  <svg xmlns=\"http://www.w3.org/2000/svg\" height=\"24px\"viewBox=\"0 0 24 24\"\n",
              "       width=\"24px\">\n",
              "    <path d=\"M0 0h24v24H0V0z\" fill=\"none\"/>\n",
              "    <path d=\"M18.56 5.44l.94 2.06.94-2.06 2.06-.94-2.06-.94-.94-2.06-.94 2.06-2.06.94zm-11 1L8.5 8.5l.94-2.06 2.06-.94-2.06-.94L8.5 2.5l-.94 2.06-2.06.94zm10 10l.94 2.06.94-2.06 2.06-.94-2.06-.94-.94-2.06-.94 2.06-2.06.94z\"/><path d=\"M17.41 7.96l-1.37-1.37c-.4-.4-.92-.59-1.43-.59-.52 0-1.04.2-1.43.59L10.3 9.45l-7.72 7.72c-.78.78-.78 2.05 0 2.83L4 21.41c.39.39.9.59 1.41.59.51 0 1.02-.2 1.41-.59l7.78-7.78 2.81-2.81c.8-.78.8-2.07 0-2.86zM5.41 20L4 18.59l7.72-7.72 1.47 1.35L5.41 20z\"/>\n",
              "  </svg>\n",
              "      </button>\n",
              "      \n",
              "  <style>\n",
              "    .colab-df-container {\n",
              "      display:flex;\n",
              "      flex-wrap:wrap;\n",
              "      gap: 12px;\n",
              "    }\n",
              "\n",
              "    .colab-df-convert {\n",
              "      background-color: #E8F0FE;\n",
              "      border: none;\n",
              "      border-radius: 50%;\n",
              "      cursor: pointer;\n",
              "      display: none;\n",
              "      fill: #1967D2;\n",
              "      height: 32px;\n",
              "      padding: 0 0 0 0;\n",
              "      width: 32px;\n",
              "    }\n",
              "\n",
              "    .colab-df-convert:hover {\n",
              "      background-color: #E2EBFA;\n",
              "      box-shadow: 0px 1px 2px rgba(60, 64, 67, 0.3), 0px 1px 3px 1px rgba(60, 64, 67, 0.15);\n",
              "      fill: #174EA6;\n",
              "    }\n",
              "\n",
              "    [theme=dark] .colab-df-convert {\n",
              "      background-color: #3B4455;\n",
              "      fill: #D2E3FC;\n",
              "    }\n",
              "\n",
              "    [theme=dark] .colab-df-convert:hover {\n",
              "      background-color: #434B5C;\n",
              "      box-shadow: 0px 1px 3px 1px rgba(0, 0, 0, 0.15);\n",
              "      filter: drop-shadow(0px 1px 2px rgba(0, 0, 0, 0.3));\n",
              "      fill: #FFFFFF;\n",
              "    }\n",
              "  </style>\n",
              "\n",
              "      <script>\n",
              "        const buttonEl =\n",
              "          document.querySelector('#df-99d807ba-90cd-470f-87f1-6e3594f1b5e5 button.colab-df-convert');\n",
              "        buttonEl.style.display =\n",
              "          google.colab.kernel.accessAllowed ? 'block' : 'none';\n",
              "\n",
              "        async function convertToInteractive(key) {\n",
              "          const element = document.querySelector('#df-99d807ba-90cd-470f-87f1-6e3594f1b5e5');\n",
              "          const dataTable =\n",
              "            await google.colab.kernel.invokeFunction('convertToInteractive',\n",
              "                                                     [key], {});\n",
              "          if (!dataTable) return;\n",
              "\n",
              "          const docLinkHtml = 'Like what you see? Visit the ' +\n",
              "            '<a target=\"_blank\" href=https://colab.research.google.com/notebooks/data_table.ipynb>data table notebook</a>'\n",
              "            + ' to learn more about interactive tables.';\n",
              "          element.innerHTML = '';\n",
              "          dataTable['output_type'] = 'display_data';\n",
              "          await google.colab.output.renderOutput(dataTable, element);\n",
              "          const docLink = document.createElement('div');\n",
              "          docLink.innerHTML = docLinkHtml;\n",
              "          element.appendChild(docLink);\n",
              "        }\n",
              "      </script>\n",
              "    </div>\n",
              "  </div>\n",
              "  "
            ]
          },
          "metadata": {},
          "execution_count": 10
        }
      ]
    },
    {
      "cell_type": "markdown",
      "source": [
        "## Step 1 Check Columns"
      ],
      "metadata": {
        "id": "gIIXRCgcjzq8"
      }
    },
    {
      "cell_type": "code",
      "source": [
        "print(df.columns)"
      ],
      "metadata": {
        "colab": {
          "base_uri": "https://localhost:8080/"
        },
        "id": "YHMLyUYnj1yh",
        "outputId": "713e9166-6df5-4747-c5b6-0f22f77a0d4b"
      },
      "execution_count": null,
      "outputs": [
        {
          "output_type": "stream",
          "name": "stdout",
          "text": [
            "Index(['AOSNUMBER', 'City', 'County', 'State', 'Agency', 'Type of LEA',\n",
            "       'Summary', 'Type of Juris', 'Technology', 'Vendor', 'Link 1',\n",
            "       'Link 1 Snapshot', 'Link 1 Source', 'Link 1 Type', 'Link 1 Date',\n",
            "       'Link 2', 'Link 2 Snapshot', 'Link 2 Source', 'Link 2 Type',\n",
            "       'Link 2 Date', 'Link 3', 'Link 3 Snapshot', 'Link 3 Source',\n",
            "       'Link 3 Type', 'Link 3 Date', 'Other Links'],\n",
            "      dtype='object')\n"
          ]
        }
      ]
    },
    {
      "cell_type": "markdown",
      "source": [
        "## Step 2 Drop Unused Columns"
      ],
      "metadata": {
        "id": "AiaXe6__j3eE"
      }
    },
    {
      "cell_type": "code",
      "source": [
        "df2 = df.drop(['Link 1','Link 1 Snapshot', 'Link 1 Source', 'Link 1 Type', 'Link 1 Date',\n",
        "       'Link 2', 'Link 2 Snapshot', 'Link 2 Source', 'Link 2 Type',\n",
        "       'Link 2 Date', 'Link 3', 'Link 3 Snapshot', 'Link 3 Source',\n",
        "       'Link 3 Type', 'Link 3 Date', 'Other Links', 'Summary'], axis = 1)"
      ],
      "metadata": {
        "id": "PZxmQfM9j5n1"
      },
      "execution_count": null,
      "outputs": []
    },
    {
      "cell_type": "code",
      "source": [
        "print(df2.columns)"
      ],
      "metadata": {
        "colab": {
          "base_uri": "https://localhost:8080/"
        },
        "id": "B8y5RV_zkCYj",
        "outputId": "f52ad58a-2d83-4462-889a-f42394d04b56"
      },
      "execution_count": null,
      "outputs": [
        {
          "output_type": "stream",
          "name": "stdout",
          "text": [
            "Index(['AOSNUMBER', 'City', 'County', 'State', 'Agency', 'Type of LEA',\n",
            "       'Type of Juris', 'Technology', 'Vendor'],\n",
            "      dtype='object')\n"
          ]
        }
      ]
    },
    {
      "cell_type": "markdown",
      "source": [
        "## Step 3 Clean County Data\n",
        "\n",
        "1) make it all lowercase; 2) seperate value with two conuties; 3) create a key based on county and state for merging other dataset (didn't use in our case)"
      ],
      "metadata": {
        "id": "BWvidU4JkJbV"
      }
    },
    {
      "cell_type": "markdown",
      "source": [
        "## Step 4 Check Empty Values"
      ],
      "metadata": {
        "id": "dSkIXZS52hh-"
      }
    },
    {
      "cell_type": "code",
      "source": [
        "df2.isnull().sum()"
      ],
      "metadata": {
        "colab": {
          "base_uri": "https://localhost:8080/"
        },
        "id": "cHLqFBLRkROO",
        "outputId": "a2e0a24a-7312-40b6-dd25-ea1e9a7878d5"
      },
      "execution_count": null,
      "outputs": [
        {
          "output_type": "execute_result",
          "data": {
            "text/plain": [
              "AOSNUMBER           0\n",
              "City                2\n",
              "County             97\n",
              "State               3\n",
              "Agency              0\n",
              "Type of LEA        12\n",
              "Type of Juris       0\n",
              "Technology          0\n",
              "Vendor           4886\n",
              "dtype: int64"
            ]
          },
          "metadata": {},
          "execution_count": 13
        }
      ]
    },
    {
      "cell_type": "markdown",
      "source": [
        "Replace missing State values"
      ],
      "metadata": {
        "id": "SJb1WhFQBGfg"
      }
    },
    {
      "cell_type": "code",
      "source": [
        "null_mask = df2['State'].isnull()\n",
        "null_values = df2[null_mask]\n",
        "print(null_values)"
      ],
      "metadata": {
        "colab": {
          "base_uri": "https://localhost:8080/"
        },
        "id": "thlNhOMtBCbi",
        "outputId": "a29d2bb7-9538-479a-960b-8e15d33ff953"
      },
      "execution_count": null,
      "outputs": [
        {
          "output_type": "stream",
          "name": "stdout",
          "text": [
            "     AOSNUMBER              City            County State  \\\n",
            "761    AOS0762       Springfield    Hampden County   NaN   \n",
            "9517   AOS9518          Escanaba      Delta County   NaN   \n",
            "9543   AOS9544  Gerrish Township  Roscommon County   NaN   \n",
            "\n",
            "                                    Agency Type of LEA Type of Juris  \\\n",
            "761          Springfield Police Department      Police     Municipal   \n",
            "9517  Escanaba Department Of Public Safety      Police     Municipal   \n",
            "9543    Gerrish Township Police Department      Police     Municipal   \n",
            "\n",
            "            Technology    Vendor  \n",
            "761    Video Analytics  BriefCam  \n",
            "9517  Face Recognition       NaN  \n",
            "9543  Face Recognition       NaN  \n"
          ]
        }
      ]
    },
    {
      "cell_type": "code",
      "source": [
        "df2.loc[761, 'State'] = 'MA'\n",
        "df2.loc[9517, 'State'] = 'MI'\n",
        "df2.loc[9543, 'State'] = 'MI'"
      ],
      "metadata": {
        "id": "ueDf5RwYBLsA"
      },
      "execution_count": null,
      "outputs": []
    },
    {
      "cell_type": "code",
      "source": [
        "df2.isnull().sum()"
      ],
      "metadata": {
        "colab": {
          "base_uri": "https://localhost:8080/"
        },
        "id": "BXIZ-Na0BQ_F",
        "outputId": "6eed158e-63be-4066-c63c-3bc68d3cff2a"
      },
      "execution_count": null,
      "outputs": [
        {
          "output_type": "execute_result",
          "data": {
            "text/plain": [
              "AOSNUMBER           0\n",
              "City                2\n",
              "County             97\n",
              "State               0\n",
              "Agency              0\n",
              "Type of LEA        12\n",
              "Type of Juris       0\n",
              "Technology          0\n",
              "Vendor           4886\n",
              "dtype: int64"
            ]
          },
          "metadata": {},
          "execution_count": 16
        }
      ]
    },
    {
      "cell_type": "markdown",
      "source": [
        "## Step 5: Check values in State column for later merge"
      ],
      "metadata": {
        "id": "MgUHva9mZoeD"
      }
    },
    {
      "cell_type": "code",
      "source": [
        "df2['State'].nunique()"
      ],
      "metadata": {
        "colab": {
          "base_uri": "https://localhost:8080/"
        },
        "id": "_0EosITZZn7N",
        "outputId": "1b9f89d0-bada-47ec-b853-7f5234d97c45"
      },
      "execution_count": null,
      "outputs": [
        {
          "output_type": "execute_result",
          "data": {
            "text/plain": [
              "60"
            ]
          },
          "metadata": {},
          "execution_count": 17
        }
      ]
    },
    {
      "cell_type": "code",
      "source": [
        "unique_state = sorted(df2['State'].unique())\n",
        "\n",
        "for value in unique_state:\n",
        "    print(value)"
      ],
      "metadata": {
        "colab": {
          "base_uri": "https://localhost:8080/"
        },
        "id": "t5jEeUi2Z7Tb",
        "outputId": "db7115e8-42c1-4a17-f3e2-c45827c217e7"
      },
      "execution_count": null,
      "outputs": [
        {
          "output_type": "stream",
          "name": "stdout",
          "text": [
            "AK\n",
            "AL\n",
            "AR\n",
            "AZ\n",
            "CA\n",
            "CA \n",
            "CO\n",
            "CT\n",
            "DC\n",
            "DE\n",
            "FL\n",
            "GA\n",
            "GU\n",
            "HI\n",
            "IA\n",
            "ID\n",
            "IL\n",
            "IN\n",
            "Idaho\n",
            "KS\n",
            "KY\n",
            "LA\n",
            "MA\n",
            "MD\n",
            "ME\n",
            "MI\n",
            "MN\n",
            "MO\n",
            "MS\n",
            "MT\n",
            "Montana\n",
            "NB\n",
            "NC\n",
            "ND\n",
            "NE\n",
            "NH\n",
            "NJ\n",
            "NM\n",
            "NV\n",
            "NY\n",
            "OH\n",
            "OK\n",
            "OR\n",
            "PA\n",
            "PR\n",
            "Puerto Rico\n",
            "RI\n",
            "SC\n",
            "SD\n",
            "TN\n",
            "TX\n",
            "US Virgin Islands\n",
            "UT\n",
            "VA\n",
            "VI\n",
            "VT\n",
            "WA\n",
            "WI\n",
            "WV\n",
            "WY\n"
          ]
        }
      ]
    },
    {
      "cell_type": "code",
      "source": [
        "df2['State'] = df2['State'].replace('Idaho', 'ID')\n",
        "df2['State'] = df2['State'].replace('Montana', 'MT')\n",
        "df2['State'] = df2['State'].replace('Puerto Rico', 'PR')\n",
        "df2['State'] = df2['State'].replace('US Virgin Islands', 'VI')"
      ],
      "metadata": {
        "id": "TWxrNg7ZZ-uv"
      },
      "execution_count": null,
      "outputs": []
    },
    {
      "cell_type": "markdown",
      "source": [
        "Perform a string strip, since 'CA' was appearing twice, likely due to a space.\n"
      ],
      "metadata": {
        "id": "Kkorf-rfbi04"
      }
    },
    {
      "cell_type": "code",
      "source": [
        "df2['State'] = df2['State'].str.strip()\n",
        "\n",
        "unique_state = sorted(df2['State'].unique())\n",
        "\n",
        "for value in unique_state:\n",
        "    print(value)"
      ],
      "metadata": {
        "colab": {
          "base_uri": "https://localhost:8080/"
        },
        "id": "pMRtPUz_bfpn",
        "outputId": "8ecef5a6-3c9c-42eb-ebd6-7cf9a2aec012"
      },
      "execution_count": null,
      "outputs": [
        {
          "output_type": "stream",
          "name": "stdout",
          "text": [
            "AK\n",
            "AL\n",
            "AR\n",
            "AZ\n",
            "CA\n",
            "CO\n",
            "CT\n",
            "DC\n",
            "DE\n",
            "FL\n",
            "GA\n",
            "GU\n",
            "HI\n",
            "IA\n",
            "ID\n",
            "IL\n",
            "IN\n",
            "KS\n",
            "KY\n",
            "LA\n",
            "MA\n",
            "MD\n",
            "ME\n",
            "MI\n",
            "MN\n",
            "MO\n",
            "MS\n",
            "MT\n",
            "NB\n",
            "NC\n",
            "ND\n",
            "NE\n",
            "NH\n",
            "NJ\n",
            "NM\n",
            "NV\n",
            "NY\n",
            "OH\n",
            "OK\n",
            "OR\n",
            "PA\n",
            "PR\n",
            "RI\n",
            "SC\n",
            "SD\n",
            "TN\n",
            "TX\n",
            "UT\n",
            "VA\n",
            "VI\n",
            "VT\n",
            "WA\n",
            "WI\n",
            "WV\n",
            "WY\n"
          ]
        }
      ]
    },
    {
      "cell_type": "markdown",
      "source": [
        "Locate where value 'NB' is"
      ],
      "metadata": {
        "id": "JpsnpkFBd197"
      }
    },
    {
      "cell_type": "code",
      "source": [
        "indices = np.where(df2['State'] == 'NB')[0]\n",
        "\n",
        "for index in indices:\n",
        "    print(index)"
      ],
      "metadata": {
        "colab": {
          "base_uri": "https://localhost:8080/"
        },
        "id": "uwKod2CydUvs",
        "outputId": "f50e2ed0-d72b-4dc6-f8ac-0e33ed0cd9aa"
      },
      "execution_count": null,
      "outputs": [
        {
          "output_type": "stream",
          "name": "stdout",
          "text": [
            "8558\n"
          ]
        }
      ]
    },
    {
      "cell_type": "code",
      "source": [
        "row = df2.iloc[8558]\n",
        "\n",
        "print(row)"
      ],
      "metadata": {
        "colab": {
          "base_uri": "https://localhost:8080/"
        },
        "id": "X_hLYnHvdbLE",
        "outputId": "b663aeef-f571-475b-eb52-5b0ba8199e01"
      },
      "execution_count": null,
      "outputs": [
        {
          "output_type": "stream",
          "name": "stdout",
          "text": [
            "AOSNUMBER                          AOS8559\n",
            "City                               Kearney\n",
            "County                      Buffalo County\n",
            "State                                   NB\n",
            "Agency           Kearney Police Department\n",
            "Type of LEA                         Police\n",
            "Type of Juris                    Municipal\n",
            "Technology                          Drones\n",
            "Vendor                      Autel Robotics\n",
            "Name: 8558, dtype: object\n"
          ]
        }
      ]
    },
    {
      "cell_type": "markdown",
      "source": [
        "Nebraska was mistakenly classified as \"NB\" instead of \"NE\""
      ],
      "metadata": {
        "id": "ih2823LCo7dn"
      }
    },
    {
      "cell_type": "code",
      "source": [
        "df2['State'] = df2['State'].replace('NB', 'NE')"
      ],
      "metadata": {
        "id": "2feaKIpXeG2F"
      },
      "execution_count": null,
      "outputs": []
    },
    {
      "cell_type": "markdown",
      "source": [
        "54 is correct number of states for our purpose: 50 US states, plus Washington DC (DC), Guam (GU), Puerto Rico (PR), and US Virgin Islands (VI)"
      ],
      "metadata": {
        "id": "hc9uq2GaeVtf"
      }
    },
    {
      "cell_type": "code",
      "source": [
        "df2['State'].nunique()"
      ],
      "metadata": {
        "colab": {
          "base_uri": "https://localhost:8080/"
        },
        "id": "uPo8qiWxbupO",
        "outputId": "7db6877a-4994-41ad-90a6-deab02dbc388"
      },
      "execution_count": null,
      "outputs": [
        {
          "output_type": "execute_result",
          "data": {
            "text/plain": [
              "54"
            ]
          },
          "metadata": {},
          "execution_count": 24
        }
      ]
    },
    {
      "cell_type": "markdown",
      "source": [
        "## Step 6 Fill Empty Vendor with \"Unknown\"\n",
        "\n",
        "This step prepares futrue visualization because the empty value may be hard to deal with in visualization.\n",
        "\n",
        "Some independent cities do not belong to any county, so we decided to keep the empty county values.\n",
        "\n",
        "Most of our analysis addresses the county level, so we decided to leave the empty state values.\n"
      ],
      "metadata": {
        "id": "g_0NQyCtkYdP"
      }
    },
    {
      "cell_type": "code",
      "source": [
        "df2['Vendor'] = df2['Vendor'].fillna('unknown')\n",
        "df2.isnull().sum()"
      ],
      "metadata": {
        "colab": {
          "base_uri": "https://localhost:8080/"
        },
        "id": "jSGOErvDklzP",
        "outputId": "de4e80fa-4fc6-456d-e7ae-f91a04dd8915"
      },
      "execution_count": null,
      "outputs": [
        {
          "output_type": "execute_result",
          "data": {
            "text/plain": [
              "AOSNUMBER         0\n",
              "City              2\n",
              "County           97\n",
              "State             0\n",
              "Agency            0\n",
              "Type of LEA      12\n",
              "Type of Juris     0\n",
              "Technology        0\n",
              "Vendor            0\n",
              "dtype: int64"
            ]
          },
          "metadata": {},
          "execution_count": 25
        }
      ]
    },
    {
      "cell_type": "markdown",
      "source": [
        "# Clean Vendor Columns"
      ],
      "metadata": {
        "id": "cf9jCemV-BQe"
      }
    },
    {
      "cell_type": "markdown",
      "source": [
        "## Step 1 Check the Types of Vendors\n",
        "\n",
        "Using the .unique() we noticed that many of the values in the vendors column are not recognized correctly. Causes: typos, or two vendors are written in the same field, but seperated with ',' e.g. 'Aerovironment, DJI'.\n",
        "\n",
        "We have to re-work this by seperating these fields so each Vendor stands as a data-entry of its own, but remaining within the same row."
      ],
      "metadata": {
        "id": "f8bLqYRm-l1D"
      }
    },
    {
      "cell_type": "code",
      "source": [
        "print(df2['Vendor'].unique())"
      ],
      "metadata": {
        "colab": {
          "base_uri": "https://localhost:8080/"
        },
        "id": "fmTiQRZ9-Uyg",
        "outputId": "b65ee3a7-daae-4a14-a029-a4d29f96ab4d"
      },
      "execution_count": null,
      "outputs": [
        {
          "output_type": "stream",
          "name": "stdout",
          "text": [
            "['VML Insurance Programs' 'ShotSpotter' 'WatchGuard' 'unknown' 'Coban'\n",
            " 'Axon' 'Wi-fiber' 'ELSAG' 'Getac' 'Vigilant Solutions' 'Panasonic'\n",
            " 'Geolitica' 'Utility' 'Geolitica ' 'DataWorks Plus' 'Selex'\n",
            " 'Flock Safety, Selex' 'Motorola Solutions' 'L-3'\n",
            " 'PIPS, Vigilant Solutions' 'VieVu' 'CopVu/Vievu' 'Reveal D3'\n",
            " 'CopVu/VieVu' 'Watchguard' 'Safety Vision' 'L3 Mobile Vision '\n",
            " 'Visual Labs Inc.' 'Wireless CCTV' 'Harris Corp.' 'Skycop' 'SkyCop'\n",
            " 'Digital Ally' 'BriefCam' 'Motorola Solutions, BriefCam ' 'Neology/PIPS'\n",
            " 'Flock Safety' 'Genetec AutoVu' 'Vigilant Solutions, Neology/PIPS' 'PIPS'\n",
            " 'OpenALPR' 'Vigilant Solutions, ELSAG' 'Flock Safety, Vigilant Solutions'\n",
            " 'Tannery Creek Systems' 'Flock Safety, Neology/PIPS'\n",
            " 'Vigilant Solutions, Genetec AutoVu'\n",
            " 'Vigilant Solutions, Flock Safety, Avigilon' 'Vigilant Solutions, Rekor'\n",
            " 'Clearview AI' 'Ring' 'Axon ' 'Motorola' 'LensLock' 'Shotspotter' 'Fusus'\n",
            " 'ShotSpotter ' 'Cross Camera Controls' 'Tactical Support Equipment'\n",
            " 'Cogniac Corporation' 'DJI' 'Autel' 'FIrstVu' ' ' 'ProVision' 'DJI '\n",
            " 'L3Harris' 'Patrol Eyes' 'Axon  ' 'Honeywell' 'Skydio' 'SiteSecure'\n",
            " 'Safe Fleet ' 'GoPro' 'Yuneec' 'Autel Robotics' 'Bond' 'L3 BodyVision'\n",
            " 'Visual Lab' 'WatchGuard and Axon' 'Panasonic and Digital Ally'\n",
            " 'Utility Associates, Inc.' 'Major Police and Fire Supply'\n",
            " 'Linked All Aerial Solutions' 'L3, WatchGuard' 'Brinc' 'WatchGuard '\n",
            " 'Muvi'\n",
            " 'In 2022, Reno Police Department contracted with Fusus for software that \"s artificial intelligence software capable of automatically searching  designated video feeds for specific people, vehicles or other  distinctive features relevant to any search such as clothing associated with missing persons, victims or suspects.\"'\n",
            " 'Aircover, DJI, Aeryon' 'DJI, Physical Sciences' 'Aeryon Labs, DJI'\n",
            " 'Leptron' '3DR' 'DJI, Parrot' 'Physical Sciences' 'Walkera' 'Parrot'\n",
            " 'Parrot, DJI' 'Draganfly Innovations' 'UAV Solutions, Yuneec, DJI'\n",
            " 'DJI, Autel Robotics' 'DJI, Parrot, Skydio' 'Autel, DJI' 'Aeryon Labs'\n",
            " 'MAXSUR' 'UDI' 'DJI, NMotion' 'Lockheed Martin, DJI' 'AeroVironment'\n",
            " 'DJI, Autel' 'RMUS' 'Dronium, DJI' 'MAXSUR, DJI' 'DJI, Draganfly'\n",
            " 'Draganfly Innovations, DJI' 'Lockheed Martin' 'Yuneec, DJI'\n",
            " 'Silent Falcon' 'AceCore, DJI' 'Trimble' 'DJI, Yuneec'\n",
            " 'Aerial Imaging Works' 'DJI, SwellPro'\n",
            " 'Institute for Human and Machine Cognition' 'Sentera' '3DR, DJI'\n",
            " 'Autel Robotics, DJI' 'Century Helicopter Products'\n",
            " 'Impossible Aerospace' 'Draganfly' 'DJI, Skydio' 'SwellPro' 'DJI, 3DR'\n",
            " 'HeliProz' 'HSE, DJI' 'DJI, Aerial Technology International'\n",
            " 'AeroVironment, DJI' 'R4 Robotics' 'Blade, DJI' 'KeyW'\n",
            " 'Digital Receiver Technology' 'Vigilant Solutions, Flock Safety' 'Idemia'\n",
            " 'NEC' 'Aegis' 'Titan' 'Mobile-Vision' 'Wolfcom' 'NDI Recognition Systems'\n",
            " 'Rekor' 'NiceVision' 'Axon, VieVu' 'Arxys' 'Idemia, Dataworks Plus'\n",
            " 'FirstVu' 'WolfCom' 'Pro-Vision' 'Shield V'\n",
            " 'Vigilant Solutions, Dataworks' 'Project NOLA ' 'ViperWave' 'CopTrax '\n",
            " 'Vintra' 'AFR Engine' 'Elsag' 'Harris Corporation' 'NDI Technologies'\n",
            " 'CivicScape' 'IBM' 'VIEVU' 'Compstat' 'Verra Mobility'\n",
            " 'Vigilant Solutions, NDI Recognition Systems' 'Avigilon' 'IntelliSite'\n",
            " 'Autovu' 'OpenALPR/Rekor' 'L3 Communications' 'Turn-Key Mobile Inc.'\n",
            " 'Visual Labs' 'Data 911' 'Vigilant Solutions, Axon' 'Veritone'\n",
            " 'PIPS Technology' 'Thomson Reuters CLEAR' 'Taser' 'Vievu' 'Axon Body-2'\n",
            " 'WOLFCOM' 'NDI' 'Genetec' 'NuPark' 'AmberBox' 'Verbi'\n",
            " 'Flock Safety, Genetec' 'Mobotix' 'Flock Safety, Dura Tech' 'Park Assist'\n",
            " 'Briefcam' 'BodyWorn' 'Reveal' 'PatrolEyes' 'ELSAG, Vigilant Solutions'\n",
            " 'Axon, DJI' 'Shotspotter Connect' 'Safe-Fleet' 'Rekor Systems'\n",
            " 'Transcend Robotics' 'Genetec, Vigilant Solutions'\n",
            " 'Blue Line Technologies' 'Flock' 'ELSAG, PayLock' 'ELSAG, Rekor'\n",
            " 'Axon, Flock Safety, Platescan'\n",
            " 'Flock, Vigilant Solutions, Obsidian Integration'\n",
            " 'BodyWorn (Utility, Inc.)' 'BodyWorn/Utility' 'WatchGuard, Axon'\n",
            " 'Monitor Closely' 'Safevant' 'AISight' 'Splash' 'Anyvision'\n",
            " 'EAGL Technology' 'Turn-Key Mobile, Inc.' 'Geolitica (PredPol)'\n",
            " 'Blue Line Resolutions' 'AutoVu' 'AnyVision' 'IDEMIA' 'Securewatch 24'\n",
            " 'L-3 Mobile VIsion' 'Coptrax' 'Lenslock' 'L-3 Mobile-Vision' 'Verkada'\n",
            " 'Skyfire' 'PredPol' 'Motorola Solutins' 'Safe Fleet' 'GoPro, Intrensic'\n",
            " 'Possibly Axon' 'L3 Mobile-Vision' 'PlateSmart Technologies '\n",
            " 'ACTI Communications' 'LACRIS' 'Provision' 'Vievue' 'Steel City Drones'\n",
            " 'Vivue' 'DLSRPros' 'FLIR' 'DJI, Skydio, UAV Solutions' 'DJI, GoPro'\n",
            " 'Innovative Solutions' 'Martel Electronics' 'PlateScan']\n"
          ]
        }
      ]
    },
    {
      "cell_type": "markdown",
      "source": [
        "## Step 2 Check Unique Vendors"
      ],
      "metadata": {
        "id": "wj4uPAlx_5WH"
      }
    },
    {
      "cell_type": "code",
      "source": [
        "print(df2['Vendor'].nunique())"
      ],
      "metadata": {
        "colab": {
          "base_uri": "https://localhost:8080/"
        },
        "id": "ZEOYSy7MACj6",
        "outputId": "77145466-7c42-4b7a-ef5e-70849fd35bd6"
      },
      "execution_count": null,
      "outputs": [
        {
          "output_type": "stream",
          "name": "stdout",
          "text": [
            "257\n"
          ]
        }
      ]
    },
    {
      "cell_type": "markdown",
      "source": [
        "## Step 3 Create Additional Columns to Seperate Vendor values"
      ],
      "metadata": {
        "id": "OuMGBpV7ATRK"
      }
    },
    {
      "cell_type": "code",
      "source": [
        "# Split the vendors and create separate columns with regular expression to include ',' and '/'\n",
        "split_vendors = df2['Vendor'].str.split('[,/]', expand=True)\n",
        "\n",
        "# Rename the columns using a list comprehension\n",
        "split_vendors.columns = [f\"Vendor_{i+1}\" for i in range(split_vendors.shape[1])]\n",
        "\n",
        "# Concatenate the split_vendors DataFrame with the original DataFrame -- create new dataframe (df2)\n",
        "df3 = pd.concat([df2, split_vendors], axis=1)\n",
        "\n",
        "# Drop the 'Vendor' column as it contains the data-entries WITH comma (',')\n",
        "df3 = df3.drop('Vendor', axis=1)\n",
        "\n",
        "# Print the updated DataFrame\n",
        "df3"
      ],
      "metadata": {
        "colab": {
          "base_uri": "https://localhost:8080/",
          "height": 659
        },
        "id": "FbzQLoAeAb1J",
        "outputId": "5d126584-9c68-4c02-e059-d36d417347f6"
      },
      "execution_count": null,
      "outputs": [
        {
          "output_type": "execute_result",
          "data": {
            "text/plain": [
              "      AOSNUMBER         City                         County State  \\\n",
              "0       AOS0001    Woodstock              Shenandoah County    VA   \n",
              "1       AOS0002     Rockford  Ogle County, Winnebago County    IL   \n",
              "2       AOS0003      Atlanta   DeKalb County, Fulton County    GA   \n",
              "3       AOS0004       Peoria                  Peoria County    IL   \n",
              "4       AOS0005    Goldsboro                   Wayne County    NC   \n",
              "...         ...          ...                            ...   ...   \n",
              "10620  AOS10621   Shenandoah              Montgomery County    TX   \n",
              "10621  AOS10622        Plano   Denton County, Collin County    TX   \n",
              "10622  AOS10623      Tomball                  Harris County    TX   \n",
              "10623  AOS10624  Gainesville                   Cooke County    TX   \n",
              "10624  AOS10625   St. George              Washington County    UT   \n",
              "\n",
              "                              Agency Type of LEA Type of Juris  \\\n",
              "0        Woodstock Police Department      Police     Municipal   \n",
              "1         Rockford Police Department      Police     Municipal   \n",
              "2          Atlanta Police Department      Police     Municipal   \n",
              "3           Peoria Police Department      Police     Municipal   \n",
              "4        Goldsboro Police Department      Police     Municipal   \n",
              "...                              ...         ...           ...   \n",
              "10620   Shenandoah Police Department      Police     Municipal   \n",
              "10621        Plano Police Department      Police     Municipal   \n",
              "10622      Tomball Police Department      Police     Municipal   \n",
              "10623  Cooke County Sheriff's Office     Sheriff        County   \n",
              "10624   St. George Police Department      Police     Municipal   \n",
              "\n",
              "                            Technology                Vendor_1 Vendor_2  \\\n",
              "0                    Body-worn Cameras  VML Insurance Programs     None   \n",
              "1                    Gunshot Detection             ShotSpotter     None   \n",
              "2                    Gunshot Detection             ShotSpotter     None   \n",
              "3                    Gunshot Detection             ShotSpotter     None   \n",
              "4                    Gunshot Detection             ShotSpotter     None   \n",
              "...                                ...                     ...      ...   \n",
              "10620  Automated License Plate Readers                 unknown     None   \n",
              "10621                           Drones                 unknown     None   \n",
              "10622                           Drones                 unknown     None   \n",
              "10623                           Drones                     DJI     None   \n",
              "10624                Body-worn Cameras                 unknown     None   \n",
              "\n",
              "      Vendor_3 Vendor_4  \n",
              "0         None     None  \n",
              "1         None     None  \n",
              "2         None     None  \n",
              "3         None     None  \n",
              "4         None     None  \n",
              "...        ...      ...  \n",
              "10620     None     None  \n",
              "10621     None     None  \n",
              "10622     None     None  \n",
              "10623     None     None  \n",
              "10624     None     None  \n",
              "\n",
              "[10625 rows x 12 columns]"
            ],
            "text/html": [
              "\n",
              "  <div id=\"df-850556e9-e28e-45e4-aebc-62e318b30970\">\n",
              "    <div class=\"colab-df-container\">\n",
              "      <div>\n",
              "<style scoped>\n",
              "    .dataframe tbody tr th:only-of-type {\n",
              "        vertical-align: middle;\n",
              "    }\n",
              "\n",
              "    .dataframe tbody tr th {\n",
              "        vertical-align: top;\n",
              "    }\n",
              "\n",
              "    .dataframe thead th {\n",
              "        text-align: right;\n",
              "    }\n",
              "</style>\n",
              "<table border=\"1\" class=\"dataframe\">\n",
              "  <thead>\n",
              "    <tr style=\"text-align: right;\">\n",
              "      <th></th>\n",
              "      <th>AOSNUMBER</th>\n",
              "      <th>City</th>\n",
              "      <th>County</th>\n",
              "      <th>State</th>\n",
              "      <th>Agency</th>\n",
              "      <th>Type of LEA</th>\n",
              "      <th>Type of Juris</th>\n",
              "      <th>Technology</th>\n",
              "      <th>Vendor_1</th>\n",
              "      <th>Vendor_2</th>\n",
              "      <th>Vendor_3</th>\n",
              "      <th>Vendor_4</th>\n",
              "    </tr>\n",
              "  </thead>\n",
              "  <tbody>\n",
              "    <tr>\n",
              "      <th>0</th>\n",
              "      <td>AOS0001</td>\n",
              "      <td>Woodstock</td>\n",
              "      <td>Shenandoah County</td>\n",
              "      <td>VA</td>\n",
              "      <td>Woodstock Police Department</td>\n",
              "      <td>Police</td>\n",
              "      <td>Municipal</td>\n",
              "      <td>Body-worn Cameras</td>\n",
              "      <td>VML Insurance Programs</td>\n",
              "      <td>None</td>\n",
              "      <td>None</td>\n",
              "      <td>None</td>\n",
              "    </tr>\n",
              "    <tr>\n",
              "      <th>1</th>\n",
              "      <td>AOS0002</td>\n",
              "      <td>Rockford</td>\n",
              "      <td>Ogle County, Winnebago County</td>\n",
              "      <td>IL</td>\n",
              "      <td>Rockford Police Department</td>\n",
              "      <td>Police</td>\n",
              "      <td>Municipal</td>\n",
              "      <td>Gunshot Detection</td>\n",
              "      <td>ShotSpotter</td>\n",
              "      <td>None</td>\n",
              "      <td>None</td>\n",
              "      <td>None</td>\n",
              "    </tr>\n",
              "    <tr>\n",
              "      <th>2</th>\n",
              "      <td>AOS0003</td>\n",
              "      <td>Atlanta</td>\n",
              "      <td>DeKalb County, Fulton County</td>\n",
              "      <td>GA</td>\n",
              "      <td>Atlanta Police Department</td>\n",
              "      <td>Police</td>\n",
              "      <td>Municipal</td>\n",
              "      <td>Gunshot Detection</td>\n",
              "      <td>ShotSpotter</td>\n",
              "      <td>None</td>\n",
              "      <td>None</td>\n",
              "      <td>None</td>\n",
              "    </tr>\n",
              "    <tr>\n",
              "      <th>3</th>\n",
              "      <td>AOS0004</td>\n",
              "      <td>Peoria</td>\n",
              "      <td>Peoria County</td>\n",
              "      <td>IL</td>\n",
              "      <td>Peoria Police Department</td>\n",
              "      <td>Police</td>\n",
              "      <td>Municipal</td>\n",
              "      <td>Gunshot Detection</td>\n",
              "      <td>ShotSpotter</td>\n",
              "      <td>None</td>\n",
              "      <td>None</td>\n",
              "      <td>None</td>\n",
              "    </tr>\n",
              "    <tr>\n",
              "      <th>4</th>\n",
              "      <td>AOS0005</td>\n",
              "      <td>Goldsboro</td>\n",
              "      <td>Wayne County</td>\n",
              "      <td>NC</td>\n",
              "      <td>Goldsboro Police Department</td>\n",
              "      <td>Police</td>\n",
              "      <td>Municipal</td>\n",
              "      <td>Gunshot Detection</td>\n",
              "      <td>ShotSpotter</td>\n",
              "      <td>None</td>\n",
              "      <td>None</td>\n",
              "      <td>None</td>\n",
              "    </tr>\n",
              "    <tr>\n",
              "      <th>...</th>\n",
              "      <td>...</td>\n",
              "      <td>...</td>\n",
              "      <td>...</td>\n",
              "      <td>...</td>\n",
              "      <td>...</td>\n",
              "      <td>...</td>\n",
              "      <td>...</td>\n",
              "      <td>...</td>\n",
              "      <td>...</td>\n",
              "      <td>...</td>\n",
              "      <td>...</td>\n",
              "      <td>...</td>\n",
              "    </tr>\n",
              "    <tr>\n",
              "      <th>10620</th>\n",
              "      <td>AOS10621</td>\n",
              "      <td>Shenandoah</td>\n",
              "      <td>Montgomery County</td>\n",
              "      <td>TX</td>\n",
              "      <td>Shenandoah Police Department</td>\n",
              "      <td>Police</td>\n",
              "      <td>Municipal</td>\n",
              "      <td>Automated License Plate Readers</td>\n",
              "      <td>unknown</td>\n",
              "      <td>None</td>\n",
              "      <td>None</td>\n",
              "      <td>None</td>\n",
              "    </tr>\n",
              "    <tr>\n",
              "      <th>10621</th>\n",
              "      <td>AOS10622</td>\n",
              "      <td>Plano</td>\n",
              "      <td>Denton County, Collin County</td>\n",
              "      <td>TX</td>\n",
              "      <td>Plano Police Department</td>\n",
              "      <td>Police</td>\n",
              "      <td>Municipal</td>\n",
              "      <td>Drones</td>\n",
              "      <td>unknown</td>\n",
              "      <td>None</td>\n",
              "      <td>None</td>\n",
              "      <td>None</td>\n",
              "    </tr>\n",
              "    <tr>\n",
              "      <th>10622</th>\n",
              "      <td>AOS10623</td>\n",
              "      <td>Tomball</td>\n",
              "      <td>Harris County</td>\n",
              "      <td>TX</td>\n",
              "      <td>Tomball Police Department</td>\n",
              "      <td>Police</td>\n",
              "      <td>Municipal</td>\n",
              "      <td>Drones</td>\n",
              "      <td>unknown</td>\n",
              "      <td>None</td>\n",
              "      <td>None</td>\n",
              "      <td>None</td>\n",
              "    </tr>\n",
              "    <tr>\n",
              "      <th>10623</th>\n",
              "      <td>AOS10624</td>\n",
              "      <td>Gainesville</td>\n",
              "      <td>Cooke County</td>\n",
              "      <td>TX</td>\n",
              "      <td>Cooke County Sheriff's Office</td>\n",
              "      <td>Sheriff</td>\n",
              "      <td>County</td>\n",
              "      <td>Drones</td>\n",
              "      <td>DJI</td>\n",
              "      <td>None</td>\n",
              "      <td>None</td>\n",
              "      <td>None</td>\n",
              "    </tr>\n",
              "    <tr>\n",
              "      <th>10624</th>\n",
              "      <td>AOS10625</td>\n",
              "      <td>St. George</td>\n",
              "      <td>Washington County</td>\n",
              "      <td>UT</td>\n",
              "      <td>St. George Police Department</td>\n",
              "      <td>Police</td>\n",
              "      <td>Municipal</td>\n",
              "      <td>Body-worn Cameras</td>\n",
              "      <td>unknown</td>\n",
              "      <td>None</td>\n",
              "      <td>None</td>\n",
              "      <td>None</td>\n",
              "    </tr>\n",
              "  </tbody>\n",
              "</table>\n",
              "<p>10625 rows × 12 columns</p>\n",
              "</div>\n",
              "      <button class=\"colab-df-convert\" onclick=\"convertToInteractive('df-850556e9-e28e-45e4-aebc-62e318b30970')\"\n",
              "              title=\"Convert this dataframe to an interactive table.\"\n",
              "              style=\"display:none;\">\n",
              "        \n",
              "  <svg xmlns=\"http://www.w3.org/2000/svg\" height=\"24px\"viewBox=\"0 0 24 24\"\n",
              "       width=\"24px\">\n",
              "    <path d=\"M0 0h24v24H0V0z\" fill=\"none\"/>\n",
              "    <path d=\"M18.56 5.44l.94 2.06.94-2.06 2.06-.94-2.06-.94-.94-2.06-.94 2.06-2.06.94zm-11 1L8.5 8.5l.94-2.06 2.06-.94-2.06-.94L8.5 2.5l-.94 2.06-2.06.94zm10 10l.94 2.06.94-2.06 2.06-.94-2.06-.94-.94-2.06-.94 2.06-2.06.94z\"/><path d=\"M17.41 7.96l-1.37-1.37c-.4-.4-.92-.59-1.43-.59-.52 0-1.04.2-1.43.59L10.3 9.45l-7.72 7.72c-.78.78-.78 2.05 0 2.83L4 21.41c.39.39.9.59 1.41.59.51 0 1.02-.2 1.41-.59l7.78-7.78 2.81-2.81c.8-.78.8-2.07 0-2.86zM5.41 20L4 18.59l7.72-7.72 1.47 1.35L5.41 20z\"/>\n",
              "  </svg>\n",
              "      </button>\n",
              "      \n",
              "  <style>\n",
              "    .colab-df-container {\n",
              "      display:flex;\n",
              "      flex-wrap:wrap;\n",
              "      gap: 12px;\n",
              "    }\n",
              "\n",
              "    .colab-df-convert {\n",
              "      background-color: #E8F0FE;\n",
              "      border: none;\n",
              "      border-radius: 50%;\n",
              "      cursor: pointer;\n",
              "      display: none;\n",
              "      fill: #1967D2;\n",
              "      height: 32px;\n",
              "      padding: 0 0 0 0;\n",
              "      width: 32px;\n",
              "    }\n",
              "\n",
              "    .colab-df-convert:hover {\n",
              "      background-color: #E2EBFA;\n",
              "      box-shadow: 0px 1px 2px rgba(60, 64, 67, 0.3), 0px 1px 3px 1px rgba(60, 64, 67, 0.15);\n",
              "      fill: #174EA6;\n",
              "    }\n",
              "\n",
              "    [theme=dark] .colab-df-convert {\n",
              "      background-color: #3B4455;\n",
              "      fill: #D2E3FC;\n",
              "    }\n",
              "\n",
              "    [theme=dark] .colab-df-convert:hover {\n",
              "      background-color: #434B5C;\n",
              "      box-shadow: 0px 1px 3px 1px rgba(0, 0, 0, 0.15);\n",
              "      filter: drop-shadow(0px 1px 2px rgba(0, 0, 0, 0.3));\n",
              "      fill: #FFFFFF;\n",
              "    }\n",
              "  </style>\n",
              "\n",
              "      <script>\n",
              "        const buttonEl =\n",
              "          document.querySelector('#df-850556e9-e28e-45e4-aebc-62e318b30970 button.colab-df-convert');\n",
              "        buttonEl.style.display =\n",
              "          google.colab.kernel.accessAllowed ? 'block' : 'none';\n",
              "\n",
              "        async function convertToInteractive(key) {\n",
              "          const element = document.querySelector('#df-850556e9-e28e-45e4-aebc-62e318b30970');\n",
              "          const dataTable =\n",
              "            await google.colab.kernel.invokeFunction('convertToInteractive',\n",
              "                                                     [key], {});\n",
              "          if (!dataTable) return;\n",
              "\n",
              "          const docLinkHtml = 'Like what you see? Visit the ' +\n",
              "            '<a target=\"_blank\" href=https://colab.research.google.com/notebooks/data_table.ipynb>data table notebook</a>'\n",
              "            + ' to learn more about interactive tables.';\n",
              "          element.innerHTML = '';\n",
              "          dataTable['output_type'] = 'display_data';\n",
              "          await google.colab.output.renderOutput(dataTable, element);\n",
              "          const docLink = document.createElement('div');\n",
              "          docLink.innerHTML = docLinkHtml;\n",
              "          element.appendChild(docLink);\n",
              "        }\n",
              "      </script>\n",
              "    </div>\n",
              "  </div>\n",
              "  "
            ]
          },
          "metadata": {},
          "execution_count": 28
        }
      ]
    },
    {
      "cell_type": "markdown",
      "source": [
        "## Step 4 Replace \"Unknown\" by \"None\"\n",
        "\n",
        "Only Vendor_1 needs this as it's the only column where \"unknown\" is registered."
      ],
      "metadata": {
        "id": "JDFhuCc0kpR0"
      }
    },
    {
      "cell_type": "code",
      "source": [
        "df3[\"Vendor_1\"] = df3[\"Vendor_1\"].replace(\"unknown\", None)\n",
        "df3"
      ],
      "metadata": {
        "colab": {
          "base_uri": "https://localhost:8080/",
          "height": 659
        },
        "id": "--G7-82kBB8Z",
        "outputId": "69332108-354c-4248-b2b0-0ededca44054"
      },
      "execution_count": null,
      "outputs": [
        {
          "output_type": "execute_result",
          "data": {
            "text/plain": [
              "      AOSNUMBER         City                         County State  \\\n",
              "0       AOS0001    Woodstock              Shenandoah County    VA   \n",
              "1       AOS0002     Rockford  Ogle County, Winnebago County    IL   \n",
              "2       AOS0003      Atlanta   DeKalb County, Fulton County    GA   \n",
              "3       AOS0004       Peoria                  Peoria County    IL   \n",
              "4       AOS0005    Goldsboro                   Wayne County    NC   \n",
              "...         ...          ...                            ...   ...   \n",
              "10620  AOS10621   Shenandoah              Montgomery County    TX   \n",
              "10621  AOS10622        Plano   Denton County, Collin County    TX   \n",
              "10622  AOS10623      Tomball                  Harris County    TX   \n",
              "10623  AOS10624  Gainesville                   Cooke County    TX   \n",
              "10624  AOS10625   St. George              Washington County    UT   \n",
              "\n",
              "                              Agency Type of LEA Type of Juris  \\\n",
              "0        Woodstock Police Department      Police     Municipal   \n",
              "1         Rockford Police Department      Police     Municipal   \n",
              "2          Atlanta Police Department      Police     Municipal   \n",
              "3           Peoria Police Department      Police     Municipal   \n",
              "4        Goldsboro Police Department      Police     Municipal   \n",
              "...                              ...         ...           ...   \n",
              "10620   Shenandoah Police Department      Police     Municipal   \n",
              "10621        Plano Police Department      Police     Municipal   \n",
              "10622      Tomball Police Department      Police     Municipal   \n",
              "10623  Cooke County Sheriff's Office     Sheriff        County   \n",
              "10624   St. George Police Department      Police     Municipal   \n",
              "\n",
              "                            Technology                Vendor_1 Vendor_2  \\\n",
              "0                    Body-worn Cameras  VML Insurance Programs     None   \n",
              "1                    Gunshot Detection             ShotSpotter     None   \n",
              "2                    Gunshot Detection             ShotSpotter     None   \n",
              "3                    Gunshot Detection             ShotSpotter     None   \n",
              "4                    Gunshot Detection             ShotSpotter     None   \n",
              "...                                ...                     ...      ...   \n",
              "10620  Automated License Plate Readers                    None     None   \n",
              "10621                           Drones                    None     None   \n",
              "10622                           Drones                    None     None   \n",
              "10623                           Drones                     DJI     None   \n",
              "10624                Body-worn Cameras                    None     None   \n",
              "\n",
              "      Vendor_3 Vendor_4  \n",
              "0         None     None  \n",
              "1         None     None  \n",
              "2         None     None  \n",
              "3         None     None  \n",
              "4         None     None  \n",
              "...        ...      ...  \n",
              "10620     None     None  \n",
              "10621     None     None  \n",
              "10622     None     None  \n",
              "10623     None     None  \n",
              "10624     None     None  \n",
              "\n",
              "[10625 rows x 12 columns]"
            ],
            "text/html": [
              "\n",
              "  <div id=\"df-c0cb53f1-26a6-44aa-9862-2ac2e65b7c00\">\n",
              "    <div class=\"colab-df-container\">\n",
              "      <div>\n",
              "<style scoped>\n",
              "    .dataframe tbody tr th:only-of-type {\n",
              "        vertical-align: middle;\n",
              "    }\n",
              "\n",
              "    .dataframe tbody tr th {\n",
              "        vertical-align: top;\n",
              "    }\n",
              "\n",
              "    .dataframe thead th {\n",
              "        text-align: right;\n",
              "    }\n",
              "</style>\n",
              "<table border=\"1\" class=\"dataframe\">\n",
              "  <thead>\n",
              "    <tr style=\"text-align: right;\">\n",
              "      <th></th>\n",
              "      <th>AOSNUMBER</th>\n",
              "      <th>City</th>\n",
              "      <th>County</th>\n",
              "      <th>State</th>\n",
              "      <th>Agency</th>\n",
              "      <th>Type of LEA</th>\n",
              "      <th>Type of Juris</th>\n",
              "      <th>Technology</th>\n",
              "      <th>Vendor_1</th>\n",
              "      <th>Vendor_2</th>\n",
              "      <th>Vendor_3</th>\n",
              "      <th>Vendor_4</th>\n",
              "    </tr>\n",
              "  </thead>\n",
              "  <tbody>\n",
              "    <tr>\n",
              "      <th>0</th>\n",
              "      <td>AOS0001</td>\n",
              "      <td>Woodstock</td>\n",
              "      <td>Shenandoah County</td>\n",
              "      <td>VA</td>\n",
              "      <td>Woodstock Police Department</td>\n",
              "      <td>Police</td>\n",
              "      <td>Municipal</td>\n",
              "      <td>Body-worn Cameras</td>\n",
              "      <td>VML Insurance Programs</td>\n",
              "      <td>None</td>\n",
              "      <td>None</td>\n",
              "      <td>None</td>\n",
              "    </tr>\n",
              "    <tr>\n",
              "      <th>1</th>\n",
              "      <td>AOS0002</td>\n",
              "      <td>Rockford</td>\n",
              "      <td>Ogle County, Winnebago County</td>\n",
              "      <td>IL</td>\n",
              "      <td>Rockford Police Department</td>\n",
              "      <td>Police</td>\n",
              "      <td>Municipal</td>\n",
              "      <td>Gunshot Detection</td>\n",
              "      <td>ShotSpotter</td>\n",
              "      <td>None</td>\n",
              "      <td>None</td>\n",
              "      <td>None</td>\n",
              "    </tr>\n",
              "    <tr>\n",
              "      <th>2</th>\n",
              "      <td>AOS0003</td>\n",
              "      <td>Atlanta</td>\n",
              "      <td>DeKalb County, Fulton County</td>\n",
              "      <td>GA</td>\n",
              "      <td>Atlanta Police Department</td>\n",
              "      <td>Police</td>\n",
              "      <td>Municipal</td>\n",
              "      <td>Gunshot Detection</td>\n",
              "      <td>ShotSpotter</td>\n",
              "      <td>None</td>\n",
              "      <td>None</td>\n",
              "      <td>None</td>\n",
              "    </tr>\n",
              "    <tr>\n",
              "      <th>3</th>\n",
              "      <td>AOS0004</td>\n",
              "      <td>Peoria</td>\n",
              "      <td>Peoria County</td>\n",
              "      <td>IL</td>\n",
              "      <td>Peoria Police Department</td>\n",
              "      <td>Police</td>\n",
              "      <td>Municipal</td>\n",
              "      <td>Gunshot Detection</td>\n",
              "      <td>ShotSpotter</td>\n",
              "      <td>None</td>\n",
              "      <td>None</td>\n",
              "      <td>None</td>\n",
              "    </tr>\n",
              "    <tr>\n",
              "      <th>4</th>\n",
              "      <td>AOS0005</td>\n",
              "      <td>Goldsboro</td>\n",
              "      <td>Wayne County</td>\n",
              "      <td>NC</td>\n",
              "      <td>Goldsboro Police Department</td>\n",
              "      <td>Police</td>\n",
              "      <td>Municipal</td>\n",
              "      <td>Gunshot Detection</td>\n",
              "      <td>ShotSpotter</td>\n",
              "      <td>None</td>\n",
              "      <td>None</td>\n",
              "      <td>None</td>\n",
              "    </tr>\n",
              "    <tr>\n",
              "      <th>...</th>\n",
              "      <td>...</td>\n",
              "      <td>...</td>\n",
              "      <td>...</td>\n",
              "      <td>...</td>\n",
              "      <td>...</td>\n",
              "      <td>...</td>\n",
              "      <td>...</td>\n",
              "      <td>...</td>\n",
              "      <td>...</td>\n",
              "      <td>...</td>\n",
              "      <td>...</td>\n",
              "      <td>...</td>\n",
              "    </tr>\n",
              "    <tr>\n",
              "      <th>10620</th>\n",
              "      <td>AOS10621</td>\n",
              "      <td>Shenandoah</td>\n",
              "      <td>Montgomery County</td>\n",
              "      <td>TX</td>\n",
              "      <td>Shenandoah Police Department</td>\n",
              "      <td>Police</td>\n",
              "      <td>Municipal</td>\n",
              "      <td>Automated License Plate Readers</td>\n",
              "      <td>None</td>\n",
              "      <td>None</td>\n",
              "      <td>None</td>\n",
              "      <td>None</td>\n",
              "    </tr>\n",
              "    <tr>\n",
              "      <th>10621</th>\n",
              "      <td>AOS10622</td>\n",
              "      <td>Plano</td>\n",
              "      <td>Denton County, Collin County</td>\n",
              "      <td>TX</td>\n",
              "      <td>Plano Police Department</td>\n",
              "      <td>Police</td>\n",
              "      <td>Municipal</td>\n",
              "      <td>Drones</td>\n",
              "      <td>None</td>\n",
              "      <td>None</td>\n",
              "      <td>None</td>\n",
              "      <td>None</td>\n",
              "    </tr>\n",
              "    <tr>\n",
              "      <th>10622</th>\n",
              "      <td>AOS10623</td>\n",
              "      <td>Tomball</td>\n",
              "      <td>Harris County</td>\n",
              "      <td>TX</td>\n",
              "      <td>Tomball Police Department</td>\n",
              "      <td>Police</td>\n",
              "      <td>Municipal</td>\n",
              "      <td>Drones</td>\n",
              "      <td>None</td>\n",
              "      <td>None</td>\n",
              "      <td>None</td>\n",
              "      <td>None</td>\n",
              "    </tr>\n",
              "    <tr>\n",
              "      <th>10623</th>\n",
              "      <td>AOS10624</td>\n",
              "      <td>Gainesville</td>\n",
              "      <td>Cooke County</td>\n",
              "      <td>TX</td>\n",
              "      <td>Cooke County Sheriff's Office</td>\n",
              "      <td>Sheriff</td>\n",
              "      <td>County</td>\n",
              "      <td>Drones</td>\n",
              "      <td>DJI</td>\n",
              "      <td>None</td>\n",
              "      <td>None</td>\n",
              "      <td>None</td>\n",
              "    </tr>\n",
              "    <tr>\n",
              "      <th>10624</th>\n",
              "      <td>AOS10625</td>\n",
              "      <td>St. George</td>\n",
              "      <td>Washington County</td>\n",
              "      <td>UT</td>\n",
              "      <td>St. George Police Department</td>\n",
              "      <td>Police</td>\n",
              "      <td>Municipal</td>\n",
              "      <td>Body-worn Cameras</td>\n",
              "      <td>None</td>\n",
              "      <td>None</td>\n",
              "      <td>None</td>\n",
              "      <td>None</td>\n",
              "    </tr>\n",
              "  </tbody>\n",
              "</table>\n",
              "<p>10625 rows × 12 columns</p>\n",
              "</div>\n",
              "      <button class=\"colab-df-convert\" onclick=\"convertToInteractive('df-c0cb53f1-26a6-44aa-9862-2ac2e65b7c00')\"\n",
              "              title=\"Convert this dataframe to an interactive table.\"\n",
              "              style=\"display:none;\">\n",
              "        \n",
              "  <svg xmlns=\"http://www.w3.org/2000/svg\" height=\"24px\"viewBox=\"0 0 24 24\"\n",
              "       width=\"24px\">\n",
              "    <path d=\"M0 0h24v24H0V0z\" fill=\"none\"/>\n",
              "    <path d=\"M18.56 5.44l.94 2.06.94-2.06 2.06-.94-2.06-.94-.94-2.06-.94 2.06-2.06.94zm-11 1L8.5 8.5l.94-2.06 2.06-.94-2.06-.94L8.5 2.5l-.94 2.06-2.06.94zm10 10l.94 2.06.94-2.06 2.06-.94-2.06-.94-.94-2.06-.94 2.06-2.06.94z\"/><path d=\"M17.41 7.96l-1.37-1.37c-.4-.4-.92-.59-1.43-.59-.52 0-1.04.2-1.43.59L10.3 9.45l-7.72 7.72c-.78.78-.78 2.05 0 2.83L4 21.41c.39.39.9.59 1.41.59.51 0 1.02-.2 1.41-.59l7.78-7.78 2.81-2.81c.8-.78.8-2.07 0-2.86zM5.41 20L4 18.59l7.72-7.72 1.47 1.35L5.41 20z\"/>\n",
              "  </svg>\n",
              "      </button>\n",
              "      \n",
              "  <style>\n",
              "    .colab-df-container {\n",
              "      display:flex;\n",
              "      flex-wrap:wrap;\n",
              "      gap: 12px;\n",
              "    }\n",
              "\n",
              "    .colab-df-convert {\n",
              "      background-color: #E8F0FE;\n",
              "      border: none;\n",
              "      border-radius: 50%;\n",
              "      cursor: pointer;\n",
              "      display: none;\n",
              "      fill: #1967D2;\n",
              "      height: 32px;\n",
              "      padding: 0 0 0 0;\n",
              "      width: 32px;\n",
              "    }\n",
              "\n",
              "    .colab-df-convert:hover {\n",
              "      background-color: #E2EBFA;\n",
              "      box-shadow: 0px 1px 2px rgba(60, 64, 67, 0.3), 0px 1px 3px 1px rgba(60, 64, 67, 0.15);\n",
              "      fill: #174EA6;\n",
              "    }\n",
              "\n",
              "    [theme=dark] .colab-df-convert {\n",
              "      background-color: #3B4455;\n",
              "      fill: #D2E3FC;\n",
              "    }\n",
              "\n",
              "    [theme=dark] .colab-df-convert:hover {\n",
              "      background-color: #434B5C;\n",
              "      box-shadow: 0px 1px 3px 1px rgba(0, 0, 0, 0.15);\n",
              "      filter: drop-shadow(0px 1px 2px rgba(0, 0, 0, 0.3));\n",
              "      fill: #FFFFFF;\n",
              "    }\n",
              "  </style>\n",
              "\n",
              "      <script>\n",
              "        const buttonEl =\n",
              "          document.querySelector('#df-c0cb53f1-26a6-44aa-9862-2ac2e65b7c00 button.colab-df-convert');\n",
              "        buttonEl.style.display =\n",
              "          google.colab.kernel.accessAllowed ? 'block' : 'none';\n",
              "\n",
              "        async function convertToInteractive(key) {\n",
              "          const element = document.querySelector('#df-c0cb53f1-26a6-44aa-9862-2ac2e65b7c00');\n",
              "          const dataTable =\n",
              "            await google.colab.kernel.invokeFunction('convertToInteractive',\n",
              "                                                     [key], {});\n",
              "          if (!dataTable) return;\n",
              "\n",
              "          const docLinkHtml = 'Like what you see? Visit the ' +\n",
              "            '<a target=\"_blank\" href=https://colab.research.google.com/notebooks/data_table.ipynb>data table notebook</a>'\n",
              "            + ' to learn more about interactive tables.';\n",
              "          element.innerHTML = '';\n",
              "          dataTable['output_type'] = 'display_data';\n",
              "          await google.colab.output.renderOutput(dataTable, element);\n",
              "          const docLink = document.createElement('div');\n",
              "          docLink.innerHTML = docLinkHtml;\n",
              "          element.appendChild(docLink);\n",
              "        }\n",
              "      </script>\n",
              "    </div>\n",
              "  </div>\n",
              "  "
            ]
          },
          "metadata": {},
          "execution_count": 29
        }
      ]
    },
    {
      "cell_type": "markdown",
      "source": [
        "## Step 5 Clean Vendors Columns"
      ],
      "metadata": {
        "id": "ATI-XLtKBVKF"
      }
    },
    {
      "cell_type": "code",
      "source": [
        "# Clean leading and trailing spaces in Vendor columns\n",
        "for col in df3.columns:\n",
        "    if col.startswith(\"Vendor_\"):\n",
        "        df3[col] = df3[col].str.strip() # Clean leading and trailing spaces\n",
        "        df3[col] = df3[col].str.lower() # Make all Vendors no capitalized"
      ],
      "metadata": {
        "id": "-6Ab9AYiBbRM"
      },
      "execution_count": null,
      "outputs": []
    },
    {
      "cell_type": "code",
      "source": [
        "# Replace all vendors as \"unknown\" as 'None'\n",
        "df3[\"Vendor_1\"] = df3[\"Vendor_1\"].replace(\"unknown\", np.nan) #replace all unknown to be a missing value or NaN"
      ],
      "metadata": {
        "id": "iDW44_9UBjO1"
      },
      "execution_count": null,
      "outputs": []
    },
    {
      "cell_type": "code",
      "source": [
        "df3[\"Vendor_1\"].unique()"
      ],
      "metadata": {
        "colab": {
          "base_uri": "https://localhost:8080/"
        },
        "id": "87rDSzK0BvLZ",
        "outputId": "0942cf5a-fd01-4896-af6a-976ca11f9483"
      },
      "execution_count": null,
      "outputs": [
        {
          "output_type": "execute_result",
          "data": {
            "text/plain": [
              "array(['vml insurance programs', 'shotspotter', 'watchguard', None,\n",
              "       'coban', 'axon', 'wi-fiber', 'elsag', 'getac',\n",
              "       'vigilant solutions', 'panasonic', 'geolitica', 'utility',\n",
              "       'dataworks plus', 'selex', 'flock safety', 'motorola solutions',\n",
              "       'l-3', 'pips', 'vievu', 'copvu', 'reveal d3', 'safety vision',\n",
              "       'l3 mobile vision', 'visual labs inc.', 'wireless cctv',\n",
              "       'harris corp.', 'skycop', 'digital ally', 'briefcam', 'neology',\n",
              "       'genetec autovu', 'openalpr', 'tannery creek systems',\n",
              "       'clearview ai', 'ring', 'motorola', 'lenslock', 'fusus',\n",
              "       'cross camera controls', 'tactical support equipment',\n",
              "       'cogniac corporation', 'dji', 'autel', 'firstvu', '', 'provision',\n",
              "       'l3harris', 'patrol eyes', 'honeywell', 'skydio', 'sitesecure',\n",
              "       'safe fleet', 'gopro', 'yuneec', 'autel robotics', 'bond',\n",
              "       'l3 bodyvision', 'visual lab', 'watchguard and axon',\n",
              "       'panasonic and digital ally', 'utility associates',\n",
              "       'major police and fire supply', 'linked all aerial solutions',\n",
              "       'l3', 'brinc', 'muvi', 'in 2022', 'aircover', 'aeryon labs',\n",
              "       'leptron', '3dr', 'physical sciences', 'walkera', 'parrot',\n",
              "       'draganfly innovations', 'uav solutions', 'maxsur', 'udi',\n",
              "       'lockheed martin', 'aerovironment', 'rmus', 'dronium',\n",
              "       'silent falcon', 'acecore', 'trimble', 'aerial imaging works',\n",
              "       'institute for human and machine cognition', 'sentera',\n",
              "       'century helicopter products', 'impossible aerospace', 'draganfly',\n",
              "       'swellpro', 'heliproz', 'hse', 'r4 robotics', 'blade', 'keyw',\n",
              "       'digital receiver technology', 'idemia', 'nec', 'aegis', 'titan',\n",
              "       'mobile-vision', 'wolfcom', 'ndi recognition systems', 'rekor',\n",
              "       'nicevision', 'arxys', 'pro-vision', 'shield v', 'project nola',\n",
              "       'viperwave', 'coptrax', 'vintra', 'afr engine',\n",
              "       'harris corporation', 'ndi technologies', 'civicscape', 'ibm',\n",
              "       'compstat', 'verra mobility', 'avigilon', 'intellisite', 'autovu',\n",
              "       'l3 communications', 'turn-key mobile inc.', 'visual labs',\n",
              "       'data 911', 'veritone', 'pips technology', 'thomson reuters clear',\n",
              "       'taser', 'axon body-2', 'ndi', 'genetec', 'nupark', 'amberbox',\n",
              "       'verbi', 'mobotix', 'park assist', 'bodyworn', 'reveal',\n",
              "       'patroleyes', 'shotspotter connect', 'safe-fleet', 'rekor systems',\n",
              "       'transcend robotics', 'blue line technologies', 'flock',\n",
              "       'bodyworn (utility', 'monitor closely', 'safevant', 'aisight',\n",
              "       'splash', 'anyvision', 'eagl technology', 'turn-key mobile',\n",
              "       'geolitica (predpol)', 'blue line resolutions', 'securewatch 24',\n",
              "       'l-3 mobile vision', 'l-3 mobile-vision', 'verkada', 'skyfire',\n",
              "       'predpol', 'motorola solutins', 'possibly axon',\n",
              "       'l3 mobile-vision', 'platesmart technologies',\n",
              "       'acti communications', 'lacris', 'vievue', 'steel city drones',\n",
              "       'vivue', 'dlsrpros', 'flir', 'innovative solutions',\n",
              "       'martel electronics', 'platescan'], dtype=object)"
            ]
          },
          "metadata": {},
          "execution_count": 32
        }
      ]
    },
    {
      "cell_type": "code",
      "source": [
        "df3"
      ],
      "metadata": {
        "colab": {
          "base_uri": "https://localhost:8080/",
          "height": 659
        },
        "id": "1El_kcmHCynR",
        "outputId": "8e58f171-0bdb-4c24-e174-26089af81051"
      },
      "execution_count": null,
      "outputs": [
        {
          "output_type": "execute_result",
          "data": {
            "text/plain": [
              "      AOSNUMBER         City                         County State  \\\n",
              "0       AOS0001    Woodstock              Shenandoah County    VA   \n",
              "1       AOS0002     Rockford  Ogle County, Winnebago County    IL   \n",
              "2       AOS0003      Atlanta   DeKalb County, Fulton County    GA   \n",
              "3       AOS0004       Peoria                  Peoria County    IL   \n",
              "4       AOS0005    Goldsboro                   Wayne County    NC   \n",
              "...         ...          ...                            ...   ...   \n",
              "10620  AOS10621   Shenandoah              Montgomery County    TX   \n",
              "10621  AOS10622        Plano   Denton County, Collin County    TX   \n",
              "10622  AOS10623      Tomball                  Harris County    TX   \n",
              "10623  AOS10624  Gainesville                   Cooke County    TX   \n",
              "10624  AOS10625   St. George              Washington County    UT   \n",
              "\n",
              "                              Agency Type of LEA Type of Juris  \\\n",
              "0        Woodstock Police Department      Police     Municipal   \n",
              "1         Rockford Police Department      Police     Municipal   \n",
              "2          Atlanta Police Department      Police     Municipal   \n",
              "3           Peoria Police Department      Police     Municipal   \n",
              "4        Goldsboro Police Department      Police     Municipal   \n",
              "...                              ...         ...           ...   \n",
              "10620   Shenandoah Police Department      Police     Municipal   \n",
              "10621        Plano Police Department      Police     Municipal   \n",
              "10622      Tomball Police Department      Police     Municipal   \n",
              "10623  Cooke County Sheriff's Office     Sheriff        County   \n",
              "10624   St. George Police Department      Police     Municipal   \n",
              "\n",
              "                            Technology                Vendor_1 Vendor_2  \\\n",
              "0                    Body-worn Cameras  vml insurance programs     None   \n",
              "1                    Gunshot Detection             shotspotter     None   \n",
              "2                    Gunshot Detection             shotspotter     None   \n",
              "3                    Gunshot Detection             shotspotter     None   \n",
              "4                    Gunshot Detection             shotspotter     None   \n",
              "...                                ...                     ...      ...   \n",
              "10620  Automated License Plate Readers                    None     None   \n",
              "10621                           Drones                    None     None   \n",
              "10622                           Drones                    None     None   \n",
              "10623                           Drones                     dji     None   \n",
              "10624                Body-worn Cameras                    None     None   \n",
              "\n",
              "      Vendor_3 Vendor_4  \n",
              "0         None     None  \n",
              "1         None     None  \n",
              "2         None     None  \n",
              "3         None     None  \n",
              "4         None     None  \n",
              "...        ...      ...  \n",
              "10620     None     None  \n",
              "10621     None     None  \n",
              "10622     None     None  \n",
              "10623     None     None  \n",
              "10624     None     None  \n",
              "\n",
              "[10625 rows x 12 columns]"
            ],
            "text/html": [
              "\n",
              "  <div id=\"df-58e55df8-11a2-4a07-8983-cd241ed7fc1c\">\n",
              "    <div class=\"colab-df-container\">\n",
              "      <div>\n",
              "<style scoped>\n",
              "    .dataframe tbody tr th:only-of-type {\n",
              "        vertical-align: middle;\n",
              "    }\n",
              "\n",
              "    .dataframe tbody tr th {\n",
              "        vertical-align: top;\n",
              "    }\n",
              "\n",
              "    .dataframe thead th {\n",
              "        text-align: right;\n",
              "    }\n",
              "</style>\n",
              "<table border=\"1\" class=\"dataframe\">\n",
              "  <thead>\n",
              "    <tr style=\"text-align: right;\">\n",
              "      <th></th>\n",
              "      <th>AOSNUMBER</th>\n",
              "      <th>City</th>\n",
              "      <th>County</th>\n",
              "      <th>State</th>\n",
              "      <th>Agency</th>\n",
              "      <th>Type of LEA</th>\n",
              "      <th>Type of Juris</th>\n",
              "      <th>Technology</th>\n",
              "      <th>Vendor_1</th>\n",
              "      <th>Vendor_2</th>\n",
              "      <th>Vendor_3</th>\n",
              "      <th>Vendor_4</th>\n",
              "    </tr>\n",
              "  </thead>\n",
              "  <tbody>\n",
              "    <tr>\n",
              "      <th>0</th>\n",
              "      <td>AOS0001</td>\n",
              "      <td>Woodstock</td>\n",
              "      <td>Shenandoah County</td>\n",
              "      <td>VA</td>\n",
              "      <td>Woodstock Police Department</td>\n",
              "      <td>Police</td>\n",
              "      <td>Municipal</td>\n",
              "      <td>Body-worn Cameras</td>\n",
              "      <td>vml insurance programs</td>\n",
              "      <td>None</td>\n",
              "      <td>None</td>\n",
              "      <td>None</td>\n",
              "    </tr>\n",
              "    <tr>\n",
              "      <th>1</th>\n",
              "      <td>AOS0002</td>\n",
              "      <td>Rockford</td>\n",
              "      <td>Ogle County, Winnebago County</td>\n",
              "      <td>IL</td>\n",
              "      <td>Rockford Police Department</td>\n",
              "      <td>Police</td>\n",
              "      <td>Municipal</td>\n",
              "      <td>Gunshot Detection</td>\n",
              "      <td>shotspotter</td>\n",
              "      <td>None</td>\n",
              "      <td>None</td>\n",
              "      <td>None</td>\n",
              "    </tr>\n",
              "    <tr>\n",
              "      <th>2</th>\n",
              "      <td>AOS0003</td>\n",
              "      <td>Atlanta</td>\n",
              "      <td>DeKalb County, Fulton County</td>\n",
              "      <td>GA</td>\n",
              "      <td>Atlanta Police Department</td>\n",
              "      <td>Police</td>\n",
              "      <td>Municipal</td>\n",
              "      <td>Gunshot Detection</td>\n",
              "      <td>shotspotter</td>\n",
              "      <td>None</td>\n",
              "      <td>None</td>\n",
              "      <td>None</td>\n",
              "    </tr>\n",
              "    <tr>\n",
              "      <th>3</th>\n",
              "      <td>AOS0004</td>\n",
              "      <td>Peoria</td>\n",
              "      <td>Peoria County</td>\n",
              "      <td>IL</td>\n",
              "      <td>Peoria Police Department</td>\n",
              "      <td>Police</td>\n",
              "      <td>Municipal</td>\n",
              "      <td>Gunshot Detection</td>\n",
              "      <td>shotspotter</td>\n",
              "      <td>None</td>\n",
              "      <td>None</td>\n",
              "      <td>None</td>\n",
              "    </tr>\n",
              "    <tr>\n",
              "      <th>4</th>\n",
              "      <td>AOS0005</td>\n",
              "      <td>Goldsboro</td>\n",
              "      <td>Wayne County</td>\n",
              "      <td>NC</td>\n",
              "      <td>Goldsboro Police Department</td>\n",
              "      <td>Police</td>\n",
              "      <td>Municipal</td>\n",
              "      <td>Gunshot Detection</td>\n",
              "      <td>shotspotter</td>\n",
              "      <td>None</td>\n",
              "      <td>None</td>\n",
              "      <td>None</td>\n",
              "    </tr>\n",
              "    <tr>\n",
              "      <th>...</th>\n",
              "      <td>...</td>\n",
              "      <td>...</td>\n",
              "      <td>...</td>\n",
              "      <td>...</td>\n",
              "      <td>...</td>\n",
              "      <td>...</td>\n",
              "      <td>...</td>\n",
              "      <td>...</td>\n",
              "      <td>...</td>\n",
              "      <td>...</td>\n",
              "      <td>...</td>\n",
              "      <td>...</td>\n",
              "    </tr>\n",
              "    <tr>\n",
              "      <th>10620</th>\n",
              "      <td>AOS10621</td>\n",
              "      <td>Shenandoah</td>\n",
              "      <td>Montgomery County</td>\n",
              "      <td>TX</td>\n",
              "      <td>Shenandoah Police Department</td>\n",
              "      <td>Police</td>\n",
              "      <td>Municipal</td>\n",
              "      <td>Automated License Plate Readers</td>\n",
              "      <td>None</td>\n",
              "      <td>None</td>\n",
              "      <td>None</td>\n",
              "      <td>None</td>\n",
              "    </tr>\n",
              "    <tr>\n",
              "      <th>10621</th>\n",
              "      <td>AOS10622</td>\n",
              "      <td>Plano</td>\n",
              "      <td>Denton County, Collin County</td>\n",
              "      <td>TX</td>\n",
              "      <td>Plano Police Department</td>\n",
              "      <td>Police</td>\n",
              "      <td>Municipal</td>\n",
              "      <td>Drones</td>\n",
              "      <td>None</td>\n",
              "      <td>None</td>\n",
              "      <td>None</td>\n",
              "      <td>None</td>\n",
              "    </tr>\n",
              "    <tr>\n",
              "      <th>10622</th>\n",
              "      <td>AOS10623</td>\n",
              "      <td>Tomball</td>\n",
              "      <td>Harris County</td>\n",
              "      <td>TX</td>\n",
              "      <td>Tomball Police Department</td>\n",
              "      <td>Police</td>\n",
              "      <td>Municipal</td>\n",
              "      <td>Drones</td>\n",
              "      <td>None</td>\n",
              "      <td>None</td>\n",
              "      <td>None</td>\n",
              "      <td>None</td>\n",
              "    </tr>\n",
              "    <tr>\n",
              "      <th>10623</th>\n",
              "      <td>AOS10624</td>\n",
              "      <td>Gainesville</td>\n",
              "      <td>Cooke County</td>\n",
              "      <td>TX</td>\n",
              "      <td>Cooke County Sheriff's Office</td>\n",
              "      <td>Sheriff</td>\n",
              "      <td>County</td>\n",
              "      <td>Drones</td>\n",
              "      <td>dji</td>\n",
              "      <td>None</td>\n",
              "      <td>None</td>\n",
              "      <td>None</td>\n",
              "    </tr>\n",
              "    <tr>\n",
              "      <th>10624</th>\n",
              "      <td>AOS10625</td>\n",
              "      <td>St. George</td>\n",
              "      <td>Washington County</td>\n",
              "      <td>UT</td>\n",
              "      <td>St. George Police Department</td>\n",
              "      <td>Police</td>\n",
              "      <td>Municipal</td>\n",
              "      <td>Body-worn Cameras</td>\n",
              "      <td>None</td>\n",
              "      <td>None</td>\n",
              "      <td>None</td>\n",
              "      <td>None</td>\n",
              "    </tr>\n",
              "  </tbody>\n",
              "</table>\n",
              "<p>10625 rows × 12 columns</p>\n",
              "</div>\n",
              "      <button class=\"colab-df-convert\" onclick=\"convertToInteractive('df-58e55df8-11a2-4a07-8983-cd241ed7fc1c')\"\n",
              "              title=\"Convert this dataframe to an interactive table.\"\n",
              "              style=\"display:none;\">\n",
              "        \n",
              "  <svg xmlns=\"http://www.w3.org/2000/svg\" height=\"24px\"viewBox=\"0 0 24 24\"\n",
              "       width=\"24px\">\n",
              "    <path d=\"M0 0h24v24H0V0z\" fill=\"none\"/>\n",
              "    <path d=\"M18.56 5.44l.94 2.06.94-2.06 2.06-.94-2.06-.94-.94-2.06-.94 2.06-2.06.94zm-11 1L8.5 8.5l.94-2.06 2.06-.94-2.06-.94L8.5 2.5l-.94 2.06-2.06.94zm10 10l.94 2.06.94-2.06 2.06-.94-2.06-.94-.94-2.06-.94 2.06-2.06.94z\"/><path d=\"M17.41 7.96l-1.37-1.37c-.4-.4-.92-.59-1.43-.59-.52 0-1.04.2-1.43.59L10.3 9.45l-7.72 7.72c-.78.78-.78 2.05 0 2.83L4 21.41c.39.39.9.59 1.41.59.51 0 1.02-.2 1.41-.59l7.78-7.78 2.81-2.81c.8-.78.8-2.07 0-2.86zM5.41 20L4 18.59l7.72-7.72 1.47 1.35L5.41 20z\"/>\n",
              "  </svg>\n",
              "      </button>\n",
              "      \n",
              "  <style>\n",
              "    .colab-df-container {\n",
              "      display:flex;\n",
              "      flex-wrap:wrap;\n",
              "      gap: 12px;\n",
              "    }\n",
              "\n",
              "    .colab-df-convert {\n",
              "      background-color: #E8F0FE;\n",
              "      border: none;\n",
              "      border-radius: 50%;\n",
              "      cursor: pointer;\n",
              "      display: none;\n",
              "      fill: #1967D2;\n",
              "      height: 32px;\n",
              "      padding: 0 0 0 0;\n",
              "      width: 32px;\n",
              "    }\n",
              "\n",
              "    .colab-df-convert:hover {\n",
              "      background-color: #E2EBFA;\n",
              "      box-shadow: 0px 1px 2px rgba(60, 64, 67, 0.3), 0px 1px 3px 1px rgba(60, 64, 67, 0.15);\n",
              "      fill: #174EA6;\n",
              "    }\n",
              "\n",
              "    [theme=dark] .colab-df-convert {\n",
              "      background-color: #3B4455;\n",
              "      fill: #D2E3FC;\n",
              "    }\n",
              "\n",
              "    [theme=dark] .colab-df-convert:hover {\n",
              "      background-color: #434B5C;\n",
              "      box-shadow: 0px 1px 3px 1px rgba(0, 0, 0, 0.15);\n",
              "      filter: drop-shadow(0px 1px 2px rgba(0, 0, 0, 0.3));\n",
              "      fill: #FFFFFF;\n",
              "    }\n",
              "  </style>\n",
              "\n",
              "      <script>\n",
              "        const buttonEl =\n",
              "          document.querySelector('#df-58e55df8-11a2-4a07-8983-cd241ed7fc1c button.colab-df-convert');\n",
              "        buttonEl.style.display =\n",
              "          google.colab.kernel.accessAllowed ? 'block' : 'none';\n",
              "\n",
              "        async function convertToInteractive(key) {\n",
              "          const element = document.querySelector('#df-58e55df8-11a2-4a07-8983-cd241ed7fc1c');\n",
              "          const dataTable =\n",
              "            await google.colab.kernel.invokeFunction('convertToInteractive',\n",
              "                                                     [key], {});\n",
              "          if (!dataTable) return;\n",
              "\n",
              "          const docLinkHtml = 'Like what you see? Visit the ' +\n",
              "            '<a target=\"_blank\" href=https://colab.research.google.com/notebooks/data_table.ipynb>data table notebook</a>'\n",
              "            + ' to learn more about interactive tables.';\n",
              "          element.innerHTML = '';\n",
              "          dataTable['output_type'] = 'display_data';\n",
              "          await google.colab.output.renderOutput(dataTable, element);\n",
              "          const docLink = document.createElement('div');\n",
              "          docLink.innerHTML = docLinkHtml;\n",
              "          element.appendChild(docLink);\n",
              "        }\n",
              "      </script>\n",
              "    </div>\n",
              "  </div>\n",
              "  "
            ]
          },
          "metadata": {},
          "execution_count": 33
        }
      ]
    },
    {
      "cell_type": "markdown",
      "source": [
        "# Explore Vendor Columns"
      ],
      "metadata": {
        "id": "0SvoD5YSC_4I"
      }
    },
    {
      "cell_type": "markdown",
      "source": [
        "## Q1: Top 25 Vendors in U.S."
      ],
      "metadata": {
        "id": "PfbeER0LDELM"
      }
    },
    {
      "cell_type": "code",
      "source": [
        "vendor_series = pd.concat([df3['Vendor_1'], df3['Vendor_2'], df3['Vendor_3'], df3['Vendor_4']])\n",
        "\n",
        "# Get the top 25 vendors\n",
        "top_vendors = vendor_series.value_counts().head(25)\n",
        "\n",
        "# Print the top 25 vendors\n",
        "print(top_vendors)"
      ],
      "metadata": {
        "colab": {
          "base_uri": "https://localhost:8080/"
        },
        "id": "fXs1KlpZDM5A",
        "outputId": "d357a3d6-690e-4fef-d489-d45999b8affa"
      },
      "execution_count": null,
      "outputs": [
        {
          "output_type": "stream",
          "name": "stdout",
          "text": [
            "ring                       2291\n",
            "dji                         682\n",
            "axon                        592\n",
            "vigilant solutions          331\n",
            "idemia                      258\n",
            "motorola solutions          148\n",
            "shotspotter                 138\n",
            "flock safety                138\n",
            "watchguard                  133\n",
            "ibm                          98\n",
            "wolfcom                      94\n",
            "utility                      60\n",
            "pips                         57\n",
            "geolitica                    52\n",
            "ndi recognition systems      48\n",
            "elsag                        47\n",
            "neology                      47\n",
            "yuneec                       36\n",
            "lacris                       34\n",
            "briefcam                     29\n",
            "rekor systems                27\n",
            "dataworks plus               27\n",
            "vievu                        23\n",
            "harris corp.                 23\n",
            "selex                        22\n",
            "dtype: int64\n"
          ]
        }
      ]
    },
    {
      "cell_type": "markdown",
      "source": [
        "## Q2: Check Unique Vendors and Technologies"
      ],
      "metadata": {
        "id": "F9bfcdXUDk6f"
      }
    },
    {
      "cell_type": "code",
      "source": [
        "#Check for number of unique vendors\n",
        "print(\"Number of unique vendors:\", vendor_series.nunique())\n",
        "\n",
        "#Check for number of unique technologies\n",
        "n_unique_technology = df3['Technology'].nunique()\n",
        "print(\"Number of unique technologies:\", n_unique_technology)"
      ],
      "metadata": {
        "colab": {
          "base_uri": "https://localhost:8080/"
        },
        "id": "g-Il3dQ3DrWM",
        "outputId": "050f02bc-c8fd-4566-e91b-059ee64d16d2"
      },
      "execution_count": null,
      "outputs": [
        {
          "output_type": "stream",
          "name": "stdout",
          "text": [
            "Number of unique vendors: 192\n",
            "Number of unique technologies: 12\n"
          ]
        }
      ]
    },
    {
      "cell_type": "markdown",
      "source": [
        "## Q4: Does one Vendor sell multiple Surveillance Technologies?"
      ],
      "metadata": {
        "id": "uvcWDwB7L7NM"
      }
    },
    {
      "cell_type": "code",
      "source": [
        "print(\"(n) unique technologies\\nper top 10 vendor\\n\")\n",
        "for vendor in top_vendors.index[:10]:\n",
        "    technologies = df3.loc[(df3['Vendor_1'] == vendor) |\n",
        "                          (df3['Vendor_2'] == vendor) |\n",
        "                          (df3['Vendor_3'] == vendor) |\n",
        "                          (df3['Vendor_4'] == vendor), 'Technology'].unique()\n",
        "    if len(technologies) > 1:\n",
        "        print(f\"{vendor}: {len(technologies)}\")\n",
        "    else:\n",
        "        print(f\"{vendor}: 1\")"
      ],
      "metadata": {
        "colab": {
          "base_uri": "https://localhost:8080/"
        },
        "id": "U6kJl4HxMDbo",
        "outputId": "8cbc52d9-ac08-47d9-a064-240d8cd30142"
      },
      "execution_count": null,
      "outputs": [
        {
          "output_type": "stream",
          "name": "stdout",
          "text": [
            "(n) unique technologies\n",
            "per top 10 vendor\n",
            "\n",
            "ring: 1\n",
            "dji: 1\n",
            "axon: 3\n",
            "vigilant solutions: 2\n",
            "idemia: 1\n",
            "motorola solutions: 4\n",
            "shotspotter: 2\n",
            "flock safety: 1\n",
            "watchguard: 1\n",
            "ibm: 2\n"
          ]
        }
      ]
    },
    {
      "cell_type": "markdown",
      "source": [
        "Print the technologies for the vendors in the top 10 that produce multiple.\n",
        "\n"
      ],
      "metadata": {
        "id": "L_wQjNCATAB-"
      }
    },
    {
      "cell_type": "code",
      "source": [
        "print(\"technologies produced\\nby vendors that produce more than one\\n\")\n",
        "count = 0\n",
        "for vendor in top_vendors.index:\n",
        "    technologies = df3.loc[(df3['Vendor_1'] == vendor) |\n",
        "                          (df3['Vendor_2'] == vendor) |\n",
        "                          (df3['Vendor_3'] == vendor) |\n",
        "                          (df3['Vendor_4'] == vendor), 'Technology'].unique()\n",
        "    if len(technologies) > 1:\n",
        "        print(f\"{vendor}: {len(technologies)}\")\n",
        "        for technology in technologies:\n",
        "            print(f\"\\t{technology}\")\n",
        "        count += 1\n",
        "    if count == 10:\n",
        "        break"
      ],
      "metadata": {
        "colab": {
          "base_uri": "https://localhost:8080/"
        },
        "id": "Qc1ipi-_RWH6",
        "outputId": "1aa68b3c-e453-4a42-df3a-c80355f20620"
      },
      "execution_count": null,
      "outputs": [
        {
          "output_type": "stream",
          "name": "stdout",
          "text": [
            "technologies produced\n",
            "by vendors that produce more than one\n",
            "\n",
            "axon: 3\n",
            "\tBody-worn Cameras\n",
            "\tDrones\n",
            "\tAutomated License Plate Readers\n",
            "vigilant solutions: 2\n",
            "\tAutomated License Plate Readers\n",
            "\tFace Recognition\n",
            "motorola solutions: 4\n",
            "\tBody-worn Cameras\n",
            "\tVideo Analytics\n",
            "\tCamera Registry\n",
            "\tReal-Time Crime Center\n",
            "shotspotter: 2\n",
            "\tGunshot Detection\n",
            "\tPredictive Policing\n",
            "ibm: 2\n",
            "\tVideo Analytics\n",
            "\tPredictive Policing\n",
            "utility: 2\n",
            "\tBody-worn Cameras\n",
            "\tGunshot Detection\n"
          ]
        }
      ]
    },
    {
      "cell_type": "markdown",
      "source": [
        "## Q5: Top 25 Vendors with their Technologies"
      ],
      "metadata": {
        "id": "pwAnj70CMSG9"
      }
    },
    {
      "cell_type": "code",
      "source": [
        "# Get the top 10 most common vendors\n",
        "top_vendors_list = vendor_series.value_counts().head(25).index.tolist()\n",
        "\n",
        "# Create an empty list to store the vendor and their associated technologies\n",
        "results = []\n",
        "\n",
        "# Iterate over the top vendors\n",
        "for vendor in top_vendors_list:\n",
        "    # Get the unique technologies associated with the vendor\n",
        "    tech_list = df3.loc[\n",
        "        (df3['Vendor_1'] == vendor) |\n",
        "        (df3['Vendor_2'] == vendor) |\n",
        "        (df3['Vendor_3'] == vendor) |\n",
        "        (df3['Vendor_4'] == vendor),\n",
        "        'Technology'\n",
        "    ].unique().tolist() # turn to list\n",
        "    # Append the vendor and their technologies to the list\n",
        "    results.append([vendor] + tech_list)\n",
        "\n",
        "# Determine the maximum number of technologies among the vendors\n",
        "max_technologies = max(len(tech_list) for _, *tech_list in results)\n",
        "\n",
        "# Create column names for the technologies\n",
        "tech_columns = [f\"Technology {i+1}\" for i in range(max_technologies)]\n",
        "\n",
        "# Create a DataFrame from the list\n",
        "results_df = pd.DataFrame(results, columns=[\"Vendor\"] + tech_columns)\n",
        "\n",
        "# Print the results\n",
        "results_df"
      ],
      "metadata": {
        "colab": {
          "base_uri": "https://localhost:8080/",
          "height": 833
        },
        "id": "76WrCL5oMYuq",
        "outputId": "0c889da6-4042-461a-a99f-75be186873ea"
      },
      "execution_count": null,
      "outputs": [
        {
          "output_type": "execute_result",
          "data": {
            "text/plain": [
              "                     Vendor                     Technology 1  \\\n",
              "0                      ring       Ring/Neighbors Partnership   \n",
              "1                       dji                           Drones   \n",
              "2                      axon                Body-worn Cameras   \n",
              "3        vigilant solutions  Automated License Plate Readers   \n",
              "4                    idemia                 Face Recognition   \n",
              "5        motorola solutions                Body-worn Cameras   \n",
              "6               shotspotter                Gunshot Detection   \n",
              "7              flock safety  Automated License Plate Readers   \n",
              "8                watchguard                Body-worn Cameras   \n",
              "9                       ibm                  Video Analytics   \n",
              "10                  wolfcom                Body-worn Cameras   \n",
              "11                  utility                Body-worn Cameras   \n",
              "12                     pips  Automated License Plate Readers   \n",
              "13                geolitica              Predictive Policing   \n",
              "14  ndi recognition systems  Automated License Plate Readers   \n",
              "15                    elsag  Automated License Plate Readers   \n",
              "16                  neology  Automated License Plate Readers   \n",
              "17                   yuneec                           Drones   \n",
              "18                   lacris                 Face Recognition   \n",
              "19                 briefcam                  Video Analytics   \n",
              "20            rekor systems  Automated License Plate Readers   \n",
              "21           dataworks plus                 Face Recognition   \n",
              "22                    vievu                Body-worn Cameras   \n",
              "23             harris corp.              Cell-site Simulator   \n",
              "24                    selex  Automated License Plate Readers   \n",
              "\n",
              "           Technology 2                     Technology 3  \\\n",
              "0                  None                             None   \n",
              "1                  None                             None   \n",
              "2                Drones  Automated License Plate Readers   \n",
              "3      Face Recognition                             None   \n",
              "4                  None                             None   \n",
              "5       Video Analytics                  Camera Registry   \n",
              "6   Predictive Policing                             None   \n",
              "7                  None                             None   \n",
              "8                  None                             None   \n",
              "9   Predictive Policing                             None   \n",
              "10                 None                             None   \n",
              "11    Gunshot Detection                             None   \n",
              "12                 None                             None   \n",
              "13                 None                             None   \n",
              "14                 None                             None   \n",
              "15                 None                             None   \n",
              "16                 None                             None   \n",
              "17                 None                             None   \n",
              "18                 None                             None   \n",
              "19                 None                             None   \n",
              "20                 None                             None   \n",
              "21                 None                             None   \n",
              "22                 None                             None   \n",
              "23                 None                             None   \n",
              "24                 None                             None   \n",
              "\n",
              "              Technology 4  \n",
              "0                     None  \n",
              "1                     None  \n",
              "2                     None  \n",
              "3                     None  \n",
              "4                     None  \n",
              "5   Real-Time Crime Center  \n",
              "6                     None  \n",
              "7                     None  \n",
              "8                     None  \n",
              "9                     None  \n",
              "10                    None  \n",
              "11                    None  \n",
              "12                    None  \n",
              "13                    None  \n",
              "14                    None  \n",
              "15                    None  \n",
              "16                    None  \n",
              "17                    None  \n",
              "18                    None  \n",
              "19                    None  \n",
              "20                    None  \n",
              "21                    None  \n",
              "22                    None  \n",
              "23                    None  \n",
              "24                    None  "
            ],
            "text/html": [
              "\n",
              "  <div id=\"df-0c5c3b5a-959d-44f1-a97e-1a7b5d4b2941\">\n",
              "    <div class=\"colab-df-container\">\n",
              "      <div>\n",
              "<style scoped>\n",
              "    .dataframe tbody tr th:only-of-type {\n",
              "        vertical-align: middle;\n",
              "    }\n",
              "\n",
              "    .dataframe tbody tr th {\n",
              "        vertical-align: top;\n",
              "    }\n",
              "\n",
              "    .dataframe thead th {\n",
              "        text-align: right;\n",
              "    }\n",
              "</style>\n",
              "<table border=\"1\" class=\"dataframe\">\n",
              "  <thead>\n",
              "    <tr style=\"text-align: right;\">\n",
              "      <th></th>\n",
              "      <th>Vendor</th>\n",
              "      <th>Technology 1</th>\n",
              "      <th>Technology 2</th>\n",
              "      <th>Technology 3</th>\n",
              "      <th>Technology 4</th>\n",
              "    </tr>\n",
              "  </thead>\n",
              "  <tbody>\n",
              "    <tr>\n",
              "      <th>0</th>\n",
              "      <td>ring</td>\n",
              "      <td>Ring/Neighbors Partnership</td>\n",
              "      <td>None</td>\n",
              "      <td>None</td>\n",
              "      <td>None</td>\n",
              "    </tr>\n",
              "    <tr>\n",
              "      <th>1</th>\n",
              "      <td>dji</td>\n",
              "      <td>Drones</td>\n",
              "      <td>None</td>\n",
              "      <td>None</td>\n",
              "      <td>None</td>\n",
              "    </tr>\n",
              "    <tr>\n",
              "      <th>2</th>\n",
              "      <td>axon</td>\n",
              "      <td>Body-worn Cameras</td>\n",
              "      <td>Drones</td>\n",
              "      <td>Automated License Plate Readers</td>\n",
              "      <td>None</td>\n",
              "    </tr>\n",
              "    <tr>\n",
              "      <th>3</th>\n",
              "      <td>vigilant solutions</td>\n",
              "      <td>Automated License Plate Readers</td>\n",
              "      <td>Face Recognition</td>\n",
              "      <td>None</td>\n",
              "      <td>None</td>\n",
              "    </tr>\n",
              "    <tr>\n",
              "      <th>4</th>\n",
              "      <td>idemia</td>\n",
              "      <td>Face Recognition</td>\n",
              "      <td>None</td>\n",
              "      <td>None</td>\n",
              "      <td>None</td>\n",
              "    </tr>\n",
              "    <tr>\n",
              "      <th>5</th>\n",
              "      <td>motorola solutions</td>\n",
              "      <td>Body-worn Cameras</td>\n",
              "      <td>Video Analytics</td>\n",
              "      <td>Camera Registry</td>\n",
              "      <td>Real-Time Crime Center</td>\n",
              "    </tr>\n",
              "    <tr>\n",
              "      <th>6</th>\n",
              "      <td>shotspotter</td>\n",
              "      <td>Gunshot Detection</td>\n",
              "      <td>Predictive Policing</td>\n",
              "      <td>None</td>\n",
              "      <td>None</td>\n",
              "    </tr>\n",
              "    <tr>\n",
              "      <th>7</th>\n",
              "      <td>flock safety</td>\n",
              "      <td>Automated License Plate Readers</td>\n",
              "      <td>None</td>\n",
              "      <td>None</td>\n",
              "      <td>None</td>\n",
              "    </tr>\n",
              "    <tr>\n",
              "      <th>8</th>\n",
              "      <td>watchguard</td>\n",
              "      <td>Body-worn Cameras</td>\n",
              "      <td>None</td>\n",
              "      <td>None</td>\n",
              "      <td>None</td>\n",
              "    </tr>\n",
              "    <tr>\n",
              "      <th>9</th>\n",
              "      <td>ibm</td>\n",
              "      <td>Video Analytics</td>\n",
              "      <td>Predictive Policing</td>\n",
              "      <td>None</td>\n",
              "      <td>None</td>\n",
              "    </tr>\n",
              "    <tr>\n",
              "      <th>10</th>\n",
              "      <td>wolfcom</td>\n",
              "      <td>Body-worn Cameras</td>\n",
              "      <td>None</td>\n",
              "      <td>None</td>\n",
              "      <td>None</td>\n",
              "    </tr>\n",
              "    <tr>\n",
              "      <th>11</th>\n",
              "      <td>utility</td>\n",
              "      <td>Body-worn Cameras</td>\n",
              "      <td>Gunshot Detection</td>\n",
              "      <td>None</td>\n",
              "      <td>None</td>\n",
              "    </tr>\n",
              "    <tr>\n",
              "      <th>12</th>\n",
              "      <td>pips</td>\n",
              "      <td>Automated License Plate Readers</td>\n",
              "      <td>None</td>\n",
              "      <td>None</td>\n",
              "      <td>None</td>\n",
              "    </tr>\n",
              "    <tr>\n",
              "      <th>13</th>\n",
              "      <td>geolitica</td>\n",
              "      <td>Predictive Policing</td>\n",
              "      <td>None</td>\n",
              "      <td>None</td>\n",
              "      <td>None</td>\n",
              "    </tr>\n",
              "    <tr>\n",
              "      <th>14</th>\n",
              "      <td>ndi recognition systems</td>\n",
              "      <td>Automated License Plate Readers</td>\n",
              "      <td>None</td>\n",
              "      <td>None</td>\n",
              "      <td>None</td>\n",
              "    </tr>\n",
              "    <tr>\n",
              "      <th>15</th>\n",
              "      <td>elsag</td>\n",
              "      <td>Automated License Plate Readers</td>\n",
              "      <td>None</td>\n",
              "      <td>None</td>\n",
              "      <td>None</td>\n",
              "    </tr>\n",
              "    <tr>\n",
              "      <th>16</th>\n",
              "      <td>neology</td>\n",
              "      <td>Automated License Plate Readers</td>\n",
              "      <td>None</td>\n",
              "      <td>None</td>\n",
              "      <td>None</td>\n",
              "    </tr>\n",
              "    <tr>\n",
              "      <th>17</th>\n",
              "      <td>yuneec</td>\n",
              "      <td>Drones</td>\n",
              "      <td>None</td>\n",
              "      <td>None</td>\n",
              "      <td>None</td>\n",
              "    </tr>\n",
              "    <tr>\n",
              "      <th>18</th>\n",
              "      <td>lacris</td>\n",
              "      <td>Face Recognition</td>\n",
              "      <td>None</td>\n",
              "      <td>None</td>\n",
              "      <td>None</td>\n",
              "    </tr>\n",
              "    <tr>\n",
              "      <th>19</th>\n",
              "      <td>briefcam</td>\n",
              "      <td>Video Analytics</td>\n",
              "      <td>None</td>\n",
              "      <td>None</td>\n",
              "      <td>None</td>\n",
              "    </tr>\n",
              "    <tr>\n",
              "      <th>20</th>\n",
              "      <td>rekor systems</td>\n",
              "      <td>Automated License Plate Readers</td>\n",
              "      <td>None</td>\n",
              "      <td>None</td>\n",
              "      <td>None</td>\n",
              "    </tr>\n",
              "    <tr>\n",
              "      <th>21</th>\n",
              "      <td>dataworks plus</td>\n",
              "      <td>Face Recognition</td>\n",
              "      <td>None</td>\n",
              "      <td>None</td>\n",
              "      <td>None</td>\n",
              "    </tr>\n",
              "    <tr>\n",
              "      <th>22</th>\n",
              "      <td>vievu</td>\n",
              "      <td>Body-worn Cameras</td>\n",
              "      <td>None</td>\n",
              "      <td>None</td>\n",
              "      <td>None</td>\n",
              "    </tr>\n",
              "    <tr>\n",
              "      <th>23</th>\n",
              "      <td>harris corp.</td>\n",
              "      <td>Cell-site Simulator</td>\n",
              "      <td>None</td>\n",
              "      <td>None</td>\n",
              "      <td>None</td>\n",
              "    </tr>\n",
              "    <tr>\n",
              "      <th>24</th>\n",
              "      <td>selex</td>\n",
              "      <td>Automated License Plate Readers</td>\n",
              "      <td>None</td>\n",
              "      <td>None</td>\n",
              "      <td>None</td>\n",
              "    </tr>\n",
              "  </tbody>\n",
              "</table>\n",
              "</div>\n",
              "      <button class=\"colab-df-convert\" onclick=\"convertToInteractive('df-0c5c3b5a-959d-44f1-a97e-1a7b5d4b2941')\"\n",
              "              title=\"Convert this dataframe to an interactive table.\"\n",
              "              style=\"display:none;\">\n",
              "        \n",
              "  <svg xmlns=\"http://www.w3.org/2000/svg\" height=\"24px\"viewBox=\"0 0 24 24\"\n",
              "       width=\"24px\">\n",
              "    <path d=\"M0 0h24v24H0V0z\" fill=\"none\"/>\n",
              "    <path d=\"M18.56 5.44l.94 2.06.94-2.06 2.06-.94-2.06-.94-.94-2.06-.94 2.06-2.06.94zm-11 1L8.5 8.5l.94-2.06 2.06-.94-2.06-.94L8.5 2.5l-.94 2.06-2.06.94zm10 10l.94 2.06.94-2.06 2.06-.94-2.06-.94-.94-2.06-.94 2.06-2.06.94z\"/><path d=\"M17.41 7.96l-1.37-1.37c-.4-.4-.92-.59-1.43-.59-.52 0-1.04.2-1.43.59L10.3 9.45l-7.72 7.72c-.78.78-.78 2.05 0 2.83L4 21.41c.39.39.9.59 1.41.59.51 0 1.02-.2 1.41-.59l7.78-7.78 2.81-2.81c.8-.78.8-2.07 0-2.86zM5.41 20L4 18.59l7.72-7.72 1.47 1.35L5.41 20z\"/>\n",
              "  </svg>\n",
              "      </button>\n",
              "      \n",
              "  <style>\n",
              "    .colab-df-container {\n",
              "      display:flex;\n",
              "      flex-wrap:wrap;\n",
              "      gap: 12px;\n",
              "    }\n",
              "\n",
              "    .colab-df-convert {\n",
              "      background-color: #E8F0FE;\n",
              "      border: none;\n",
              "      border-radius: 50%;\n",
              "      cursor: pointer;\n",
              "      display: none;\n",
              "      fill: #1967D2;\n",
              "      height: 32px;\n",
              "      padding: 0 0 0 0;\n",
              "      width: 32px;\n",
              "    }\n",
              "\n",
              "    .colab-df-convert:hover {\n",
              "      background-color: #E2EBFA;\n",
              "      box-shadow: 0px 1px 2px rgba(60, 64, 67, 0.3), 0px 1px 3px 1px rgba(60, 64, 67, 0.15);\n",
              "      fill: #174EA6;\n",
              "    }\n",
              "\n",
              "    [theme=dark] .colab-df-convert {\n",
              "      background-color: #3B4455;\n",
              "      fill: #D2E3FC;\n",
              "    }\n",
              "\n",
              "    [theme=dark] .colab-df-convert:hover {\n",
              "      background-color: #434B5C;\n",
              "      box-shadow: 0px 1px 3px 1px rgba(0, 0, 0, 0.15);\n",
              "      filter: drop-shadow(0px 1px 2px rgba(0, 0, 0, 0.3));\n",
              "      fill: #FFFFFF;\n",
              "    }\n",
              "  </style>\n",
              "\n",
              "      <script>\n",
              "        const buttonEl =\n",
              "          document.querySelector('#df-0c5c3b5a-959d-44f1-a97e-1a7b5d4b2941 button.colab-df-convert');\n",
              "        buttonEl.style.display =\n",
              "          google.colab.kernel.accessAllowed ? 'block' : 'none';\n",
              "\n",
              "        async function convertToInteractive(key) {\n",
              "          const element = document.querySelector('#df-0c5c3b5a-959d-44f1-a97e-1a7b5d4b2941');\n",
              "          const dataTable =\n",
              "            await google.colab.kernel.invokeFunction('convertToInteractive',\n",
              "                                                     [key], {});\n",
              "          if (!dataTable) return;\n",
              "\n",
              "          const docLinkHtml = 'Like what you see? Visit the ' +\n",
              "            '<a target=\"_blank\" href=https://colab.research.google.com/notebooks/data_table.ipynb>data table notebook</a>'\n",
              "            + ' to learn more about interactive tables.';\n",
              "          element.innerHTML = '';\n",
              "          dataTable['output_type'] = 'display_data';\n",
              "          await google.colab.output.renderOutput(dataTable, element);\n",
              "          const docLink = document.createElement('div');\n",
              "          docLink.innerHTML = docLinkHtml;\n",
              "          element.appendChild(docLink);\n",
              "        }\n",
              "      </script>\n",
              "    </div>\n",
              "  </div>\n",
              "  "
            ]
          },
          "metadata": {},
          "execution_count": 38
        }
      ]
    },
    {
      "cell_type": "markdown",
      "source": [
        "## Q6: Are the top 10 Vendors associated with other Vendors?"
      ],
      "metadata": {
        "id": "PnRudIpwM32U"
      }
    },
    {
      "cell_type": "code",
      "source": [
        "# Create a new DataFrame with rows where 'Vendor_2' has data\n",
        "df4 = df3.dropna(subset=['Vendor_2']).copy()\n",
        "\n",
        "# Reset the index of the new DataFrame\n",
        "df4.reset_index(drop=True, inplace=True)\n",
        "\n",
        "# Print the new DataFrame\n",
        "df4"
      ],
      "metadata": {
        "colab": {
          "base_uri": "https://localhost:8080/",
          "height": 676
        },
        "id": "BDCopIu6M22i",
        "outputId": "e759c8eb-84b2-44fe-f59e-e447529206ef"
      },
      "execution_count": null,
      "outputs": [
        {
          "output_type": "execute_result",
          "data": {
            "text/plain": [
              "    AOSNUMBER        City                                             County  \\\n",
              "0     AOS0168   Cleveland                                    Cuyahoga County   \n",
              "1     AOS0278    Chandler                                    Maricopa County   \n",
              "2     AOS0298  Union City                                     Alameda County   \n",
              "3     AOS0315     Benicia                                      Solano County   \n",
              "4     AOS0317   Fairfield                                      Solano County   \n",
              "..        ...         ...                                                ...   \n",
              "145   AOS9378    Beaumont                                   Riverside County   \n",
              "146  AOS10584     Buffalo                                        Erie County   \n",
              "147  AOS10587     Manlius                                    Onondaga County   \n",
              "148  AOS10591    New York  New York County, Kings County, Bronx County, Q...   \n",
              "149  AOS10604   Hawthorne                                 Westchester County   \n",
              "\n",
              "    State                                Agency Type of LEA Type of Juris  \\\n",
              "0      OH           Cleveland Police Department      Police     Municipal   \n",
              "1      AZ            Chandler Police Department      Police     Municipal   \n",
              "2      CA          Union City Police Department      Police     Municipal   \n",
              "3      CA             Benicia Police Department      Police     Municipal   \n",
              "4      CA           Fairfield Police Department      Police     Municipal   \n",
              "..    ...                                   ...         ...           ...   \n",
              "145    CA            Beaumont Police Department      Police     Municipal   \n",
              "146    NY          Erie County Sheriff's Office     Sheriff        County   \n",
              "147    NY             Manlius Police Department      Police     Municipal   \n",
              "148    NY       New York City Police Department      Police     Municipal   \n",
              "149    NY  Westchester County Police Department      Police        County   \n",
              "\n",
              "                          Technology      Vendor_1            Vendor_2  \\\n",
              "0    Automated License Plate Readers  flock safety               selex   \n",
              "1    Automated License Plate Readers          pips  vigilant solutions   \n",
              "2                  Body-worn Cameras         copvu               vievu   \n",
              "3                  Body-worn Cameras         copvu               vievu   \n",
              "4                  Body-worn Cameras         copvu               vievu   \n",
              "..                               ...           ...                 ...   \n",
              "145                Body-worn Cameras         gopro           intrensic   \n",
              "146                           Drones         autel                 dji   \n",
              "147                           Drones         autel                 dji   \n",
              "148                           Drones           dji              skydio   \n",
              "149                           Drones           dji               gopro   \n",
              "\n",
              "          Vendor_3 Vendor_4  \n",
              "0             None     None  \n",
              "1             None     None  \n",
              "2             None     None  \n",
              "3             None     None  \n",
              "4             None     None  \n",
              "..             ...      ...  \n",
              "145           None     None  \n",
              "146           None     None  \n",
              "147           None     None  \n",
              "148  uav solutions     None  \n",
              "149           None     None  \n",
              "\n",
              "[150 rows x 12 columns]"
            ],
            "text/html": [
              "\n",
              "  <div id=\"df-9a2d89f2-721c-460a-bd6a-a646f44cc25b\">\n",
              "    <div class=\"colab-df-container\">\n",
              "      <div>\n",
              "<style scoped>\n",
              "    .dataframe tbody tr th:only-of-type {\n",
              "        vertical-align: middle;\n",
              "    }\n",
              "\n",
              "    .dataframe tbody tr th {\n",
              "        vertical-align: top;\n",
              "    }\n",
              "\n",
              "    .dataframe thead th {\n",
              "        text-align: right;\n",
              "    }\n",
              "</style>\n",
              "<table border=\"1\" class=\"dataframe\">\n",
              "  <thead>\n",
              "    <tr style=\"text-align: right;\">\n",
              "      <th></th>\n",
              "      <th>AOSNUMBER</th>\n",
              "      <th>City</th>\n",
              "      <th>County</th>\n",
              "      <th>State</th>\n",
              "      <th>Agency</th>\n",
              "      <th>Type of LEA</th>\n",
              "      <th>Type of Juris</th>\n",
              "      <th>Technology</th>\n",
              "      <th>Vendor_1</th>\n",
              "      <th>Vendor_2</th>\n",
              "      <th>Vendor_3</th>\n",
              "      <th>Vendor_4</th>\n",
              "    </tr>\n",
              "  </thead>\n",
              "  <tbody>\n",
              "    <tr>\n",
              "      <th>0</th>\n",
              "      <td>AOS0168</td>\n",
              "      <td>Cleveland</td>\n",
              "      <td>Cuyahoga County</td>\n",
              "      <td>OH</td>\n",
              "      <td>Cleveland Police Department</td>\n",
              "      <td>Police</td>\n",
              "      <td>Municipal</td>\n",
              "      <td>Automated License Plate Readers</td>\n",
              "      <td>flock safety</td>\n",
              "      <td>selex</td>\n",
              "      <td>None</td>\n",
              "      <td>None</td>\n",
              "    </tr>\n",
              "    <tr>\n",
              "      <th>1</th>\n",
              "      <td>AOS0278</td>\n",
              "      <td>Chandler</td>\n",
              "      <td>Maricopa County</td>\n",
              "      <td>AZ</td>\n",
              "      <td>Chandler Police Department</td>\n",
              "      <td>Police</td>\n",
              "      <td>Municipal</td>\n",
              "      <td>Automated License Plate Readers</td>\n",
              "      <td>pips</td>\n",
              "      <td>vigilant solutions</td>\n",
              "      <td>None</td>\n",
              "      <td>None</td>\n",
              "    </tr>\n",
              "    <tr>\n",
              "      <th>2</th>\n",
              "      <td>AOS0298</td>\n",
              "      <td>Union City</td>\n",
              "      <td>Alameda County</td>\n",
              "      <td>CA</td>\n",
              "      <td>Union City Police Department</td>\n",
              "      <td>Police</td>\n",
              "      <td>Municipal</td>\n",
              "      <td>Body-worn Cameras</td>\n",
              "      <td>copvu</td>\n",
              "      <td>vievu</td>\n",
              "      <td>None</td>\n",
              "      <td>None</td>\n",
              "    </tr>\n",
              "    <tr>\n",
              "      <th>3</th>\n",
              "      <td>AOS0315</td>\n",
              "      <td>Benicia</td>\n",
              "      <td>Solano County</td>\n",
              "      <td>CA</td>\n",
              "      <td>Benicia Police Department</td>\n",
              "      <td>Police</td>\n",
              "      <td>Municipal</td>\n",
              "      <td>Body-worn Cameras</td>\n",
              "      <td>copvu</td>\n",
              "      <td>vievu</td>\n",
              "      <td>None</td>\n",
              "      <td>None</td>\n",
              "    </tr>\n",
              "    <tr>\n",
              "      <th>4</th>\n",
              "      <td>AOS0317</td>\n",
              "      <td>Fairfield</td>\n",
              "      <td>Solano County</td>\n",
              "      <td>CA</td>\n",
              "      <td>Fairfield Police Department</td>\n",
              "      <td>Police</td>\n",
              "      <td>Municipal</td>\n",
              "      <td>Body-worn Cameras</td>\n",
              "      <td>copvu</td>\n",
              "      <td>vievu</td>\n",
              "      <td>None</td>\n",
              "      <td>None</td>\n",
              "    </tr>\n",
              "    <tr>\n",
              "      <th>...</th>\n",
              "      <td>...</td>\n",
              "      <td>...</td>\n",
              "      <td>...</td>\n",
              "      <td>...</td>\n",
              "      <td>...</td>\n",
              "      <td>...</td>\n",
              "      <td>...</td>\n",
              "      <td>...</td>\n",
              "      <td>...</td>\n",
              "      <td>...</td>\n",
              "      <td>...</td>\n",
              "      <td>...</td>\n",
              "    </tr>\n",
              "    <tr>\n",
              "      <th>145</th>\n",
              "      <td>AOS9378</td>\n",
              "      <td>Beaumont</td>\n",
              "      <td>Riverside County</td>\n",
              "      <td>CA</td>\n",
              "      <td>Beaumont Police Department</td>\n",
              "      <td>Police</td>\n",
              "      <td>Municipal</td>\n",
              "      <td>Body-worn Cameras</td>\n",
              "      <td>gopro</td>\n",
              "      <td>intrensic</td>\n",
              "      <td>None</td>\n",
              "      <td>None</td>\n",
              "    </tr>\n",
              "    <tr>\n",
              "      <th>146</th>\n",
              "      <td>AOS10584</td>\n",
              "      <td>Buffalo</td>\n",
              "      <td>Erie County</td>\n",
              "      <td>NY</td>\n",
              "      <td>Erie County Sheriff's Office</td>\n",
              "      <td>Sheriff</td>\n",
              "      <td>County</td>\n",
              "      <td>Drones</td>\n",
              "      <td>autel</td>\n",
              "      <td>dji</td>\n",
              "      <td>None</td>\n",
              "      <td>None</td>\n",
              "    </tr>\n",
              "    <tr>\n",
              "      <th>147</th>\n",
              "      <td>AOS10587</td>\n",
              "      <td>Manlius</td>\n",
              "      <td>Onondaga County</td>\n",
              "      <td>NY</td>\n",
              "      <td>Manlius Police Department</td>\n",
              "      <td>Police</td>\n",
              "      <td>Municipal</td>\n",
              "      <td>Drones</td>\n",
              "      <td>autel</td>\n",
              "      <td>dji</td>\n",
              "      <td>None</td>\n",
              "      <td>None</td>\n",
              "    </tr>\n",
              "    <tr>\n",
              "      <th>148</th>\n",
              "      <td>AOS10591</td>\n",
              "      <td>New York</td>\n",
              "      <td>New York County, Kings County, Bronx County, Q...</td>\n",
              "      <td>NY</td>\n",
              "      <td>New York City Police Department</td>\n",
              "      <td>Police</td>\n",
              "      <td>Municipal</td>\n",
              "      <td>Drones</td>\n",
              "      <td>dji</td>\n",
              "      <td>skydio</td>\n",
              "      <td>uav solutions</td>\n",
              "      <td>None</td>\n",
              "    </tr>\n",
              "    <tr>\n",
              "      <th>149</th>\n",
              "      <td>AOS10604</td>\n",
              "      <td>Hawthorne</td>\n",
              "      <td>Westchester County</td>\n",
              "      <td>NY</td>\n",
              "      <td>Westchester County Police Department</td>\n",
              "      <td>Police</td>\n",
              "      <td>County</td>\n",
              "      <td>Drones</td>\n",
              "      <td>dji</td>\n",
              "      <td>gopro</td>\n",
              "      <td>None</td>\n",
              "      <td>None</td>\n",
              "    </tr>\n",
              "  </tbody>\n",
              "</table>\n",
              "<p>150 rows × 12 columns</p>\n",
              "</div>\n",
              "      <button class=\"colab-df-convert\" onclick=\"convertToInteractive('df-9a2d89f2-721c-460a-bd6a-a646f44cc25b')\"\n",
              "              title=\"Convert this dataframe to an interactive table.\"\n",
              "              style=\"display:none;\">\n",
              "        \n",
              "  <svg xmlns=\"http://www.w3.org/2000/svg\" height=\"24px\"viewBox=\"0 0 24 24\"\n",
              "       width=\"24px\">\n",
              "    <path d=\"M0 0h24v24H0V0z\" fill=\"none\"/>\n",
              "    <path d=\"M18.56 5.44l.94 2.06.94-2.06 2.06-.94-2.06-.94-.94-2.06-.94 2.06-2.06.94zm-11 1L8.5 8.5l.94-2.06 2.06-.94-2.06-.94L8.5 2.5l-.94 2.06-2.06.94zm10 10l.94 2.06.94-2.06 2.06-.94-2.06-.94-.94-2.06-.94 2.06-2.06.94z\"/><path d=\"M17.41 7.96l-1.37-1.37c-.4-.4-.92-.59-1.43-.59-.52 0-1.04.2-1.43.59L10.3 9.45l-7.72 7.72c-.78.78-.78 2.05 0 2.83L4 21.41c.39.39.9.59 1.41.59.51 0 1.02-.2 1.41-.59l7.78-7.78 2.81-2.81c.8-.78.8-2.07 0-2.86zM5.41 20L4 18.59l7.72-7.72 1.47 1.35L5.41 20z\"/>\n",
              "  </svg>\n",
              "      </button>\n",
              "      \n",
              "  <style>\n",
              "    .colab-df-container {\n",
              "      display:flex;\n",
              "      flex-wrap:wrap;\n",
              "      gap: 12px;\n",
              "    }\n",
              "\n",
              "    .colab-df-convert {\n",
              "      background-color: #E8F0FE;\n",
              "      border: none;\n",
              "      border-radius: 50%;\n",
              "      cursor: pointer;\n",
              "      display: none;\n",
              "      fill: #1967D2;\n",
              "      height: 32px;\n",
              "      padding: 0 0 0 0;\n",
              "      width: 32px;\n",
              "    }\n",
              "\n",
              "    .colab-df-convert:hover {\n",
              "      background-color: #E2EBFA;\n",
              "      box-shadow: 0px 1px 2px rgba(60, 64, 67, 0.3), 0px 1px 3px 1px rgba(60, 64, 67, 0.15);\n",
              "      fill: #174EA6;\n",
              "    }\n",
              "\n",
              "    [theme=dark] .colab-df-convert {\n",
              "      background-color: #3B4455;\n",
              "      fill: #D2E3FC;\n",
              "    }\n",
              "\n",
              "    [theme=dark] .colab-df-convert:hover {\n",
              "      background-color: #434B5C;\n",
              "      box-shadow: 0px 1px 3px 1px rgba(0, 0, 0, 0.15);\n",
              "      filter: drop-shadow(0px 1px 2px rgba(0, 0, 0, 0.3));\n",
              "      fill: #FFFFFF;\n",
              "    }\n",
              "  </style>\n",
              "\n",
              "      <script>\n",
              "        const buttonEl =\n",
              "          document.querySelector('#df-9a2d89f2-721c-460a-bd6a-a646f44cc25b button.colab-df-convert');\n",
              "        buttonEl.style.display =\n",
              "          google.colab.kernel.accessAllowed ? 'block' : 'none';\n",
              "\n",
              "        async function convertToInteractive(key) {\n",
              "          const element = document.querySelector('#df-9a2d89f2-721c-460a-bd6a-a646f44cc25b');\n",
              "          const dataTable =\n",
              "            await google.colab.kernel.invokeFunction('convertToInteractive',\n",
              "                                                     [key], {});\n",
              "          if (!dataTable) return;\n",
              "\n",
              "          const docLinkHtml = 'Like what you see? Visit the ' +\n",
              "            '<a target=\"_blank\" href=https://colab.research.google.com/notebooks/data_table.ipynb>data table notebook</a>'\n",
              "            + ' to learn more about interactive tables.';\n",
              "          element.innerHTML = '';\n",
              "          dataTable['output_type'] = 'display_data';\n",
              "          await google.colab.output.renderOutput(dataTable, element);\n",
              "          const docLink = document.createElement('div');\n",
              "          docLink.innerHTML = docLinkHtml;\n",
              "          element.appendChild(docLink);\n",
              "        }\n",
              "      </script>\n",
              "    </div>\n",
              "  </div>\n",
              "  "
            ]
          },
          "metadata": {},
          "execution_count": 39
        }
      ]
    },
    {
      "cell_type": "code",
      "source": [
        "# Get the top 10 vendors from df\n",
        "top_vendors_list = vendor_series.value_counts().head(10).index.tolist()\n",
        "print('The top 10 most ocurring vendors: \\nare they associated with another vendor?\\n')\n",
        "# Check if top vendors are present in new_df\n",
        "for vendor in top_vendors_list:\n",
        "    if(\n",
        "        (vendor in df4['Vendor_1'].values) or\n",
        "        (vendor in df4['Vendor_2'].values) or\n",
        "        (vendor in df4['Vendor_3'].values) or\n",
        "        (vendor in df4['Vendor_4'].values)\n",
        "    ):\n",
        "        print(f\"{vendor}: True\")\n",
        "    else:\n",
        "        print(f\"{vendor}: False\")"
      ],
      "metadata": {
        "colab": {
          "base_uri": "https://localhost:8080/"
        },
        "id": "vXcpRfJMNQ1E",
        "outputId": "a4626be3-d09a-4865-f89b-049e4a51cee8"
      },
      "execution_count": null,
      "outputs": [
        {
          "output_type": "stream",
          "name": "stdout",
          "text": [
            "The top 10 most ocurring vendors: \n",
            "are they associated with another vendor?\n",
            "\n",
            "ring: False\n",
            "dji: True\n",
            "axon: True\n",
            "vigilant solutions: True\n",
            "idemia: True\n",
            "motorola solutions: True\n",
            "shotspotter: False\n",
            "flock safety: True\n",
            "watchguard: True\n",
            "ibm: False\n"
          ]
        }
      ]
    },
    {
      "cell_type": "code",
      "source": [
        "print(\"Top vendors that are associated \\nwith one or more vendors\\n\")\n",
        "# Concatenate the vendor columns into a single series\n",
        "df2_vendor_series = pd.concat([df4['Vendor_1'], df4['Vendor_2'], df4['Vendor_3'], df4['Vendor_4']])\n",
        "\n",
        "# Get the top 10 vendors that can associate in df2\n",
        "df2_top_vendors = df2_vendor_series.value_counts().head(10)\n",
        "\n",
        "# Print the top 10 vendors that can associate in df2\n",
        "print(df2_top_vendors)"
      ],
      "metadata": {
        "colab": {
          "base_uri": "https://localhost:8080/"
        },
        "id": "OtCi_YpnNZea",
        "outputId": "029d68da-c908-47ee-8b60-0217eb857c96"
      },
      "execution_count": null,
      "outputs": [
        {
          "output_type": "stream",
          "name": "stdout",
          "text": [
            "Top vendors that are associated \n",
            "with one or more vendors\n",
            "\n",
            "pips                  48\n",
            "neology               47\n",
            "dji                   45\n",
            "vigilant solutions    33\n",
            "bodyworn (utility     16\n",
            "inc.)                 16\n",
            "flock safety          13\n",
            "elsag                  7\n",
            "autel                  7\n",
            "axon                   5\n",
            "dtype: int64\n"
          ]
        }
      ]
    },
    {
      "cell_type": "code",
      "source": [
        "#top associated vendors with \"dji\"\n",
        "dji = df4[\n",
        "    (df4['Vendor_1'] == 'dji') |\n",
        "    (df4['Vendor_2'] == 'dji') |\n",
        "    (df4['Vendor_3'] == 'dji') |\n",
        "    (df4['Vendor_4'] == 'dji')\n",
        "]\n",
        "\n",
        "# Exclude \"dji\" from the count\n",
        "vendor_counts = dji[['Vendor_1', 'Vendor_2', 'Vendor_3', 'Vendor_4']].stack().value_counts()\n",
        "vendor_counts.drop('dji', inplace=True)\n",
        "\n",
        "# Print the top collaborating vendors with \"dji\"\n",
        "top_collaborators = vendor_counts\n",
        "print(top_collaborators.head(10))"
      ],
      "metadata": {
        "colab": {
          "base_uri": "https://localhost:8080/"
        },
        "id": "tgqFUjRINiCG",
        "outputId": "209b169f-bd2e-47ab-ef3c-936a6a3213ed"
      },
      "execution_count": null,
      "outputs": [
        {
          "output_type": "stream",
          "name": "stdout",
          "text": [
            "autel                7\n",
            "parrot               5\n",
            "autel robotics       4\n",
            "yuneec               4\n",
            "skydio               4\n",
            "physical sciences    3\n",
            "3dr                  2\n",
            "uav solutions        2\n",
            "aeryon labs          2\n",
            "swellpro             1\n",
            "dtype: int64\n"
          ]
        }
      ]
    },
    {
      "cell_type": "code",
      "source": [
        "#top associated vendors with \"vigilant solutions\"\n",
        "vigsol = df4[\n",
        "    (df4['Vendor_1'] == 'vigilant solutions') |\n",
        "    (df4['Vendor_2'] == 'vigilant solutions') |\n",
        "    (df4['Vendor_3'] == 'vigilant solutions') |\n",
        "    (df4['Vendor_4'] == 'vigilant solutions')\n",
        "]\n",
        "\n",
        "# Exclude \"vigilant solutions\" from the count\n",
        "vendor_counts = vigsol[['Vendor_1', 'Vendor_2', 'Vendor_3', 'Vendor_4']].stack().value_counts()\n",
        "vendor_counts.drop('vigilant solutions', inplace=True)\n",
        "\n",
        "# Print the top collaborating vendors with \"vigilant solutions\"\n",
        "top_collaborators = vendor_counts\n",
        "print(top_collaborators.head(10))"
      ],
      "metadata": {
        "colab": {
          "base_uri": "https://localhost:8080/"
        },
        "id": "ffNf7JnhNqbW",
        "outputId": "f1ca54ac-a5ec-4e02-d65b-f26cebef064c"
      },
      "execution_count": null,
      "outputs": [
        {
          "output_type": "stream",
          "name": "stdout",
          "text": [
            "pips                       13\n",
            "neology                    12\n",
            "flock safety                8\n",
            "elsag                       5\n",
            "genetec autovu              1\n",
            "avigilon                    1\n",
            "rekor                       1\n",
            "dataworks                   1\n",
            "ndi recognition systems     1\n",
            "axon                        1\n",
            "dtype: int64\n"
          ]
        }
      ]
    },
    {
      "cell_type": "code",
      "source": [
        "#top associated vendors with \"flock safety\"\n",
        "flosaf = df4[\n",
        "    (df4['Vendor_1'] == 'flock safety') |\n",
        "    (df4['Vendor_2'] == 'flock safety') |\n",
        "    (df4['Vendor_3'] == 'flock safety') |\n",
        "    (df4['Vendor_4'] == 'flock safety')\n",
        "]\n",
        "\n",
        "# Exclude \"flock safety\" from the count\n",
        "vendor_counts = flosaf[['Vendor_1', 'Vendor_2', 'Vendor_3', 'Vendor_4']].stack().value_counts()\n",
        "vendor_counts.drop('flock safety', inplace=True)\n",
        "\n",
        "# Print the top collaborating vendors with \"flock safety\"\n",
        "top_collaborators_flosaf = vendor_counts\n",
        "print(top_collaborators_flosaf.head(10))"
      ],
      "metadata": {
        "colab": {
          "base_uri": "https://localhost:8080/"
        },
        "id": "zU_wYZf_Nwlm",
        "outputId": "a4504737-79f3-44cb-b724-eb54bdfc8ee4"
      },
      "execution_count": null,
      "outputs": [
        {
          "output_type": "stream",
          "name": "stdout",
          "text": [
            "vigilant solutions    8\n",
            "selex                 1\n",
            "neology               1\n",
            "pips                  1\n",
            "avigilon              1\n",
            "genetec               1\n",
            "dura tech             1\n",
            "axon                  1\n",
            "platescan             1\n",
            "dtype: int64\n"
          ]
        }
      ]
    },
    {
      "cell_type": "code",
      "source": [
        "#top associated vendors with \"axon\"\n",
        "axon = df4[\n",
        "    (df4['Vendor_1'] == 'axon') |\n",
        "    (df4['Vendor_2'] == 'axon') |\n",
        "    (df4['Vendor_3'] == 'axon') |\n",
        "    (df4['Vendor_4'] == 'axon')\n",
        "]\n",
        "\n",
        "# Exclude \"axon\" from the count\n",
        "vendor_counts = axon[['Vendor_1', 'Vendor_2', 'Vendor_3', 'Vendor_4']].stack().value_counts()\n",
        "vendor_counts.drop('axon', inplace=True)\n",
        "\n",
        "# Print the top collaborating vendors with \"axon\"\n",
        "top_collaborators_axon = vendor_counts\n",
        "print(top_collaborators_axon.head(10))"
      ],
      "metadata": {
        "colab": {
          "base_uri": "https://localhost:8080/"
        },
        "id": "DDNm7UTLN1IA",
        "outputId": "5bc47680-6ed7-42d9-b599-56d577f48da7"
      },
      "execution_count": null,
      "outputs": [
        {
          "output_type": "stream",
          "name": "stdout",
          "text": [
            "vievu                 1\n",
            "vigilant solutions    1\n",
            "dji                   1\n",
            "flock safety          1\n",
            "platescan             1\n",
            "watchguard            1\n",
            "dtype: int64\n"
          ]
        }
      ]
    },
    {
      "cell_type": "markdown",
      "source": [
        "# Exploring the Technologies Columns"
      ],
      "metadata": {
        "id": "P2W3_LTtN4CK"
      }
    },
    {
      "cell_type": "markdown",
      "source": [
        "## Q1: Which Technologies most commonly come from an Unknown Vendor?"
      ],
      "metadata": {
        "id": "Sfuc7aoBN9NL"
      }
    },
    {
      "cell_type": "code",
      "source": [
        "unknown_technology_counts = df3[df3['Vendor_1'].isna()]['Technology'].value_counts()\n",
        "\n",
        "#Display the count of each technology\n",
        "print(unknown_technology_counts)"
      ],
      "metadata": {
        "colab": {
          "base_uri": "https://localhost:8080/"
        },
        "id": "pgLVJmhROIoK",
        "outputId": "45404b2d-18f7-4529-bbf6-5f0f540fe46f"
      },
      "execution_count": null,
      "outputs": [
        {
          "output_type": "stream",
          "name": "stdout",
          "text": [
            "Body-worn Cameras                  2987\n",
            "Drones                              535\n",
            "Face Recognition                    494\n",
            "Automated License Plate Readers     362\n",
            "Camera Registry                     287\n",
            "Fusion Center                        79\n",
            "Real-Time Crime Center               77\n",
            "Cell-site Simulator                  34\n",
            "Predictive Policing                  24\n",
            "Gunshot Detection                     5\n",
            "Video Analytics                       2\n",
            "Name: Technology, dtype: int64\n"
          ]
        }
      ]
    },
    {
      "cell_type": "code",
      "source": [
        "unknown_technology_counts_2 = df3[df3['Vendor_2'].isna()]['Technology'].value_counts()\n",
        "\n",
        "#Display the count of each technology (this was the same value for Vendor_3 and Vendor_4)\n",
        "print(unknown_technology_counts_2)"
      ],
      "metadata": {
        "colab": {
          "base_uri": "https://localhost:8080/"
        },
        "id": "Na8wJhSfOqm7",
        "outputId": "a921e3b7-a796-4728-a4d2-0be25bb3395f"
      },
      "execution_count": null,
      "outputs": [
        {
          "output_type": "stream",
          "name": "stdout",
          "text": [
            "Body-worn Cameras                  4009\n",
            "Ring/Neighbors Partnership         2291\n",
            "Drones                             1288\n",
            "Automated License Plate Readers     986\n",
            "Face Recognition                    852\n",
            "Camera Registry                     420\n",
            "Predictive Policing                 188\n",
            "Gunshot Detection                   144\n",
            "Real-Time Crime Center              104\n",
            "Fusion Center                        79\n",
            "Cell-site Simulator                  73\n",
            "Video Analytics                      41\n",
            "Name: Technology, dtype: int64\n"
          ]
        }
      ]
    },
    {
      "cell_type": "markdown",
      "source": [
        "## Q2: Relationships between Technologies - and Unknown Vendors - and Types of Juris"
      ],
      "metadata": {
        "id": "uNNyNeYtPVGp"
      }
    },
    {
      "cell_type": "code",
      "source": [
        "#Overall count of unknown vendors related to Type of Juris\n",
        "df20 =df3[(df3['Vendor_1'].isna())]['Type of Juris'].value_counts()\n",
        "df20.head(5)"
      ],
      "metadata": {
        "colab": {
          "base_uri": "https://localhost:8080/"
        },
        "id": "n_aiE23IPeeq",
        "outputId": "a4d651d7-8726-4566-a4fa-a4c4b14d7bb6"
      },
      "execution_count": null,
      "outputs": [
        {
          "output_type": "execute_result",
          "data": {
            "text/plain": [
              "Municipal     3409\n",
              "County         896\n",
              "University     208\n",
              "State          103\n",
              "Regional        95\n",
              "Name: Type of Juris, dtype: int64"
            ]
          },
          "metadata": {},
          "execution_count": 48
        }
      ]
    },
    {
      "cell_type": "code",
      "source": [
        "#Count Type of Juris of body-worn cameras by unknown vendors\n",
        "df22 =df3[(df['Technology'] == 'Body-worn Cameras') & (df3['Vendor_1'].isna())]['Type of Juris'].value_counts()\n",
        "df22.head(5)"
      ],
      "metadata": {
        "colab": {
          "base_uri": "https://localhost:8080/"
        },
        "id": "_uJuBHrCPlJN",
        "outputId": "933f6bcb-35e2-4d5e-da97-ba30dd24b619"
      },
      "execution_count": null,
      "outputs": [
        {
          "output_type": "execute_result",
          "data": {
            "text/plain": [
              "Municipal     2220\n",
              "County         471\n",
              "University     173\n",
              "Parish          36\n",
              "State           27\n",
              "Name: Type of Juris, dtype: int64"
            ]
          },
          "metadata": {},
          "execution_count": 49
        }
      ]
    },
    {
      "cell_type": "code",
      "source": [
        "#Count Type of Juris of Drones by unknown vendors\n",
        "df23 =df3[(df['Technology'] == 'Drones') & (df3['Vendor_1'].isna())]['Type of Juris'].value_counts()\n",
        "df23.head(5)"
      ],
      "metadata": {
        "colab": {
          "base_uri": "https://localhost:8080/"
        },
        "id": "8skIn1dtProU",
        "outputId": "1ee56ef8-d1a7-4552-9d0a-76a921783667"
      },
      "execution_count": null,
      "outputs": [
        {
          "output_type": "execute_result",
          "data": {
            "text/plain": [
              "Municipal     307\n",
              "County        203\n",
              "State           9\n",
              "University      4\n",
              "Tribal          3\n",
              "Name: Type of Juris, dtype: int64"
            ]
          },
          "metadata": {},
          "execution_count": 50
        }
      ]
    },
    {
      "cell_type": "code",
      "source": [
        "#Count Type of Juris of Automated License Plate Readers by unknown vendors\n",
        "df24 =df3[(df['Technology'] == 'Automated License Plate Readers') & (df3['Vendor_1'].isna())]['Type of Juris'].value_counts()\n",
        "df24.head(5)"
      ],
      "metadata": {
        "colab": {
          "base_uri": "https://localhost:8080/"
        },
        "id": "2gA4Ix-LPvvg",
        "outputId": "c3415861-af62-4d1a-c55e-c75352267ace"
      },
      "execution_count": null,
      "outputs": [
        {
          "output_type": "execute_result",
          "data": {
            "text/plain": [
              "Municipal      224\n",
              "County          69\n",
              "University      29\n",
              "State           15\n",
              "University      14\n",
              "Name: Type of Juris, dtype: int64"
            ]
          },
          "metadata": {},
          "execution_count": 51
        }
      ]
    },
    {
      "cell_type": "code",
      "source": [
        "#Count Type of Juris of Face Recognition by unknown vendors\n",
        "df25 =df3[(df['Technology'] == 'Face Recognition') & (df3['Vendor_1'].isna())]['Type of Juris'].value_counts()\n",
        "df25.head(5)"
      ],
      "metadata": {
        "colab": {
          "base_uri": "https://localhost:8080/"
        },
        "id": "kT-jDaarPz0R",
        "outputId": "221abc8b-8f47-4401-ecf8-6bebd9fe3232"
      },
      "execution_count": null,
      "outputs": [
        {
          "output_type": "execute_result",
          "data": {
            "text/plain": [
              "Municipal     306\n",
              "County        102\n",
              "State          39\n",
              "Federal        17\n",
              "University     16\n",
              "Name: Type of Juris, dtype: int64"
            ]
          },
          "metadata": {},
          "execution_count": 52
        }
      ]
    },
    {
      "cell_type": "code",
      "source": [
        "#Count Type of Juris of Camera Registry by unknown vendors\n",
        "df26 =df3[(df['Technology'] == 'Camera Registry') & (df3['Vendor_1'].isna())]['Type of Juris'].value_counts()\n",
        "df26.head(5)"
      ],
      "metadata": {
        "colab": {
          "base_uri": "https://localhost:8080/"
        },
        "id": "RQAdHoNCP3PB",
        "outputId": "82c2b631-b184-4c6c-ecfd-8c5cdea86124"
      },
      "execution_count": null,
      "outputs": [
        {
          "output_type": "execute_result",
          "data": {
            "text/plain": [
              "Municipal    259\n",
              "County        26\n",
              "State          1\n",
              "Regional       1\n",
              "Name: Type of Juris, dtype: int64"
            ]
          },
          "metadata": {},
          "execution_count": 53
        }
      ]
    },
    {
      "cell_type": "markdown",
      "source": [
        "## Q3: Relationship between Technologies and - Unknown Vendors - and States"
      ],
      "metadata": {
        "id": "R5QeYldYP--F"
      }
    },
    {
      "cell_type": "code",
      "source": [
        "#Overall count of unknown vendors related to State\n",
        "df21 =df3[(df3['Vendor_1'].isna())]['State'].value_counts()\n",
        "df21.head(5)"
      ],
      "metadata": {
        "colab": {
          "base_uri": "https://localhost:8080/"
        },
        "id": "hjxHU9HnQBIo",
        "outputId": "807a34c7-3a0e-4cea-efe0-dd1f25216033"
      },
      "execution_count": null,
      "outputs": [
        {
          "output_type": "execute_result",
          "data": {
            "text/plain": [
              "NJ    538\n",
              "MI    500\n",
              "WI    316\n",
              "SC    306\n",
              "FL    287\n",
              "Name: State, dtype: int64"
            ]
          },
          "metadata": {},
          "execution_count": 54
        }
      ]
    },
    {
      "cell_type": "code",
      "source": [
        "#Count State of Body-worn Cameras by unknown vendors\n",
        "df27 =df3[(df['Technology'] == 'Body-worn Cameras') & (df3['Vendor_1'].isna())]['State'].value_counts()\n",
        "df27.head(10)"
      ],
      "metadata": {
        "colab": {
          "base_uri": "https://localhost:8080/"
        },
        "id": "04KpT4lbQGH5",
        "outputId": "7ec3e25b-f30a-4a8a-ab09-9a94574df2ca"
      },
      "execution_count": null,
      "outputs": [
        {
          "output_type": "execute_result",
          "data": {
            "text/plain": [
              "NJ    514\n",
              "WI    280\n",
              "SC    271\n",
              "OH    167\n",
              "FL    155\n",
              "CO    103\n",
              "LA    102\n",
              "MA     99\n",
              "CT     99\n",
              "CA     90\n",
              "Name: State, dtype: int64"
            ]
          },
          "metadata": {},
          "execution_count": 55
        }
      ]
    },
    {
      "cell_type": "code",
      "source": [
        "#Count State of Drones by unknown vendors\n",
        "df28 =df3[(df['Technology'] == 'Drones') & (df3['Vendor_1'].isna())]['State'].value_counts()\n",
        "df28.head(10)"
      ],
      "metadata": {
        "colab": {
          "base_uri": "https://localhost:8080/"
        },
        "id": "TyoLIf7oQK3i",
        "outputId": "6e11eb08-288b-4779-803a-ab4a5d719588"
      },
      "execution_count": null,
      "outputs": [
        {
          "output_type": "execute_result",
          "data": {
            "text/plain": [
              "MN    75\n",
              "FL    69\n",
              "CA    46\n",
              "OH    39\n",
              "TX    34\n",
              "WI    20\n",
              "WA    20\n",
              "GA    18\n",
              "TN    12\n",
              "CO    12\n",
              "Name: State, dtype: int64"
            ]
          },
          "metadata": {},
          "execution_count": 56
        }
      ]
    },
    {
      "cell_type": "code",
      "source": [
        "#Count Automated License Plate Readers by unknown vendors\n",
        "df29 =df3[(df['Technology'] == 'Automated License Plate Readers') & (df3['Vendor_1'].isna())]['State'].value_counts()\n",
        "df29.head(10)"
      ],
      "metadata": {
        "colab": {
          "base_uri": "https://localhost:8080/"
        },
        "id": "IEW3H4A5QKtt",
        "outputId": "164a30a6-a474-4ea3-c56b-988140b7cd73"
      },
      "execution_count": null,
      "outputs": [
        {
          "output_type": "execute_result",
          "data": {
            "text/plain": [
              "MN    47\n",
              "FL    29\n",
              "CA    29\n",
              "SC    27\n",
              "TX    23\n",
              "GA    16\n",
              "NC    15\n",
              "MD    15\n",
              "PA    13\n",
              "OH    12\n",
              "Name: State, dtype: int64"
            ]
          },
          "metadata": {},
          "execution_count": 57
        }
      ]
    },
    {
      "cell_type": "code",
      "source": [
        "#Count Face Recognition by unknown vendors\n",
        "df30 =df3[(df['Technology'] == 'Face Recognition') & (df3['Vendor_1'].isna())]['State'].value_counts()\n",
        "df30.head(10)"
      ],
      "metadata": {
        "colab": {
          "base_uri": "https://localhost:8080/"
        },
        "id": "e5t8s-2HQTm8",
        "outputId": "46c7e905-97d7-4ea2-f352-3d8403a1c333"
      },
      "execution_count": null,
      "outputs": [
        {
          "output_type": "execute_result",
          "data": {
            "text/plain": [
              "MI    424\n",
              "CA      9\n",
              "MD      8\n",
              "TX      4\n",
              "FL      4\n",
              "GA      3\n",
              "KY      2\n",
              "NY      2\n",
              "MN      2\n",
              "MA      2\n",
              "Name: State, dtype: int64"
            ]
          },
          "metadata": {},
          "execution_count": 58
        }
      ]
    },
    {
      "cell_type": "code",
      "source": [
        "df31 =df3[(df['Technology'] == 'Camera Registry') & (df3['Vendor_1'].isna())]['State'].value_counts()\n",
        "df31.head(10)"
      ],
      "metadata": {
        "colab": {
          "base_uri": "https://localhost:8080/"
        },
        "id": "fnfvTfkZQcTc",
        "outputId": "694688c4-5ba0-4e57-ac2d-c100810f7d21"
      },
      "execution_count": null,
      "outputs": [
        {
          "output_type": "execute_result",
          "data": {
            "text/plain": [
              "CA    60\n",
              "TX    30\n",
              "OH    14\n",
              "MA    14\n",
              "MO    14\n",
              "NY    12\n",
              "NJ    11\n",
              "OR     9\n",
              "IL     9\n",
              "GA     8\n",
              "Name: State, dtype: int64"
            ]
          },
          "metadata": {},
          "execution_count": 59
        }
      ]
    },
    {
      "cell_type": "markdown",
      "source": [
        "## Q4: Unique Values in Technologies"
      ],
      "metadata": {
        "id": "xw1uLvjZQvdO"
      }
    },
    {
      "cell_type": "code",
      "source": [
        "# create new df5\n",
        "df5 = df3.drop(['County', 'State', 'Agency', 'Type of Juris'], axis=1)\n",
        "df5.head(5)"
      ],
      "metadata": {
        "colab": {
          "base_uri": "https://localhost:8080/",
          "height": 206
        },
        "id": "7wQhMvAdQ4Ww",
        "outputId": "e6a89a02-a4f7-4c14-c517-b6c36b9e3686"
      },
      "execution_count": null,
      "outputs": [
        {
          "output_type": "execute_result",
          "data": {
            "text/plain": [
              "  AOSNUMBER       City Type of LEA         Technology                Vendor_1  \\\n",
              "0   AOS0001  Woodstock      Police  Body-worn Cameras  vml insurance programs   \n",
              "1   AOS0002   Rockford      Police  Gunshot Detection             shotspotter   \n",
              "2   AOS0003    Atlanta      Police  Gunshot Detection             shotspotter   \n",
              "3   AOS0004     Peoria      Police  Gunshot Detection             shotspotter   \n",
              "4   AOS0005  Goldsboro      Police  Gunshot Detection             shotspotter   \n",
              "\n",
              "  Vendor_2 Vendor_3 Vendor_4  \n",
              "0     None     None     None  \n",
              "1     None     None     None  \n",
              "2     None     None     None  \n",
              "3     None     None     None  \n",
              "4     None     None     None  "
            ],
            "text/html": [
              "\n",
              "  <div id=\"df-202ab154-d3f9-46bf-8872-d4a3907a30f5\">\n",
              "    <div class=\"colab-df-container\">\n",
              "      <div>\n",
              "<style scoped>\n",
              "    .dataframe tbody tr th:only-of-type {\n",
              "        vertical-align: middle;\n",
              "    }\n",
              "\n",
              "    .dataframe tbody tr th {\n",
              "        vertical-align: top;\n",
              "    }\n",
              "\n",
              "    .dataframe thead th {\n",
              "        text-align: right;\n",
              "    }\n",
              "</style>\n",
              "<table border=\"1\" class=\"dataframe\">\n",
              "  <thead>\n",
              "    <tr style=\"text-align: right;\">\n",
              "      <th></th>\n",
              "      <th>AOSNUMBER</th>\n",
              "      <th>City</th>\n",
              "      <th>Type of LEA</th>\n",
              "      <th>Technology</th>\n",
              "      <th>Vendor_1</th>\n",
              "      <th>Vendor_2</th>\n",
              "      <th>Vendor_3</th>\n",
              "      <th>Vendor_4</th>\n",
              "    </tr>\n",
              "  </thead>\n",
              "  <tbody>\n",
              "    <tr>\n",
              "      <th>0</th>\n",
              "      <td>AOS0001</td>\n",
              "      <td>Woodstock</td>\n",
              "      <td>Police</td>\n",
              "      <td>Body-worn Cameras</td>\n",
              "      <td>vml insurance programs</td>\n",
              "      <td>None</td>\n",
              "      <td>None</td>\n",
              "      <td>None</td>\n",
              "    </tr>\n",
              "    <tr>\n",
              "      <th>1</th>\n",
              "      <td>AOS0002</td>\n",
              "      <td>Rockford</td>\n",
              "      <td>Police</td>\n",
              "      <td>Gunshot Detection</td>\n",
              "      <td>shotspotter</td>\n",
              "      <td>None</td>\n",
              "      <td>None</td>\n",
              "      <td>None</td>\n",
              "    </tr>\n",
              "    <tr>\n",
              "      <th>2</th>\n",
              "      <td>AOS0003</td>\n",
              "      <td>Atlanta</td>\n",
              "      <td>Police</td>\n",
              "      <td>Gunshot Detection</td>\n",
              "      <td>shotspotter</td>\n",
              "      <td>None</td>\n",
              "      <td>None</td>\n",
              "      <td>None</td>\n",
              "    </tr>\n",
              "    <tr>\n",
              "      <th>3</th>\n",
              "      <td>AOS0004</td>\n",
              "      <td>Peoria</td>\n",
              "      <td>Police</td>\n",
              "      <td>Gunshot Detection</td>\n",
              "      <td>shotspotter</td>\n",
              "      <td>None</td>\n",
              "      <td>None</td>\n",
              "      <td>None</td>\n",
              "    </tr>\n",
              "    <tr>\n",
              "      <th>4</th>\n",
              "      <td>AOS0005</td>\n",
              "      <td>Goldsboro</td>\n",
              "      <td>Police</td>\n",
              "      <td>Gunshot Detection</td>\n",
              "      <td>shotspotter</td>\n",
              "      <td>None</td>\n",
              "      <td>None</td>\n",
              "      <td>None</td>\n",
              "    </tr>\n",
              "  </tbody>\n",
              "</table>\n",
              "</div>\n",
              "      <button class=\"colab-df-convert\" onclick=\"convertToInteractive('df-202ab154-d3f9-46bf-8872-d4a3907a30f5')\"\n",
              "              title=\"Convert this dataframe to an interactive table.\"\n",
              "              style=\"display:none;\">\n",
              "        \n",
              "  <svg xmlns=\"http://www.w3.org/2000/svg\" height=\"24px\"viewBox=\"0 0 24 24\"\n",
              "       width=\"24px\">\n",
              "    <path d=\"M0 0h24v24H0V0z\" fill=\"none\"/>\n",
              "    <path d=\"M18.56 5.44l.94 2.06.94-2.06 2.06-.94-2.06-.94-.94-2.06-.94 2.06-2.06.94zm-11 1L8.5 8.5l.94-2.06 2.06-.94-2.06-.94L8.5 2.5l-.94 2.06-2.06.94zm10 10l.94 2.06.94-2.06 2.06-.94-2.06-.94-.94-2.06-.94 2.06-2.06.94z\"/><path d=\"M17.41 7.96l-1.37-1.37c-.4-.4-.92-.59-1.43-.59-.52 0-1.04.2-1.43.59L10.3 9.45l-7.72 7.72c-.78.78-.78 2.05 0 2.83L4 21.41c.39.39.9.59 1.41.59.51 0 1.02-.2 1.41-.59l7.78-7.78 2.81-2.81c.8-.78.8-2.07 0-2.86zM5.41 20L4 18.59l7.72-7.72 1.47 1.35L5.41 20z\"/>\n",
              "  </svg>\n",
              "      </button>\n",
              "      \n",
              "  <style>\n",
              "    .colab-df-container {\n",
              "      display:flex;\n",
              "      flex-wrap:wrap;\n",
              "      gap: 12px;\n",
              "    }\n",
              "\n",
              "    .colab-df-convert {\n",
              "      background-color: #E8F0FE;\n",
              "      border: none;\n",
              "      border-radius: 50%;\n",
              "      cursor: pointer;\n",
              "      display: none;\n",
              "      fill: #1967D2;\n",
              "      height: 32px;\n",
              "      padding: 0 0 0 0;\n",
              "      width: 32px;\n",
              "    }\n",
              "\n",
              "    .colab-df-convert:hover {\n",
              "      background-color: #E2EBFA;\n",
              "      box-shadow: 0px 1px 2px rgba(60, 64, 67, 0.3), 0px 1px 3px 1px rgba(60, 64, 67, 0.15);\n",
              "      fill: #174EA6;\n",
              "    }\n",
              "\n",
              "    [theme=dark] .colab-df-convert {\n",
              "      background-color: #3B4455;\n",
              "      fill: #D2E3FC;\n",
              "    }\n",
              "\n",
              "    [theme=dark] .colab-df-convert:hover {\n",
              "      background-color: #434B5C;\n",
              "      box-shadow: 0px 1px 3px 1px rgba(0, 0, 0, 0.15);\n",
              "      filter: drop-shadow(0px 1px 2px rgba(0, 0, 0, 0.3));\n",
              "      fill: #FFFFFF;\n",
              "    }\n",
              "  </style>\n",
              "\n",
              "      <script>\n",
              "        const buttonEl =\n",
              "          document.querySelector('#df-202ab154-d3f9-46bf-8872-d4a3907a30f5 button.colab-df-convert');\n",
              "        buttonEl.style.display =\n",
              "          google.colab.kernel.accessAllowed ? 'block' : 'none';\n",
              "\n",
              "        async function convertToInteractive(key) {\n",
              "          const element = document.querySelector('#df-202ab154-d3f9-46bf-8872-d4a3907a30f5');\n",
              "          const dataTable =\n",
              "            await google.colab.kernel.invokeFunction('convertToInteractive',\n",
              "                                                     [key], {});\n",
              "          if (!dataTable) return;\n",
              "\n",
              "          const docLinkHtml = 'Like what you see? Visit the ' +\n",
              "            '<a target=\"_blank\" href=https://colab.research.google.com/notebooks/data_table.ipynb>data table notebook</a>'\n",
              "            + ' to learn more about interactive tables.';\n",
              "          element.innerHTML = '';\n",
              "          dataTable['output_type'] = 'display_data';\n",
              "          await google.colab.output.renderOutput(dataTable, element);\n",
              "          const docLink = document.createElement('div');\n",
              "          docLink.innerHTML = docLinkHtml;\n",
              "          element.appendChild(docLink);\n",
              "        }\n",
              "      </script>\n",
              "    </div>\n",
              "  </div>\n",
              "  "
            ]
          },
          "metadata": {},
          "execution_count": 60
        }
      ]
    },
    {
      "cell_type": "code",
      "source": [
        "#Finding unique values in Tech\n",
        "unique_values = df5['Technology'].unique()\n",
        "print(unique_values)"
      ],
      "metadata": {
        "colab": {
          "base_uri": "https://localhost:8080/"
        },
        "id": "alDsEXudRB_v",
        "outputId": "cb889dc9-1d7e-48e9-ea4b-76ca5eb7fb50"
      },
      "execution_count": null,
      "outputs": [
        {
          "output_type": "stream",
          "name": "stdout",
          "text": [
            "['Body-worn Cameras' 'Gunshot Detection' 'Automated License Plate Readers'\n",
            " 'Predictive Policing' 'Face Recognition' 'Drones' 'Camera Registry'\n",
            " 'Cell-site Simulator' 'Video Analytics' 'Ring/Neighbors Partnership'\n",
            " 'Real-Time Crime Center' 'Fusion Center']\n"
          ]
        }
      ]
    },
    {
      "cell_type": "markdown",
      "source": [
        "## Q5: Which Vendors provide which kinds of Technologies"
      ],
      "metadata": {
        "id": "bzp0eciSR4Sx"
      }
    },
    {
      "cell_type": "code",
      "source": [
        "# Concatenate the vendor columns into a single series\n",
        "vendor_series = pd.concat([df5['Vendor_1'], df5['Vendor_2'], df5['Vendor_3'], df5['Vendor_4']])\n",
        "\n",
        "# Get the top 10 vendors\n",
        "top_vendors = vendor_series.value_counts().head(10)\n",
        "\n",
        "# Print the top 10 vendors\n",
        "print(top_vendors)"
      ],
      "metadata": {
        "colab": {
          "base_uri": "https://localhost:8080/"
        },
        "id": "nye04a-mRqWh",
        "outputId": "df6112cf-876b-4e49-fc2b-9e05aa589856"
      },
      "execution_count": null,
      "outputs": [
        {
          "output_type": "stream",
          "name": "stdout",
          "text": [
            "ring                  2291\n",
            "dji                    682\n",
            "axon                   592\n",
            "vigilant solutions     331\n",
            "idemia                 258\n",
            "motorola solutions     148\n",
            "shotspotter            138\n",
            "flock safety           138\n",
            "watchguard             133\n",
            "ibm                     98\n",
            "dtype: int64\n"
          ]
        }
      ]
    },
    {
      "cell_type": "code",
      "source": [
        "#Most commonly used Tech\n",
        "counts_tech = df5['Technology'].value_counts()\n",
        "print(counts_tech)"
      ],
      "metadata": {
        "colab": {
          "base_uri": "https://localhost:8080/"
        },
        "id": "OcktApDLRu44",
        "outputId": "c76207c5-71bd-4488-fe1c-2fc034fb1004"
      },
      "execution_count": null,
      "outputs": [
        {
          "output_type": "stream",
          "name": "stdout",
          "text": [
            "Body-worn Cameras                  4035\n",
            "Ring/Neighbors Partnership         2291\n",
            "Drones                             1333\n",
            "Automated License Plate Readers    1060\n",
            "Face Recognition                    855\n",
            "Camera Registry                     421\n",
            "Predictive Policing                 188\n",
            "Gunshot Detection                   144\n",
            "Real-Time Crime Center              104\n",
            "Fusion Center                        79\n",
            "Cell-site Simulator                  73\n",
            "Video Analytics                      42\n",
            "Name: Technology, dtype: int64\n"
          ]
        }
      ]
    },
    {
      "cell_type": "code",
      "source": [
        "#Find out which vendors are providing Body-worn camera\n",
        "result = df5.loc[df5['Technology'] == 'Body-worn Cameras', 'Vendor_1'].values\n",
        "\n",
        "#Convert all values to string\n",
        "result = result.astype(str)\n",
        "\n",
        "unique_values = np.unique(result)\n",
        "print(unique_values)"
      ],
      "metadata": {
        "colab": {
          "base_uri": "https://localhost:8080/"
        },
        "id": "URY7yucxR_Cx",
        "outputId": "43c8af57-a020-4354-ec9a-259eafd60f05"
      },
      "execution_count": null,
      "outputs": [
        {
          "output_type": "stream",
          "name": "stdout",
          "text": [
            "['' 'None' 'axon' 'axon body-2' 'blue line technologies' 'bodyworn'\n",
            " 'bodyworn (utility' 'coban' 'coptrax' 'copvu' 'data 911' 'digital ally'\n",
            " 'firstvu' 'getac' 'gopro' 'l-3' 'l-3 mobile vision' 'l-3 mobile-vision'\n",
            " 'l3' 'l3 bodyvision' 'l3 communications' 'l3 mobile vision' 'lenslock'\n",
            " 'mobile-vision' 'monitor closely' 'motorola' 'motorola solutins'\n",
            " 'motorola solutions' 'muvi' 'panasonic' 'panasonic and digital ally'\n",
            " 'patrol eyes' 'patroleyes' 'possibly axon' 'pro-vision' 'provision'\n",
            " 'reveal' 'reveal d3' 'safe fleet' 'safe-fleet' 'safety vision' 'safevant'\n",
            " 'shield v' 'taser' 'titan' 'turn-key mobile inc.' 'utility'\n",
            " 'utility associates' 'vievu' 'vievue' 'viperwave' 'visual lab'\n",
            " 'visual labs' 'visual labs inc.' 'vivue' 'vml insurance programs'\n",
            " 'watchguard' 'watchguard and axon' 'wolfcom']\n"
          ]
        }
      ]
    },
    {
      "cell_type": "markdown",
      "source": [
        "## Q5: List of the different Technologies provided by the Vendors"
      ],
      "metadata": {
        "id": "C6QbKQ4JScSa"
      }
    },
    {
      "cell_type": "code",
      "source": [
        "vendor_cols = ['Vendor_1', 'Vendor_2', 'Vendor_3', 'Vendor_4']\n",
        "vendors = df5.loc[df5['Technology'] == 'Body-worn Cameras', vendor_cols].stack().unique()\n",
        "\n",
        "# Get value counts for each unique vendor\n",
        "vendor_counts = df5.loc[df5['Technology'] == 'Body-worn Cameras', vendor_cols].stack().value_counts()\n",
        "\n",
        "# Sort the vendor counts in descending order\n",
        "vendor_counts_sorted = vendor_counts.sort_values(ascending=False)\n",
        "\n",
        "# Print the top 10 vendors and their value counts\n",
        "for vendor, count in vendor_counts_sorted.head(5).items():\n",
        "    print(f\"{vendor}: {count}\")"
      ],
      "metadata": {
        "colab": {
          "base_uri": "https://localhost:8080/"
        },
        "id": "0BCZatPdSeiH",
        "outputId": "f5f7296c-ca20-4eb1-e179-71b59474cfa7"
      },
      "execution_count": null,
      "outputs": [
        {
          "output_type": "stream",
          "name": "stdout",
          "text": [
            "axon: 586\n",
            "watchguard: 133\n",
            "wolfcom: 94\n",
            "utility: 59\n",
            "vievu: 23\n"
          ]
        }
      ]
    },
    {
      "cell_type": "code",
      "source": [
        "vendor_cols = ['Vendor_1', 'Vendor_2', 'Vendor_3', 'Vendor_4']\n",
        "vendors = df5.loc[df5['Technology'] == 'Ring/Neighbors Partnership', vendor_cols].stack().unique()\n",
        "\n",
        "# Get value counts for each unique vendor\n",
        "vendor_counts = df5.loc[df5['Technology'] == 'Ring/Neighbors Partnership', vendor_cols].stack().value_counts()\n",
        "\n",
        "# Sort the vendor counts in descending order\n",
        "vendor_counts_sorted = vendor_counts.sort_values(ascending=False)\n",
        "\n",
        "# Print the top 10 vendors and their value counts\n",
        "for vendor, count in vendor_counts_sorted.head(5).items():\n",
        "    print(f\"{vendor}: {count}\")"
      ],
      "metadata": {
        "colab": {
          "base_uri": "https://localhost:8080/"
        },
        "id": "PBtnViQlSnI7",
        "outputId": "e0d74940-50d4-4712-a6b7-a6ae2d65a9bf"
      },
      "execution_count": null,
      "outputs": [
        {
          "output_type": "stream",
          "name": "stdout",
          "text": [
            "ring: 2291\n"
          ]
        }
      ]
    },
    {
      "cell_type": "code",
      "source": [
        "vendor_cols = ['Vendor_1', 'Vendor_2', 'Vendor_3', 'Vendor_4']\n",
        "vendors = df5.loc[df5['Technology'] == 'Drones', vendor_cols].stack().unique()\n",
        "\n",
        "# Get value counts for each unique vendor\n",
        "vendor_counts = df5.loc[df5['Technology'] == 'Drones', vendor_cols].stack().value_counts()\n",
        "\n",
        "# Sort the vendor counts in descending order\n",
        "vendor_counts_sorted = vendor_counts.sort_values(ascending=False)\n",
        "\n",
        "# Print the top 10 vendors and their value counts\n",
        "for vendor, count in vendor_counts_sorted.head(5).items():\n",
        "    print(f\"{vendor}: {count}\")"
      ],
      "metadata": {
        "colab": {
          "base_uri": "https://localhost:8080/"
        },
        "id": "ZSiOWQNYSrzl",
        "outputId": "c2d96ae6-d517-443a-bc75-c10fe0d66a6f"
      },
      "execution_count": null,
      "outputs": [
        {
          "output_type": "stream",
          "name": "stdout",
          "text": [
            "dji: 682\n",
            "yuneec: 36\n",
            "autel robotics: 13\n",
            "autel: 10\n",
            "physical sciences: 9\n"
          ]
        }
      ]
    },
    {
      "cell_type": "code",
      "source": [
        "vendor_cols = ['Vendor_1', 'Vendor_2', 'Vendor_3', 'Vendor_4']\n",
        "vendors = df5.loc[df5['Technology'] == 'Automate License Plate Readers', vendor_cols].stack().unique()\n",
        "\n",
        "# Get value counts for each unique vendor\n",
        "vendor_counts = df5.loc[df5['Technology'] == 'Automated License Plate Readers', vendor_cols].stack().value_counts()\n",
        "\n",
        "# Sort the vendor counts in descending order\n",
        "vendor_counts_sorted = vendor_counts.sort_values(ascending=False)\n",
        "\n",
        "# Print the top 10 vendors and their value counts\n",
        "for vendor, count in vendor_counts_sorted.head(5).items():\n",
        "    print(f\"{vendor}: {count}\")"
      ],
      "metadata": {
        "colab": {
          "base_uri": "https://localhost:8080/"
        },
        "id": "hY7RJEufSz0X",
        "outputId": "31f33c8d-afb9-45f1-e2a3-8421d054b9e4"
      },
      "execution_count": null,
      "outputs": [
        {
          "output_type": "stream",
          "name": "stdout",
          "text": [
            "vigilant solutions: 322\n",
            "flock safety: 138\n",
            "pips: 57\n",
            "ndi recognition systems: 48\n",
            "elsag: 47\n"
          ]
        }
      ]
    },
    {
      "cell_type": "code",
      "source": [
        "vendor_cols = ['Vendor_1', 'Vendor_2', 'Vendor_3', 'Vendor_4']\n",
        "vendors = df5.loc[df5['Technology'] == 'Face Recognition', vendor_cols].stack().unique()\n",
        "\n",
        "# Get value counts for each unique vendor\n",
        "vendor_counts = df5.loc[df5['Technology'] == 'Face Recognition', vendor_cols].stack().value_counts()\n",
        "\n",
        "# Sort the vendor counts in descending order\n",
        "vendor_counts_sorted = vendor_counts.sort_values(ascending=False)\n",
        "\n",
        "# Print the top 10 vendors and their value counts\n",
        "for vendor, count in vendor_counts_sorted.head(5).items():\n",
        "    print(f\"{vendor}: {count}\")"
      ],
      "metadata": {
        "colab": {
          "base_uri": "https://localhost:8080/"
        },
        "id": "NkSkyhcxS5Pw",
        "outputId": "3e7beee0-d6d8-4e65-a8a0-c205853e825f"
      },
      "execution_count": null,
      "outputs": [
        {
          "output_type": "stream",
          "name": "stdout",
          "text": [
            "idemia: 258\n",
            "lacris: 34\n",
            "dataworks plus: 27\n",
            "clearview ai: 21\n",
            "vigilant solutions: 9\n"
          ]
        }
      ]
    },
    {
      "cell_type": "code",
      "source": [
        "vendor_cols = ['Vendor_1', 'Vendor_2', 'Vendor_3', 'Vendor_4']\n",
        "vendors = df5.loc[df5['Technology'] == 'Camera Registry', vendor_cols].stack().unique()\n",
        "\n",
        "# Get value counts for each unique vendor\n",
        "vendor_counts = df5.loc[df5['Technology'] == 'Camera Registry', vendor_cols].stack().value_counts()\n",
        "\n",
        "# Sort the vendor counts in descending order\n",
        "vendor_counts_sorted = vendor_counts.sort_values(ascending=False)\n",
        "\n",
        "# Print the top 10 vendors and their value counts\n",
        "for vendor, count in vendor_counts_sorted.head(5).items():\n",
        "    print(f\"{vendor}: {count}\")"
      ],
      "metadata": {
        "colab": {
          "base_uri": "https://localhost:8080/"
        },
        "id": "RBNL7_KVTIIK",
        "outputId": "b8bf5126-f3b6-4829-fec5-b38f94665331"
      },
      "execution_count": null,
      "outputs": [
        {
          "output_type": "stream",
          "name": "stdout",
          "text": [
            "motorola solutions: 127\n",
            "fusus: 6\n",
            "in 2022: 1\n",
            "reno police department contracted with fusus for software that \"s artificial intelligence software capable of automatically searching  designated video feeds for specific people: 1\n",
            "vehicles or other  distinctive features relevant to any search such as clothing associated with missing persons: 1\n"
          ]
        }
      ]
    },
    {
      "cell_type": "code",
      "source": [
        "vendor_cols = ['Vendor_1', 'Vendor_2', 'Vendor_3', 'Vendor_4']\n",
        "vendors = df5.loc[df5['Technology'] == 'Predictive Policing', vendor_cols].stack().unique()\n",
        "\n",
        "# Get value counts for each unique vendor\n",
        "vendor_counts = df5.loc[df5['Technology'] == 'Predictive Policing', vendor_cols].stack().value_counts()\n",
        "\n",
        "# Sort the vendor counts in descending order\n",
        "vendor_counts_sorted = vendor_counts.sort_values(ascending=False)\n",
        "\n",
        "# Print the top 10 vendors and their value counts\n",
        "for vendor, count in vendor_counts_sorted.head(5).items():\n",
        "    print(f\"{vendor}: {count}\")"
      ],
      "metadata": {
        "colab": {
          "base_uri": "https://localhost:8080/"
        },
        "id": "e8UmoG48TN08",
        "outputId": "0d2f903c-d28a-42ac-d715-48873a054c70"
      },
      "execution_count": null,
      "outputs": [
        {
          "output_type": "stream",
          "name": "stdout",
          "text": [
            "ibm: 97\n",
            "geolitica: 52\n",
            "shotspotter: 5\n",
            "civicscape: 2\n",
            "compstat: 2\n"
          ]
        }
      ]
    },
    {
      "cell_type": "code",
      "source": [
        "vendor_cols = ['Vendor_1', 'Vendor_2', 'Vendor_3', 'Vendor_4']\n",
        "vendors = df5.loc[df5['Technology'] == 'Gunshot Detection', vendor_cols].stack().unique()\n",
        "\n",
        "# Get value counts for each unique vendor\n",
        "vendor_counts = df5.loc[df5['Technology'] == 'Gunshot Detection', vendor_cols].stack().value_counts()\n",
        "\n",
        "# Sort the vendor counts in descending order\n",
        "vendor_counts_sorted = vendor_counts.sort_values(ascending=False)\n",
        "\n",
        "# Print the top 10 vendors and their value counts\n",
        "for vendor, count in vendor_counts_sorted.head(5).items():\n",
        "    print(f\"{vendor}: {count}\")"
      ],
      "metadata": {
        "colab": {
          "base_uri": "https://localhost:8080/"
        },
        "id": "KLIBQxgCTSNI",
        "outputId": "d2a8f282-6d6c-4b58-f2d8-6f6c290fddb4"
      },
      "execution_count": null,
      "outputs": [
        {
          "output_type": "stream",
          "name": "stdout",
          "text": [
            "shotspotter: 133\n",
            "wi-fiber: 1\n",
            "amberbox: 1\n",
            "verbi: 1\n",
            "fusus: 1\n"
          ]
        }
      ]
    },
    {
      "cell_type": "code",
      "source": [
        "vendor_cols = ['Vendor_1', 'Vendor_2', 'Vendor_3', 'Vendor_4']\n",
        "vendors = df5.loc[df5['Technology'] == 'Real-Time Crime Center', vendor_cols].stack().unique()\n",
        "\n",
        "# Get value counts for each unique vendor\n",
        "vendor_counts = df5.loc[df5['Technology'] == 'Real-Time Crime Center', vendor_cols].stack().value_counts()\n",
        "\n",
        "# Sort the vendor counts in descending order\n",
        "vendor_counts_sorted = vendor_counts.sort_values(ascending=False)\n",
        "\n",
        "# Print the top 10 vendors and their value counts\n",
        "for vendor, count in vendor_counts_sorted.head(5).items():\n",
        "    print(f\"{vendor}: {count}\")"
      ],
      "metadata": {
        "colab": {
          "base_uri": "https://localhost:8080/"
        },
        "id": "GV6sKAckTXGL",
        "outputId": "3654e15b-ff3f-42b7-ab90-b6cccce64cf8"
      },
      "execution_count": null,
      "outputs": [
        {
          "output_type": "stream",
          "name": "stdout",
          "text": [
            "fusus: 13\n",
            "project nola: 7\n",
            "motorola solutions: 4\n",
            "civicscape: 1\n",
            "mobotix: 1\n"
          ]
        }
      ]
    },
    {
      "cell_type": "code",
      "source": [
        "vendor_cols = ['Vendor_1', 'Vendor_2', 'Vendor_3', 'Vendor_4']\n",
        "vendors = df5.loc[df5['Technology'] == 'Fusion Center', vendor_cols].stack().unique()\n",
        "\n",
        "# Get value counts for each unique vendor\n",
        "vendor_counts = df5.loc[df5['Technology'] == 'Fusion Center', vendor_cols].stack().value_counts()\n",
        "\n",
        "# Sort the vendor counts in descending order\n",
        "vendor_counts_sorted = vendor_counts.sort_values(ascending=False)\n",
        "\n",
        "# Print the top 10 vendors and their value counts\n",
        "for vendor, count in vendor_counts_sorted.head(5).items():\n",
        "    print(f\"{vendor}: {count}\")"
      ],
      "metadata": {
        "id": "zcnvUucUTbsd"
      },
      "execution_count": null,
      "outputs": []
    },
    {
      "cell_type": "code",
      "source": [
        "vendor_cols = ['Vendor_1', 'Vendor_2', 'Vendor_3', 'Vendor_4']\n",
        "vendors = df5.loc[df5['Technology'] == 'Cell-site Simulator', vendor_cols].stack().unique()\n",
        "\n",
        "# Get value counts for each unique vendor\n",
        "vendor_counts = df5.loc[df5['Technology'] == 'Cell-site Simulator', vendor_cols].stack().value_counts()\n",
        "\n",
        "# Sort the vendor counts in descending order\n",
        "vendor_counts_sorted = vendor_counts.sort_values(ascending=False)\n",
        "\n",
        "# Print the top 10 vendors and their value counts\n",
        "for vendor, count in vendor_counts_sorted.head(5).items():\n",
        "    print(f\"{vendor}: {count}\")"
      ],
      "metadata": {
        "colab": {
          "base_uri": "https://localhost:8080/"
        },
        "id": "zz_KzFkqThLO",
        "outputId": "ab42c7e2-3dec-4040-8e9d-b97b63abf647"
      },
      "execution_count": null,
      "outputs": [
        {
          "output_type": "stream",
          "name": "stdout",
          "text": [
            "harris corp.: 23\n",
            "tactical support equipment: 7\n",
            "keyw: 4\n",
            "digital receiver technology: 3\n",
            "l3harris: 1\n"
          ]
        }
      ]
    },
    {
      "cell_type": "code",
      "source": [
        "vendor_cols = ['Vendor_1', 'Vendor_2', 'Vendor_3', 'Vendor_4']\n",
        "vendors = df5.loc[df5['Technology'] == 'Video Analytics', vendor_cols].stack().unique()\n",
        "\n",
        "# Get value counts for each unique vendor\n",
        "vendor_counts = df5.loc[df5['Technology'] == 'Video Analytics', vendor_cols].stack().value_counts()\n",
        "\n",
        "# Sort the vendor counts in descending order\n",
        "vendor_counts_sorted = vendor_counts.sort_values(ascending=False)\n",
        "\n",
        "# Print the top 10 vendors and their value counts\n",
        "for vendor, count in vendor_counts_sorted.head(5).items():\n",
        "    print(f\"{vendor}: {count}\")"
      ],
      "metadata": {
        "id": "nISwaFTETm5a",
        "outputId": "a95c2123-bc61-4c7c-bb75-2e6622fb3eb5",
        "colab": {
          "base_uri": "https://localhost:8080/"
        }
      },
      "execution_count": null,
      "outputs": [
        {
          "output_type": "stream",
          "name": "stdout",
          "text": [
            "briefcam: 29\n",
            "vintra: 2\n",
            "avigilon: 2\n",
            "intellisite: 2\n",
            "motorola solutions: 1\n"
          ]
        }
      ]
    },
    {
      "cell_type": "markdown",
      "source": [
        "# Exploring the relationship between technologies and vendors, and State, Region, and division\n"
      ],
      "metadata": {
        "id": "dFe1BwBGVJ3I"
      }
    },
    {
      "cell_type": "markdown",
      "source": [
        "## Merge with df containing region and division breakdowns"
      ],
      "metadata": {
        "id": "se99ty0IV4Fh"
      }
    },
    {
      "cell_type": "markdown",
      "source": [
        "Upload csv with US states and their corresponding region and division.\n",
        "\n",
        "CSV source: https://www.kaggle.com/datasets/omer2040/usa-states-to-region"
      ],
      "metadata": {
        "id": "gKgCGMPLkcAq"
      }
    },
    {
      "cell_type": "code",
      "source": [
        "from google.colab import files\n",
        "uploaded = files.upload()\n",
        "\n",
        "regions = \"States.csv\"\n",
        "regions = pd.read_csv(regions, delimiter=\",\")\n",
        "regions.head(10)"
      ],
      "metadata": {
        "colab": {
          "base_uri": "https://localhost:8080/",
          "height": 419
        },
        "id": "b5dFDDhPVs3o",
        "outputId": "161fa5f9-2628-4f50-e0df-34ed2f4012de"
      },
      "execution_count": null,
      "outputs": [
        {
          "output_type": "display_data",
          "data": {
            "text/plain": [
              "<IPython.core.display.HTML object>"
            ],
            "text/html": [
              "\n",
              "     <input type=\"file\" id=\"files-681701cc-b73b-4811-9f4e-2fd968788452\" name=\"files[]\" multiple disabled\n",
              "        style=\"border:none\" />\n",
              "     <output id=\"result-681701cc-b73b-4811-9f4e-2fd968788452\">\n",
              "      Upload widget is only available when the cell has been executed in the\n",
              "      current browser session. Please rerun this cell to enable.\n",
              "      </output>\n",
              "      <script>// Copyright 2017 Google LLC\n",
              "//\n",
              "// Licensed under the Apache License, Version 2.0 (the \"License\");\n",
              "// you may not use this file except in compliance with the License.\n",
              "// You may obtain a copy of the License at\n",
              "//\n",
              "//      http://www.apache.org/licenses/LICENSE-2.0\n",
              "//\n",
              "// Unless required by applicable law or agreed to in writing, software\n",
              "// distributed under the License is distributed on an \"AS IS\" BASIS,\n",
              "// WITHOUT WARRANTIES OR CONDITIONS OF ANY KIND, either express or implied.\n",
              "// See the License for the specific language governing permissions and\n",
              "// limitations under the License.\n",
              "\n",
              "/**\n",
              " * @fileoverview Helpers for google.colab Python module.\n",
              " */\n",
              "(function(scope) {\n",
              "function span(text, styleAttributes = {}) {\n",
              "  const element = document.createElement('span');\n",
              "  element.textContent = text;\n",
              "  for (const key of Object.keys(styleAttributes)) {\n",
              "    element.style[key] = styleAttributes[key];\n",
              "  }\n",
              "  return element;\n",
              "}\n",
              "\n",
              "// Max number of bytes which will be uploaded at a time.\n",
              "const MAX_PAYLOAD_SIZE = 100 * 1024;\n",
              "\n",
              "function _uploadFiles(inputId, outputId) {\n",
              "  const steps = uploadFilesStep(inputId, outputId);\n",
              "  const outputElement = document.getElementById(outputId);\n",
              "  // Cache steps on the outputElement to make it available for the next call\n",
              "  // to uploadFilesContinue from Python.\n",
              "  outputElement.steps = steps;\n",
              "\n",
              "  return _uploadFilesContinue(outputId);\n",
              "}\n",
              "\n",
              "// This is roughly an async generator (not supported in the browser yet),\n",
              "// where there are multiple asynchronous steps and the Python side is going\n",
              "// to poll for completion of each step.\n",
              "// This uses a Promise to block the python side on completion of each step,\n",
              "// then passes the result of the previous step as the input to the next step.\n",
              "function _uploadFilesContinue(outputId) {\n",
              "  const outputElement = document.getElementById(outputId);\n",
              "  const steps = outputElement.steps;\n",
              "\n",
              "  const next = steps.next(outputElement.lastPromiseValue);\n",
              "  return Promise.resolve(next.value.promise).then((value) => {\n",
              "    // Cache the last promise value to make it available to the next\n",
              "    // step of the generator.\n",
              "    outputElement.lastPromiseValue = value;\n",
              "    return next.value.response;\n",
              "  });\n",
              "}\n",
              "\n",
              "/**\n",
              " * Generator function which is called between each async step of the upload\n",
              " * process.\n",
              " * @param {string} inputId Element ID of the input file picker element.\n",
              " * @param {string} outputId Element ID of the output display.\n",
              " * @return {!Iterable<!Object>} Iterable of next steps.\n",
              " */\n",
              "function* uploadFilesStep(inputId, outputId) {\n",
              "  const inputElement = document.getElementById(inputId);\n",
              "  inputElement.disabled = false;\n",
              "\n",
              "  const outputElement = document.getElementById(outputId);\n",
              "  outputElement.innerHTML = '';\n",
              "\n",
              "  const pickedPromise = new Promise((resolve) => {\n",
              "    inputElement.addEventListener('change', (e) => {\n",
              "      resolve(e.target.files);\n",
              "    });\n",
              "  });\n",
              "\n",
              "  const cancel = document.createElement('button');\n",
              "  inputElement.parentElement.appendChild(cancel);\n",
              "  cancel.textContent = 'Cancel upload';\n",
              "  const cancelPromise = new Promise((resolve) => {\n",
              "    cancel.onclick = () => {\n",
              "      resolve(null);\n",
              "    };\n",
              "  });\n",
              "\n",
              "  // Wait for the user to pick the files.\n",
              "  const files = yield {\n",
              "    promise: Promise.race([pickedPromise, cancelPromise]),\n",
              "    response: {\n",
              "      action: 'starting',\n",
              "    }\n",
              "  };\n",
              "\n",
              "  cancel.remove();\n",
              "\n",
              "  // Disable the input element since further picks are not allowed.\n",
              "  inputElement.disabled = true;\n",
              "\n",
              "  if (!files) {\n",
              "    return {\n",
              "      response: {\n",
              "        action: 'complete',\n",
              "      }\n",
              "    };\n",
              "  }\n",
              "\n",
              "  for (const file of files) {\n",
              "    const li = document.createElement('li');\n",
              "    li.append(span(file.name, {fontWeight: 'bold'}));\n",
              "    li.append(span(\n",
              "        `(${file.type || 'n/a'}) - ${file.size} bytes, ` +\n",
              "        `last modified: ${\n",
              "            file.lastModifiedDate ? file.lastModifiedDate.toLocaleDateString() :\n",
              "                                    'n/a'} - `));\n",
              "    const percent = span('0% done');\n",
              "    li.appendChild(percent);\n",
              "\n",
              "    outputElement.appendChild(li);\n",
              "\n",
              "    const fileDataPromise = new Promise((resolve) => {\n",
              "      const reader = new FileReader();\n",
              "      reader.onload = (e) => {\n",
              "        resolve(e.target.result);\n",
              "      };\n",
              "      reader.readAsArrayBuffer(file);\n",
              "    });\n",
              "    // Wait for the data to be ready.\n",
              "    let fileData = yield {\n",
              "      promise: fileDataPromise,\n",
              "      response: {\n",
              "        action: 'continue',\n",
              "      }\n",
              "    };\n",
              "\n",
              "    // Use a chunked sending to avoid message size limits. See b/62115660.\n",
              "    let position = 0;\n",
              "    do {\n",
              "      const length = Math.min(fileData.byteLength - position, MAX_PAYLOAD_SIZE);\n",
              "      const chunk = new Uint8Array(fileData, position, length);\n",
              "      position += length;\n",
              "\n",
              "      const base64 = btoa(String.fromCharCode.apply(null, chunk));\n",
              "      yield {\n",
              "        response: {\n",
              "          action: 'append',\n",
              "          file: file.name,\n",
              "          data: base64,\n",
              "        },\n",
              "      };\n",
              "\n",
              "      let percentDone = fileData.byteLength === 0 ?\n",
              "          100 :\n",
              "          Math.round((position / fileData.byteLength) * 100);\n",
              "      percent.textContent = `${percentDone}% done`;\n",
              "\n",
              "    } while (position < fileData.byteLength);\n",
              "  }\n",
              "\n",
              "  // All done.\n",
              "  yield {\n",
              "    response: {\n",
              "      action: 'complete',\n",
              "    }\n",
              "  };\n",
              "}\n",
              "\n",
              "scope.google = scope.google || {};\n",
              "scope.google.colab = scope.google.colab || {};\n",
              "scope.google.colab._files = {\n",
              "  _uploadFiles,\n",
              "  _uploadFilesContinue,\n",
              "};\n",
              "})(self);\n",
              "</script> "
            ]
          },
          "metadata": {}
        },
        {
          "output_type": "stream",
          "name": "stdout",
          "text": [
            "Saving States.csv to States (1).csv\n"
          ]
        },
        {
          "output_type": "execute_result",
          "data": {
            "text/plain": [
              "                  State State Code     Region            Division\n",
              "0                Alaska         AK       West             Pacific\n",
              "1               Alabama         AL      South  East South Central\n",
              "2              Arkansas         AR      South  West South Central\n",
              "3               Arizona         AZ       West            Mountain\n",
              "4            California         CA       West             Pacific\n",
              "5              Colorado         CO       West            Mountain\n",
              "6           Connecticut         CT  Northeast         New England\n",
              "7  District of Columbia         DC      South      South Atlantic\n",
              "8              Delaware         DE      South      South Atlantic\n",
              "9               Florida         FL      South      South Atlantic"
            ],
            "text/html": [
              "\n",
              "  <div id=\"df-85c4244c-5231-4054-88ed-ca96cfaebf3b\">\n",
              "    <div class=\"colab-df-container\">\n",
              "      <div>\n",
              "<style scoped>\n",
              "    .dataframe tbody tr th:only-of-type {\n",
              "        vertical-align: middle;\n",
              "    }\n",
              "\n",
              "    .dataframe tbody tr th {\n",
              "        vertical-align: top;\n",
              "    }\n",
              "\n",
              "    .dataframe thead th {\n",
              "        text-align: right;\n",
              "    }\n",
              "</style>\n",
              "<table border=\"1\" class=\"dataframe\">\n",
              "  <thead>\n",
              "    <tr style=\"text-align: right;\">\n",
              "      <th></th>\n",
              "      <th>State</th>\n",
              "      <th>State Code</th>\n",
              "      <th>Region</th>\n",
              "      <th>Division</th>\n",
              "    </tr>\n",
              "  </thead>\n",
              "  <tbody>\n",
              "    <tr>\n",
              "      <th>0</th>\n",
              "      <td>Alaska</td>\n",
              "      <td>AK</td>\n",
              "      <td>West</td>\n",
              "      <td>Pacific</td>\n",
              "    </tr>\n",
              "    <tr>\n",
              "      <th>1</th>\n",
              "      <td>Alabama</td>\n",
              "      <td>AL</td>\n",
              "      <td>South</td>\n",
              "      <td>East South Central</td>\n",
              "    </tr>\n",
              "    <tr>\n",
              "      <th>2</th>\n",
              "      <td>Arkansas</td>\n",
              "      <td>AR</td>\n",
              "      <td>South</td>\n",
              "      <td>West South Central</td>\n",
              "    </tr>\n",
              "    <tr>\n",
              "      <th>3</th>\n",
              "      <td>Arizona</td>\n",
              "      <td>AZ</td>\n",
              "      <td>West</td>\n",
              "      <td>Mountain</td>\n",
              "    </tr>\n",
              "    <tr>\n",
              "      <th>4</th>\n",
              "      <td>California</td>\n",
              "      <td>CA</td>\n",
              "      <td>West</td>\n",
              "      <td>Pacific</td>\n",
              "    </tr>\n",
              "    <tr>\n",
              "      <th>5</th>\n",
              "      <td>Colorado</td>\n",
              "      <td>CO</td>\n",
              "      <td>West</td>\n",
              "      <td>Mountain</td>\n",
              "    </tr>\n",
              "    <tr>\n",
              "      <th>6</th>\n",
              "      <td>Connecticut</td>\n",
              "      <td>CT</td>\n",
              "      <td>Northeast</td>\n",
              "      <td>New England</td>\n",
              "    </tr>\n",
              "    <tr>\n",
              "      <th>7</th>\n",
              "      <td>District of Columbia</td>\n",
              "      <td>DC</td>\n",
              "      <td>South</td>\n",
              "      <td>South Atlantic</td>\n",
              "    </tr>\n",
              "    <tr>\n",
              "      <th>8</th>\n",
              "      <td>Delaware</td>\n",
              "      <td>DE</td>\n",
              "      <td>South</td>\n",
              "      <td>South Atlantic</td>\n",
              "    </tr>\n",
              "    <tr>\n",
              "      <th>9</th>\n",
              "      <td>Florida</td>\n",
              "      <td>FL</td>\n",
              "      <td>South</td>\n",
              "      <td>South Atlantic</td>\n",
              "    </tr>\n",
              "  </tbody>\n",
              "</table>\n",
              "</div>\n",
              "      <button class=\"colab-df-convert\" onclick=\"convertToInteractive('df-85c4244c-5231-4054-88ed-ca96cfaebf3b')\"\n",
              "              title=\"Convert this dataframe to an interactive table.\"\n",
              "              style=\"display:none;\">\n",
              "        \n",
              "  <svg xmlns=\"http://www.w3.org/2000/svg\" height=\"24px\"viewBox=\"0 0 24 24\"\n",
              "       width=\"24px\">\n",
              "    <path d=\"M0 0h24v24H0V0z\" fill=\"none\"/>\n",
              "    <path d=\"M18.56 5.44l.94 2.06.94-2.06 2.06-.94-2.06-.94-.94-2.06-.94 2.06-2.06.94zm-11 1L8.5 8.5l.94-2.06 2.06-.94-2.06-.94L8.5 2.5l-.94 2.06-2.06.94zm10 10l.94 2.06.94-2.06 2.06-.94-2.06-.94-.94-2.06-.94 2.06-2.06.94z\"/><path d=\"M17.41 7.96l-1.37-1.37c-.4-.4-.92-.59-1.43-.59-.52 0-1.04.2-1.43.59L10.3 9.45l-7.72 7.72c-.78.78-.78 2.05 0 2.83L4 21.41c.39.39.9.59 1.41.59.51 0 1.02-.2 1.41-.59l7.78-7.78 2.81-2.81c.8-.78.8-2.07 0-2.86zM5.41 20L4 18.59l7.72-7.72 1.47 1.35L5.41 20z\"/>\n",
              "  </svg>\n",
              "      </button>\n",
              "      \n",
              "  <style>\n",
              "    .colab-df-container {\n",
              "      display:flex;\n",
              "      flex-wrap:wrap;\n",
              "      gap: 12px;\n",
              "    }\n",
              "\n",
              "    .colab-df-convert {\n",
              "      background-color: #E8F0FE;\n",
              "      border: none;\n",
              "      border-radius: 50%;\n",
              "      cursor: pointer;\n",
              "      display: none;\n",
              "      fill: #1967D2;\n",
              "      height: 32px;\n",
              "      padding: 0 0 0 0;\n",
              "      width: 32px;\n",
              "    }\n",
              "\n",
              "    .colab-df-convert:hover {\n",
              "      background-color: #E2EBFA;\n",
              "      box-shadow: 0px 1px 2px rgba(60, 64, 67, 0.3), 0px 1px 3px 1px rgba(60, 64, 67, 0.15);\n",
              "      fill: #174EA6;\n",
              "    }\n",
              "\n",
              "    [theme=dark] .colab-df-convert {\n",
              "      background-color: #3B4455;\n",
              "      fill: #D2E3FC;\n",
              "    }\n",
              "\n",
              "    [theme=dark] .colab-df-convert:hover {\n",
              "      background-color: #434B5C;\n",
              "      box-shadow: 0px 1px 3px 1px rgba(0, 0, 0, 0.15);\n",
              "      filter: drop-shadow(0px 1px 2px rgba(0, 0, 0, 0.3));\n",
              "      fill: #FFFFFF;\n",
              "    }\n",
              "  </style>\n",
              "\n",
              "      <script>\n",
              "        const buttonEl =\n",
              "          document.querySelector('#df-85c4244c-5231-4054-88ed-ca96cfaebf3b button.colab-df-convert');\n",
              "        buttonEl.style.display =\n",
              "          google.colab.kernel.accessAllowed ? 'block' : 'none';\n",
              "\n",
              "        async function convertToInteractive(key) {\n",
              "          const element = document.querySelector('#df-85c4244c-5231-4054-88ed-ca96cfaebf3b');\n",
              "          const dataTable =\n",
              "            await google.colab.kernel.invokeFunction('convertToInteractive',\n",
              "                                                     [key], {});\n",
              "          if (!dataTable) return;\n",
              "\n",
              "          const docLinkHtml = 'Like what you see? Visit the ' +\n",
              "            '<a target=\"_blank\" href=https://colab.research.google.com/notebooks/data_table.ipynb>data table notebook</a>'\n",
              "            + ' to learn more about interactive tables.';\n",
              "          element.innerHTML = '';\n",
              "          dataTable['output_type'] = 'display_data';\n",
              "          await google.colab.output.renderOutput(dataTable, element);\n",
              "          const docLink = document.createElement('div');\n",
              "          docLink.innerHTML = docLinkHtml;\n",
              "          element.appendChild(docLink);\n",
              "        }\n",
              "      </script>\n",
              "    </div>\n",
              "  </div>\n",
              "  "
            ]
          },
          "metadata": {},
          "execution_count": 82
        }
      ]
    },
    {
      "cell_type": "markdown",
      "source": [
        "Rename columns in regions df to correspond to main df"
      ],
      "metadata": {
        "id": "8Z5uThNdWi20"
      }
    },
    {
      "cell_type": "code",
      "source": [
        "regions.rename(columns={'State': 'State full'}, inplace=True)\n",
        "regions.rename(columns={'State Code': 'State'}, inplace=True)\n",
        "print(regions.columns)"
      ],
      "metadata": {
        "colab": {
          "base_uri": "https://localhost:8080/"
        },
        "id": "nQUTWBTYWSoI",
        "outputId": "59c998bf-ce87-4850-b39c-52f3820f4192"
      },
      "execution_count": null,
      "outputs": [
        {
          "output_type": "stream",
          "name": "stdout",
          "text": [
            "Index(['State full', 'State', 'Region', 'Division'], dtype='object')\n"
          ]
        }
      ]
    },
    {
      "cell_type": "code",
      "source": [
        "print(df3)"
      ],
      "metadata": {
        "colab": {
          "base_uri": "https://localhost:8080/"
        },
        "id": "-8CLFDItXZSC",
        "outputId": "ddf27c5b-8ac0-4f00-9f02-a12acde9208e"
      },
      "execution_count": null,
      "outputs": [
        {
          "output_type": "stream",
          "name": "stdout",
          "text": [
            "      AOSNUMBER         City                         County State  \\\n",
            "0       AOS0001    Woodstock              Shenandoah County    VA   \n",
            "1       AOS0002     Rockford  Ogle County, Winnebago County    IL   \n",
            "2       AOS0003      Atlanta   DeKalb County, Fulton County    GA   \n",
            "3       AOS0004       Peoria                  Peoria County    IL   \n",
            "4       AOS0005    Goldsboro                   Wayne County    NC   \n",
            "...         ...          ...                            ...   ...   \n",
            "10620  AOS10621   Shenandoah              Montgomery County    TX   \n",
            "10621  AOS10622        Plano   Denton County, Collin County    TX   \n",
            "10622  AOS10623      Tomball                  Harris County    TX   \n",
            "10623  AOS10624  Gainesville                   Cooke County    TX   \n",
            "10624  AOS10625   St. George              Washington County    UT   \n",
            "\n",
            "                              Agency Type of LEA Type of Juris  \\\n",
            "0        Woodstock Police Department      Police     Municipal   \n",
            "1         Rockford Police Department      Police     Municipal   \n",
            "2          Atlanta Police Department      Police     Municipal   \n",
            "3           Peoria Police Department      Police     Municipal   \n",
            "4        Goldsboro Police Department      Police     Municipal   \n",
            "...                              ...         ...           ...   \n",
            "10620   Shenandoah Police Department      Police     Municipal   \n",
            "10621        Plano Police Department      Police     Municipal   \n",
            "10622      Tomball Police Department      Police     Municipal   \n",
            "10623  Cooke County Sheriff's Office     Sheriff        County   \n",
            "10624   St. George Police Department      Police     Municipal   \n",
            "\n",
            "                            Technology                Vendor_1 Vendor_2  \\\n",
            "0                    Body-worn Cameras  vml insurance programs     None   \n",
            "1                    Gunshot Detection             shotspotter     None   \n",
            "2                    Gunshot Detection             shotspotter     None   \n",
            "3                    Gunshot Detection             shotspotter     None   \n",
            "4                    Gunshot Detection             shotspotter     None   \n",
            "...                                ...                     ...      ...   \n",
            "10620  Automated License Plate Readers                    None     None   \n",
            "10621                           Drones                    None     None   \n",
            "10622                           Drones                    None     None   \n",
            "10623                           Drones                     dji     None   \n",
            "10624                Body-worn Cameras                    None     None   \n",
            "\n",
            "      Vendor_3 Vendor_4  \n",
            "0         None     None  \n",
            "1         None     None  \n",
            "2         None     None  \n",
            "3         None     None  \n",
            "4         None     None  \n",
            "...        ...      ...  \n",
            "10620     None     None  \n",
            "10621     None     None  \n",
            "10622     None     None  \n",
            "10623     None     None  \n",
            "10624     None     None  \n",
            "\n",
            "[10625 rows x 12 columns]\n"
          ]
        }
      ]
    },
    {
      "cell_type": "markdown",
      "source": [
        "Merge the two DF, perform left merge so we don't the rows for GU, PR, VI\n"
      ],
      "metadata": {
        "id": "TUt41whRf7Qc"
      }
    },
    {
      "cell_type": "code",
      "source": [
        "df6 = pd.merge(df3, regions, on='State', how='left')"
      ],
      "metadata": {
        "id": "cQglVl0pWc--"
      },
      "execution_count": null,
      "outputs": []
    },
    {
      "cell_type": "code",
      "source": [
        "print(df6)"
      ],
      "metadata": {
        "colab": {
          "base_uri": "https://localhost:8080/"
        },
        "id": "JXLURZADWg-l",
        "outputId": "3bcbb26a-ffd9-482d-fee1-605d70641e7c"
      },
      "execution_count": null,
      "outputs": [
        {
          "output_type": "stream",
          "name": "stdout",
          "text": [
            "      AOSNUMBER         City                         County State  \\\n",
            "0       AOS0001    Woodstock              Shenandoah County    VA   \n",
            "1       AOS0002     Rockford  Ogle County, Winnebago County    IL   \n",
            "2       AOS0003      Atlanta   DeKalb County, Fulton County    GA   \n",
            "3       AOS0004       Peoria                  Peoria County    IL   \n",
            "4       AOS0005    Goldsboro                   Wayne County    NC   \n",
            "...         ...          ...                            ...   ...   \n",
            "10620  AOS10621   Shenandoah              Montgomery County    TX   \n",
            "10621  AOS10622        Plano   Denton County, Collin County    TX   \n",
            "10622  AOS10623      Tomball                  Harris County    TX   \n",
            "10623  AOS10624  Gainesville                   Cooke County    TX   \n",
            "10624  AOS10625   St. George              Washington County    UT   \n",
            "\n",
            "                              Agency Type of LEA Type of Juris  \\\n",
            "0        Woodstock Police Department      Police     Municipal   \n",
            "1         Rockford Police Department      Police     Municipal   \n",
            "2          Atlanta Police Department      Police     Municipal   \n",
            "3           Peoria Police Department      Police     Municipal   \n",
            "4        Goldsboro Police Department      Police     Municipal   \n",
            "...                              ...         ...           ...   \n",
            "10620   Shenandoah Police Department      Police     Municipal   \n",
            "10621        Plano Police Department      Police     Municipal   \n",
            "10622      Tomball Police Department      Police     Municipal   \n",
            "10623  Cooke County Sheriff's Office     Sheriff        County   \n",
            "10624   St. George Police Department      Police     Municipal   \n",
            "\n",
            "                            Technology                Vendor_1 Vendor_2  \\\n",
            "0                    Body-worn Cameras  vml insurance programs     None   \n",
            "1                    Gunshot Detection             shotspotter     None   \n",
            "2                    Gunshot Detection             shotspotter     None   \n",
            "3                    Gunshot Detection             shotspotter     None   \n",
            "4                    Gunshot Detection             shotspotter     None   \n",
            "...                                ...                     ...      ...   \n",
            "10620  Automated License Plate Readers                    None     None   \n",
            "10621                           Drones                    None     None   \n",
            "10622                           Drones                    None     None   \n",
            "10623                           Drones                     dji     None   \n",
            "10624                Body-worn Cameras                    None     None   \n",
            "\n",
            "      Vendor_3 Vendor_4      State full   Region            Division  \n",
            "0         None     None        Virginia    South      South Atlantic  \n",
            "1         None     None        Illinois  Midwest  East North Central  \n",
            "2         None     None         Georgia    South      South Atlantic  \n",
            "3         None     None        Illinois  Midwest  East North Central  \n",
            "4         None     None  North Carolina    South      South Atlantic  \n",
            "...        ...      ...             ...      ...                 ...  \n",
            "10620     None     None           Texas    South  West South Central  \n",
            "10621     None     None           Texas    South  West South Central  \n",
            "10622     None     None           Texas    South  West South Central  \n",
            "10623     None     None           Texas    South  West South Central  \n",
            "10624     None     None            Utah     West            Mountain  \n",
            "\n",
            "[10625 rows x 15 columns]\n"
          ]
        }
      ]
    },
    {
      "cell_type": "markdown",
      "source": [
        "## Q1: What are the top vendors per state?"
      ],
      "metadata": {
        "id": "X_pm8nEigqZ5"
      }
    },
    {
      "cell_type": "code",
      "source": [
        "vendor_columns = ['Vendor_1', 'Vendor_2', 'Vendor_3', 'Vendor_4']\n",
        "state_vendor_counts = pd.DataFrame()\n",
        "\n",
        "for column in vendor_columns:\n",
        "    vendor_counts = df6.groupby(['State', column])['AOSNUMBER'].count().reset_index().rename(columns={column: 'Vendor', 'AOSNUMBER': 'Count'})\n",
        "    state_vendor_counts = state_vendor_counts.append(vendor_counts)\n",
        "\n",
        "top_vendors_by_state = state_vendor_counts.groupby('State').apply(lambda x: x.nlargest(5, 'Count')).reset_index(drop=True)\n",
        "print(top_vendors_by_state)"
      ],
      "metadata": {
        "colab": {
          "base_uri": "https://localhost:8080/"
        },
        "id": "KYIZIby8gGOB",
        "outputId": "b675ff45-3d13-4ac7-dd27-1c69c6a7e62f"
      },
      "execution_count": null,
      "outputs": [
        {
          "output_type": "stream",
          "name": "stdout",
          "text": [
            "    State   Vendor  Count\n",
            "0      AK     ring      3\n",
            "1      AK     axon      1\n",
            "2      AK      dji      1\n",
            "3      AK  wolfcom      1\n",
            "4      AL     ring     28\n",
            "..    ...      ...    ...\n",
            "246    WY     ring      3\n",
            "247    WY     axon      2\n",
            "248    WY      dji      2\n",
            "249    WY    coban      1\n",
            "250    WY    elsag      1\n",
            "\n",
            "[251 rows x 3 columns]\n"
          ]
        },
        {
          "output_type": "stream",
          "name": "stderr",
          "text": [
            "<ipython-input-349-4e8602e1bca1>:6: FutureWarning: The frame.append method is deprecated and will be removed from pandas in a future version. Use pandas.concat instead.\n",
            "  state_vendor_counts = state_vendor_counts.append(vendor_counts)\n",
            "<ipython-input-349-4e8602e1bca1>:6: FutureWarning: The frame.append method is deprecated and will be removed from pandas in a future version. Use pandas.concat instead.\n",
            "  state_vendor_counts = state_vendor_counts.append(vendor_counts)\n",
            "<ipython-input-349-4e8602e1bca1>:6: FutureWarning: The frame.append method is deprecated and will be removed from pandas in a future version. Use pandas.concat instead.\n",
            "  state_vendor_counts = state_vendor_counts.append(vendor_counts)\n",
            "<ipython-input-349-4e8602e1bca1>:6: FutureWarning: The frame.append method is deprecated and will be removed from pandas in a future version. Use pandas.concat instead.\n",
            "  state_vendor_counts = state_vendor_counts.append(vendor_counts)\n"
          ]
        }
      ]
    },
    {
      "cell_type": "code",
      "source": [
        "#top_vendors_by_state.to_csv('top_vendors_by_state.csv', index=False)\n",
        "\n",
        "#files.download('top_vendors_by_state.csv')"
      ],
      "metadata": {
        "id": "hEEjQDqSgirJ"
      },
      "execution_count": null,
      "outputs": []
    },
    {
      "cell_type": "code",
      "source": [
        "#state_vendor_counts.to_csv('state_vendor_counts.csv', index=False)\n",
        "\n",
        "#files.download('state_vendor_counts.csv')"
      ],
      "metadata": {
        "id": "DoryZKDLgkkv"
      },
      "execution_count": null,
      "outputs": []
    },
    {
      "cell_type": "markdown",
      "source": [
        "## Q2: What are the top vendors per region?"
      ],
      "metadata": {
        "id": "QSTjRWuKhSqp"
      }
    },
    {
      "cell_type": "code",
      "source": [
        "region_vendor_counts = pd.DataFrame()\n",
        "\n",
        "for column in vendor_columns:\n",
        "    vendor_counts = df6.groupby(['Region', column])['AOSNUMBER'].count().reset_index().rename(columns={column: 'Vendor', 'AOSNUMBER': 'Count'})\n",
        "    region_vendor_counts = region_vendor_counts.append(vendor_counts)\n",
        "\n",
        "top_vendors_by_region = region_vendor_counts.groupby('Region').apply(lambda x: x.nlargest(20, 'Count')).reset_index(drop=True)\n",
        "print(top_vendors_by_region)"
      ],
      "metadata": {
        "colab": {
          "base_uri": "https://localhost:8080/"
        },
        "id": "3Ogy8HmdgnQJ",
        "outputId": "4141980a-adf5-490c-9a12-efac3a61992c"
      },
      "execution_count": null,
      "outputs": [
        {
          "output_type": "stream",
          "name": "stdout",
          "text": [
            "     Region              Vendor  Count\n",
            "0   Midwest                ring    680\n",
            "1   Midwest                 dji    198\n",
            "2   Midwest                axon    135\n",
            "3   Midwest          watchguard     54\n",
            "4   Midwest  vigilant solutions     48\n",
            "..      ...                 ...    ...\n",
            "75     West                pips     13\n",
            "76     West               vievu      9\n",
            "77     West            briefcam      8\n",
            "78     West              idemia      8\n",
            "79     West                pips      7\n",
            "\n",
            "[80 rows x 3 columns]\n"
          ]
        },
        {
          "output_type": "stream",
          "name": "stderr",
          "text": [
            "<ipython-input-352-16166e9fa3cb>:5: FutureWarning: The frame.append method is deprecated and will be removed from pandas in a future version. Use pandas.concat instead.\n",
            "  region_vendor_counts = region_vendor_counts.append(vendor_counts)\n",
            "<ipython-input-352-16166e9fa3cb>:5: FutureWarning: The frame.append method is deprecated and will be removed from pandas in a future version. Use pandas.concat instead.\n",
            "  region_vendor_counts = region_vendor_counts.append(vendor_counts)\n",
            "<ipython-input-352-16166e9fa3cb>:5: FutureWarning: The frame.append method is deprecated and will be removed from pandas in a future version. Use pandas.concat instead.\n",
            "  region_vendor_counts = region_vendor_counts.append(vendor_counts)\n",
            "<ipython-input-352-16166e9fa3cb>:5: FutureWarning: The frame.append method is deprecated and will be removed from pandas in a future version. Use pandas.concat instead.\n",
            "  region_vendor_counts = region_vendor_counts.append(vendor_counts)\n"
          ]
        }
      ]
    },
    {
      "cell_type": "code",
      "source": [
        "#top_vendors_by_region.to_csv('top_vendors_by_region.csv', index=False)\n",
        "\n",
        "#files.download('top_vendors_by_region.csv')"
      ],
      "metadata": {
        "id": "DLuO1K8YhcKc"
      },
      "execution_count": null,
      "outputs": []
    },
    {
      "cell_type": "code",
      "source": [
        "#region_vendor_counts.to_csv('region_vendor_counts.csv', index=False)\n",
        "\n",
        "#files.download('region_vendor_counts.csv')"
      ],
      "metadata": {
        "id": "PBgCrL2MhkFa"
      },
      "execution_count": null,
      "outputs": []
    },
    {
      "cell_type": "markdown",
      "source": [
        "## Q3: What are the top vendors per division?"
      ],
      "metadata": {
        "id": "i6tK8xVLhz9-"
      }
    },
    {
      "cell_type": "code",
      "source": [
        "division_vendor_counts = pd.DataFrame()\n",
        "\n",
        "for column in vendor_columns:\n",
        "    vendor_counts = df6.groupby(['Division', column])['AOSNUMBER'].count().reset_index().rename(columns={column: 'Vendor', 'AOSNUMBER': 'Count'})\n",
        "    division_vendor_counts = division_vendor_counts.append(vendor_counts)\n",
        "\n",
        "top_vendors_by_division = division_vendor_counts.groupby('Division').apply(lambda x: x.nlargest(25, 'Count')).reset_index(drop=True)\n",
        "print(top_vendors_by_division)"
      ],
      "metadata": {
        "colab": {
          "base_uri": "https://localhost:8080/"
        },
        "id": "Fh747cTehxrA",
        "outputId": "732a76c3-3388-416f-dd82-f1de3ed19949"
      },
      "execution_count": null,
      "outputs": [
        {
          "output_type": "stream",
          "name": "stderr",
          "text": [
            "<ipython-input-355-5c7b3f0624da>:5: FutureWarning: The frame.append method is deprecated and will be removed from pandas in a future version. Use pandas.concat instead.\n",
            "  division_vendor_counts = division_vendor_counts.append(vendor_counts)\n",
            "<ipython-input-355-5c7b3f0624da>:5: FutureWarning: The frame.append method is deprecated and will be removed from pandas in a future version. Use pandas.concat instead.\n",
            "  division_vendor_counts = division_vendor_counts.append(vendor_counts)\n",
            "<ipython-input-355-5c7b3f0624da>:5: FutureWarning: The frame.append method is deprecated and will be removed from pandas in a future version. Use pandas.concat instead.\n",
            "  division_vendor_counts = division_vendor_counts.append(vendor_counts)\n",
            "<ipython-input-355-5c7b3f0624da>:5: FutureWarning: The frame.append method is deprecated and will be removed from pandas in a future version. Use pandas.concat instead.\n",
            "  division_vendor_counts = division_vendor_counts.append(vendor_counts)\n"
          ]
        },
        {
          "output_type": "stream",
          "name": "stdout",
          "text": [
            "               Division              Vendor  Count\n",
            "0    East North Central                ring    538\n",
            "1    East North Central                 dji    127\n",
            "2    East North Central                axon     77\n",
            "3    East North Central  vigilant solutions     36\n",
            "4    East North Central        flock safety     34\n",
            "..                  ...                 ...    ...\n",
            "220  West South Central                 3dr      2\n",
            "221  West South Central           anyvision      2\n",
            "222  West South Central      autel robotics      2\n",
            "223  West South Central            briefcam      2\n",
            "224  West South Central        clearview ai      2\n",
            "\n",
            "[225 rows x 3 columns]\n"
          ]
        }
      ]
    },
    {
      "cell_type": "code",
      "source": [
        "#division_vendor_counts.to_csv('division_vendor_counts.csv', index=False)\n",
        "\n",
        "#files.download('division_vendor_counts.csv')"
      ],
      "metadata": {
        "id": "85oafjadiQrw"
      },
      "execution_count": null,
      "outputs": []
    },
    {
      "cell_type": "code",
      "source": [
        "#top_vendors_by_division.to_csv('top_vendors_by_division.csv', index=False)\n",
        "\n",
        "#files.download('top_vendors_by_division.csv')"
      ],
      "metadata": {
        "id": "v22DftqLiTD0"
      },
      "execution_count": null,
      "outputs": []
    },
    {
      "cell_type": "markdown",
      "source": [
        "## Q4: What are the top technologies per State?\n",
        "\n",
        "\n"
      ],
      "metadata": {
        "id": "m6C_CUjWiXlo"
      }
    },
    {
      "cell_type": "code",
      "source": [
        "state_tech_counts = df6.groupby(['State', 'Technology'])['AOSNUMBER'].count().reset_index().rename(columns={'AOSNUMBER': 'Count'})\n",
        "\n",
        "print(state_tech_counts)"
      ],
      "metadata": {
        "colab": {
          "base_uri": "https://localhost:8080/"
        },
        "id": "WcCTclpXiVMP",
        "outputId": "91e08c7f-1402-41d9-e342-0687f959dcae"
      },
      "execution_count": null,
      "outputs": [
        {
          "output_type": "stream",
          "name": "stdout",
          "text": [
            "    State                  Technology  Count\n",
            "0      AK           Body-worn Cameras      4\n",
            "1      AK         Cell-site Simulator      1\n",
            "2      AK                      Drones      3\n",
            "3      AK            Face Recognition      1\n",
            "4      AK               Fusion Center      1\n",
            "..    ...                         ...    ...\n",
            "475    WY           Body-worn Cameras     18\n",
            "476    WY             Camera Registry      1\n",
            "477    WY                      Drones      2\n",
            "478    WY               Fusion Center      1\n",
            "479    WY  Ring/Neighbors Partnership      3\n",
            "\n",
            "[480 rows x 3 columns]\n"
          ]
        }
      ]
    },
    {
      "cell_type": "code",
      "source": [
        "top_tech_by_state = state_tech_counts.groupby('State').apply(lambda x: x.nlargest(5, 'Count')).reset_index(drop=True)\n",
        "print(top_tech_by_state)"
      ],
      "metadata": {
        "colab": {
          "base_uri": "https://localhost:8080/"
        },
        "id": "ekyIzbMLjFjW",
        "outputId": "e8ac7632-8ee4-4c06-dbab-b0a96f203cfc"
      },
      "execution_count": null,
      "outputs": [
        {
          "output_type": "stream",
          "name": "stdout",
          "text": [
            "    State                       Technology  Count\n",
            "0      AK                Body-worn Cameras      4\n",
            "1      AK                           Drones      3\n",
            "2      AK       Ring/Neighbors Partnership      3\n",
            "3      AK              Cell-site Simulator      1\n",
            "4      AK                 Face Recognition      1\n",
            "..    ...                              ...    ...\n",
            "258    WY                Body-worn Cameras     18\n",
            "259    WY       Ring/Neighbors Partnership      3\n",
            "260    WY                           Drones      2\n",
            "261    WY  Automated License Plate Readers      1\n",
            "262    WY                  Camera Registry      1\n",
            "\n",
            "[263 rows x 3 columns]\n"
          ]
        }
      ]
    },
    {
      "cell_type": "code",
      "source": [
        "#state_tech_counts.to_csv('state_tech_counts.csv', index=False)\n",
        "\n",
        "#files.download('state_tech_counts.csv')"
      ],
      "metadata": {
        "id": "4Vf_jaqEictp"
      },
      "execution_count": null,
      "outputs": []
    },
    {
      "cell_type": "code",
      "source": [
        "#top_tech_by_state.to_csv('top_tech_by_state.csv', index=False)\n",
        "\n",
        "#files.download('top_tech_by_state.csv')"
      ],
      "metadata": {
        "id": "M3OAkpRejO39"
      },
      "execution_count": null,
      "outputs": []
    },
    {
      "cell_type": "markdown",
      "source": [
        "## Q5: What are the top technologies per region?"
      ],
      "metadata": {
        "id": "TFxUcY49jcy0"
      }
    },
    {
      "cell_type": "code",
      "source": [
        "region_tech_counts = df6.groupby(['Region', 'Technology'])['AOSNUMBER'].count().reset_index().rename(columns={'AOSNUMBER': 'Count'})\n",
        "\n",
        "top_tech_by_region = region_tech_counts.groupby('Region').apply(lambda x: x.nlargest(15, 'Count')).reset_index(drop=True)\n",
        "\n",
        "print(top_tech_by_region)"
      ],
      "metadata": {
        "colab": {
          "base_uri": "https://localhost:8080/"
        },
        "id": "jpbhMLqkjUfQ",
        "outputId": "e38b43f5-0aa9-4eaa-f87e-49064fa8dd00"
      },
      "execution_count": null,
      "outputs": [
        {
          "output_type": "stream",
          "name": "stdout",
          "text": [
            "       Region                       Technology  Count\n",
            "0     Midwest                Body-worn Cameras   1008\n",
            "1     Midwest       Ring/Neighbors Partnership    680\n",
            "2     Midwest                 Face Recognition    448\n",
            "3     Midwest                           Drones    427\n",
            "4     Midwest  Automated License Plate Readers    214\n",
            "5     Midwest                  Camera Registry     88\n",
            "6     Midwest                Gunshot Detection     29\n",
            "7     Midwest                    Fusion Center     19\n",
            "8     Midwest           Real-Time Crime Center     13\n",
            "9     Midwest              Cell-site Simulator     12\n",
            "10    Midwest              Predictive Policing     12\n",
            "11    Midwest                  Video Analytics      8\n",
            "12  Northeast                Body-worn Cameras   1030\n",
            "13  Northeast       Ring/Neighbors Partnership    540\n",
            "14  Northeast                           Drones    165\n",
            "15  Northeast  Automated License Plate Readers     86\n",
            "16  Northeast                  Camera Registry     61\n",
            "17  Northeast                Gunshot Detection     38\n",
            "18  Northeast           Real-Time Crime Center     24\n",
            "19  Northeast                 Face Recognition     15\n",
            "20  Northeast              Predictive Policing     13\n",
            "21  Northeast                    Fusion Center     12\n",
            "22  Northeast              Cell-site Simulator      7\n",
            "23  Northeast                  Video Analytics      6\n",
            "24      South                Body-worn Cameras   1301\n",
            "25      South       Ring/Neighbors Partnership    716\n",
            "26      South                           Drones    456\n",
            "27      South  Automated License Plate Readers    415\n",
            "28      South                 Face Recognition    307\n",
            "29      South                  Camera Registry    135\n",
            "30      South              Predictive Policing    134\n",
            "31      South           Real-Time Crime Center     51\n",
            "32      South                Gunshot Detection     48\n",
            "33      South              Cell-site Simulator     29\n",
            "34      South                    Fusion Center     26\n",
            "35      South                  Video Analytics     11\n",
            "36       West                Body-worn Cameras    685\n",
            "37       West       Ring/Neighbors Partnership    355\n",
            "38       West  Automated License Plate Readers    345\n",
            "39       West                           Drones    285\n",
            "40       West                  Camera Registry    137\n",
            "41       West                 Face Recognition     85\n",
            "42       West              Predictive Policing     29\n",
            "43       West              Cell-site Simulator     25\n",
            "44       West                Gunshot Detection     25\n",
            "45       West                    Fusion Center     19\n",
            "46       West                  Video Analytics     17\n",
            "47       West           Real-Time Crime Center     16\n"
          ]
        }
      ]
    },
    {
      "cell_type": "code",
      "source": [
        "#top_tech_by_region.to_csv('top_tech_by_region.csv', index=False)\n",
        "#files.download('top_tech_by_region.csv')"
      ],
      "metadata": {
        "id": "YCsQAXEljjXb"
      },
      "execution_count": null,
      "outputs": []
    },
    {
      "cell_type": "code",
      "source": [
        "#region_tech_counts.to_csv('region_tech_counts.csv', index=False)\n",
        "#files.download('region_tech_counts.csv')"
      ],
      "metadata": {
        "id": "TcGfNwsLjzoF"
      },
      "execution_count": null,
      "outputs": []
    },
    {
      "cell_type": "markdown",
      "source": [
        "Q6: What are the top technologies per division?\n"
      ],
      "metadata": {
        "id": "IW1YLhoFjlq4"
      }
    },
    {
      "cell_type": "code",
      "source": [
        "division_tech_counts = df6.groupby(['Division', 'Technology'])['AOSNUMBER'].count().reset_index().rename(columns={'AOSNUMBER': 'Count'})\n",
        "\n",
        "top_tech_by_division = division_tech_counts.groupby('Division').apply(lambda x: x.nlargest(15, 'Count')).reset_index(drop=True)\n",
        "print(top_tech_by_division)"
      ],
      "metadata": {
        "colab": {
          "base_uri": "https://localhost:8080/"
        },
        "id": "zTnVxF6YjpAF",
        "outputId": "df081ae3-1e21-49e4-b74b-e98f3eadf004"
      },
      "execution_count": null,
      "outputs": [
        {
          "output_type": "stream",
          "name": "stdout",
          "text": [
            "               Division                       Technology  Count\n",
            "0    East North Central                Body-worn Cameras    754\n",
            "1    East North Central       Ring/Neighbors Partnership    538\n",
            "2    East North Central                 Face Recognition    438\n",
            "3    East North Central                           Drones    236\n",
            "4    East North Central  Automated License Plate Readers    127\n",
            "..                  ...                              ...    ...\n",
            "102  West South Central                    Fusion Center     10\n",
            "103  West South Central              Predictive Policing      9\n",
            "104  West South Central              Cell-site Simulator      6\n",
            "105  West South Central                Gunshot Detection      4\n",
            "106  West South Central                  Video Analytics      2\n",
            "\n",
            "[107 rows x 3 columns]\n"
          ]
        }
      ]
    },
    {
      "cell_type": "code",
      "source": [
        "#division_tech_counts.to_csv('division_tech_counts.csv', index=False)\n",
        "\n",
        "#files.download('division_tech_counts.csv')"
      ],
      "metadata": {
        "id": "kGi6SfKMj_nT"
      },
      "execution_count": null,
      "outputs": []
    },
    {
      "cell_type": "code",
      "source": [
        "#top_tech_by_division.to_csv('top_tech_by_division.csv', index=False)\n",
        "\n",
        "#files.download('top_tech_by_division.csv')"
      ],
      "metadata": {
        "id": "G6RLDFqRkBxJ"
      },
      "execution_count": null,
      "outputs": []
    },
    {
      "cell_type": "markdown",
      "source": [
        "# Explore which technologies and vendors are most popular within different jurisdiction types"
      ],
      "metadata": {
        "id": "_aEcr9RF1mCA"
      }
    },
    {
      "cell_type": "markdown",
      "source": [
        "## Q1: Which jurdictions have most known surveillance contracts?"
      ],
      "metadata": {
        "id": "RWTT1CGp2W8P"
      }
    },
    {
      "cell_type": "code",
      "source": [
        "juris_values = df2['Type of Juris']\n",
        "unique_values_juris = juris_values.unique()\n",
        "\n",
        "juris_values = juris_values.value_counts()\n",
        "\n",
        "print(juris_values)"
      ],
      "metadata": {
        "colab": {
          "base_uri": "https://localhost:8080/"
        },
        "id": "Wg501tCt1x6G",
        "outputId": "1cec0433-0424-4294-cfe4-95fc4896c5e7"
      },
      "execution_count": null,
      "outputs": [
        {
          "output_type": "stream",
          "name": "stdout",
          "text": [
            "Municipal               7664\n",
            "County                  2128\n",
            "University               292\n",
            "State                    180\n",
            "Regional                 135\n",
            "Parish                    36\n",
            "University                35\n",
            "Tribal                    30\n",
            "School District           22\n",
            "Federal                   20\n",
            "Territory                 13\n",
            "Statewide                 12\n",
            "Airport                   12\n",
            "Parish                    10\n",
            "Cross-jurisdictional       4\n",
            "Transit                    4\n",
            "Judicial District          3\n",
            "School                     3\n",
            "Railroad                   3\n",
            "Township                   2\n",
            "Special District           2\n",
            "Municipal                  2\n",
            "Port                       2\n",
            "Transity                   1\n",
            "School                     1\n",
            "Police                     1\n",
            "Municpal                   1\n",
            "Municipality               1\n",
            "Transportation             1\n",
            "Housing Authority          1\n",
            "Hospital                   1\n",
            "Borough                    1\n",
            "Village                    1\n",
            "State Agency               1\n",
            "Name: Type of Juris, dtype: int64\n"
          ]
        }
      ]
    },
    {
      "cell_type": "markdown",
      "source": [
        "## Q2: What technologies are most prevalent on Universites?"
      ],
      "metadata": {
        "id": "adzeLbdN2cg2"
      }
    },
    {
      "cell_type": "code",
      "source": [
        "university_df = df6[df6[\"Type of Juris\"] == \"University\"]\n",
        "\n",
        "uni_technology_counts = university_df[\"Technology\"].value_counts()\n",
        "\n",
        "top_technologies_uni = uni_technology_counts.head(25)\n",
        "\n",
        "print(\"Top technologies within universities:\")\n",
        "print(top_technologies_uni)"
      ],
      "metadata": {
        "colab": {
          "base_uri": "https://localhost:8080/"
        },
        "id": "V1YcBd6huEw0",
        "outputId": "8fbccafa-5de9-4cd9-b207-8f114d3d8a97"
      },
      "execution_count": null,
      "outputs": [
        {
          "output_type": "stream",
          "name": "stdout",
          "text": [
            "Top technologies within universities:\n",
            "Body-worn Cameras                  227\n",
            "Face Recognition                    24\n",
            "Automated License Plate Readers     17\n",
            "Drones                              11\n",
            "Gunshot Detection                    7\n",
            "Camera Registry                      3\n",
            "Video Analytics                      2\n",
            "Real-Time Crime Center               1\n",
            "Name: Technology, dtype: int64\n"
          ]
        }
      ]
    },
    {
      "cell_type": "code",
      "source": [
        "#top_technologies_uni = pd.DataFrame({'Technology': top_technologies_uni.index, 'Count': top_technologies_uni.values})\n",
        "\n",
        "#top_technologies_uni.to_csv('top_technologies_uni.csv', index=False)\n",
        "\n",
        "#files.download('top_technologies_uni.csv')"
      ],
      "metadata": {
        "colab": {
          "base_uri": "https://localhost:8080/",
          "height": 17
        },
        "id": "aKPyBFRMzJod",
        "outputId": "0e0598b6-3c9d-42d9-cf75-507aaafef597"
      },
      "execution_count": null,
      "outputs": [
        {
          "output_type": "display_data",
          "data": {
            "text/plain": [
              "<IPython.core.display.Javascript object>"
            ],
            "application/javascript": [
              "\n",
              "    async function download(id, filename, size) {\n",
              "      if (!google.colab.kernel.accessAllowed) {\n",
              "        return;\n",
              "      }\n",
              "      const div = document.createElement('div');\n",
              "      const label = document.createElement('label');\n",
              "      label.textContent = `Downloading \"${filename}\": `;\n",
              "      div.appendChild(label);\n",
              "      const progress = document.createElement('progress');\n",
              "      progress.max = size;\n",
              "      div.appendChild(progress);\n",
              "      document.body.appendChild(div);\n",
              "\n",
              "      const buffers = [];\n",
              "      let downloaded = 0;\n",
              "\n",
              "      const channel = await google.colab.kernel.comms.open(id);\n",
              "      // Send a message to notify the kernel that we're ready.\n",
              "      channel.send({})\n",
              "\n",
              "      for await (const message of channel.messages) {\n",
              "        // Send a message to notify the kernel that we're ready.\n",
              "        channel.send({})\n",
              "        if (message.buffers) {\n",
              "          for (const buffer of message.buffers) {\n",
              "            buffers.push(buffer);\n",
              "            downloaded += buffer.byteLength;\n",
              "            progress.value = downloaded;\n",
              "          }\n",
              "        }\n",
              "      }\n",
              "      const blob = new Blob(buffers, {type: 'application/binary'});\n",
              "      const a = document.createElement('a');\n",
              "      a.href = window.URL.createObjectURL(blob);\n",
              "      a.download = filename;\n",
              "      div.appendChild(a);\n",
              "      a.click();\n",
              "      div.remove();\n",
              "    }\n",
              "  "
            ]
          },
          "metadata": {}
        },
        {
          "output_type": "display_data",
          "data": {
            "text/plain": [
              "<IPython.core.display.Javascript object>"
            ],
            "application/javascript": [
              "download(\"download_7946b4bc-9832-4bf6-acb4-6108638a446b\", \"top_technologies_uni.csv\", 185)"
            ]
          },
          "metadata": {}
        }
      ]
    },
    {
      "cell_type": "markdown",
      "source": [
        "## Q3: Which vendors are most popular on universites?"
      ],
      "metadata": {
        "id": "nVTRHyC42q3i"
      }
    },
    {
      "cell_type": "code",
      "source": [
        "uni_vendor_counts = pd.Series(dtype=int)\n",
        "\n",
        "# Iterate over the vendor columns and count the occurrences\n",
        "for column in ['Vendor_1', 'Vendor_2', 'Vendor_3', 'Vendor_4']:\n",
        "    uni_vendor_counts = uni_vendor_counts.add(university_df[column].value_counts(), fill_value=0)\n",
        "\n",
        "uni_vendor_counts = uni_vendor_counts.sort_values(ascending=False)\n",
        "\n",
        "uni_vendor_counts = uni_vendor_counts.astype(int)\n",
        "\n",
        "top_vendors_uni = uni_vendor_counts.head(100)\n",
        "\n",
        "print(\"\\nTop vendors within universities:\")\n",
        "print(top_vendors_uni)"
      ],
      "metadata": {
        "colab": {
          "base_uri": "https://localhost:8080/"
        },
        "id": "N0z84TKtvUXM",
        "outputId": "6ad65ed0-686f-4a19-f878-75f3501e14de"
      },
      "execution_count": null,
      "outputs": [
        {
          "output_type": "stream",
          "name": "stdout",
          "text": [
            "\n",
            "Top vendors within universities:\n",
            "axon                       29\n",
            "wolfcom                     7\n",
            "watchguard                  7\n",
            "dji                         7\n",
            "shotspotter                 5\n",
            "idemia                      4\n",
            "motorola solutions          3\n",
            "safety vision               3\n",
            "coban                       2\n",
            "lacris                      2\n",
            "avigilon                    2\n",
            "ndi recognition systems     2\n",
            "possibly axon               1\n",
            "vigilant solutions          1\n",
            "vievu                       1\n",
            "verbi                       1\n",
            "amberbox                    1\n",
            "park assist                 1\n",
            "panasonic                   1\n",
            "l3 communications           1\n",
            "genetec                     1\n",
            "digital ally                1\n",
            "dataworks plus              1\n",
            "axon body-2                 1\n",
            "yuneec                      1\n",
            "dtype: int64\n"
          ]
        }
      ]
    },
    {
      "cell_type": "code",
      "source": [
        "# top_vendors_uni_df = pd.DataFrame({'Vendor': top_vendors_uni.index, 'Count': top_vendors_uni.values})\n",
        "\n",
        "# top_vendors_uni_df.to_csv('top_vendors_uni.csv', index=False)\n",
        "# files.download('top_vendors_uni.csv')"
      ],
      "metadata": {
        "colab": {
          "base_uri": "https://localhost:8080/",
          "height": 17
        },
        "id": "TKtyspiZzey5",
        "outputId": "d5a3d992-2511-4b29-f761-d31386c1157a"
      },
      "execution_count": null,
      "outputs": [
        {
          "output_type": "display_data",
          "data": {
            "text/plain": [
              "<IPython.core.display.Javascript object>"
            ],
            "application/javascript": [
              "\n",
              "    async function download(id, filename, size) {\n",
              "      if (!google.colab.kernel.accessAllowed) {\n",
              "        return;\n",
              "      }\n",
              "      const div = document.createElement('div');\n",
              "      const label = document.createElement('label');\n",
              "      label.textContent = `Downloading \"${filename}\": `;\n",
              "      div.appendChild(label);\n",
              "      const progress = document.createElement('progress');\n",
              "      progress.max = size;\n",
              "      div.appendChild(progress);\n",
              "      document.body.appendChild(div);\n",
              "\n",
              "      const buffers = [];\n",
              "      let downloaded = 0;\n",
              "\n",
              "      const channel = await google.colab.kernel.comms.open(id);\n",
              "      // Send a message to notify the kernel that we're ready.\n",
              "      channel.send({})\n",
              "\n",
              "      for await (const message of channel.messages) {\n",
              "        // Send a message to notify the kernel that we're ready.\n",
              "        channel.send({})\n",
              "        if (message.buffers) {\n",
              "          for (const buffer of message.buffers) {\n",
              "            buffers.push(buffer);\n",
              "            downloaded += buffer.byteLength;\n",
              "            progress.value = downloaded;\n",
              "          }\n",
              "        }\n",
              "      }\n",
              "      const blob = new Blob(buffers, {type: 'application/binary'});\n",
              "      const a = document.createElement('a');\n",
              "      a.href = window.URL.createObjectURL(blob);\n",
              "      a.download = filename;\n",
              "      div.appendChild(a);\n",
              "      a.click();\n",
              "      div.remove();\n",
              "    }\n",
              "  "
            ]
          },
          "metadata": {}
        },
        {
          "output_type": "display_data",
          "data": {
            "text/plain": [
              "<IPython.core.display.Javascript object>"
            ],
            "application/javascript": [
              "download(\"download_ab8b6350-cbaa-4eb8-88ca-4c60fe2f6d0f\", \"top_vendors_uni.csv\", 339)"
            ]
          },
          "metadata": {}
        }
      ]
    }
  ]
}